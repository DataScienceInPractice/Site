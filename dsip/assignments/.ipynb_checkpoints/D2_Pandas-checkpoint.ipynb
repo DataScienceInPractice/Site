{
 "cells": [
  {
   "cell_type": "markdown",
   "metadata": {},
   "source": [
    "# Pandas\n",
    "\n",
    "This is a demo assignment that is openly available for the Data Science in Practice Course. \n",
    "\n",
    "<div class=\"alert alert-danger\">\n",
    "If you are in the COGS108 course at UC San Diego, this is NOT a valid version of the assignment for the course.\n",
    "</div>"
   ]
  },
  {
   "cell_type": "markdown",
   "metadata": {
    "deletable": false,
    "editable": false,
    "nbgrader": {
     "cell_type": "markdown",
     "checksum": "d3591e631a796a6ec8a4087dfcf58011",
     "grade": false,
     "grade_id": "cell-c461989fc4347d5a",
     "locked": true,
     "schema_version": 3,
     "solution": false
    }
   },
   "source": [
    "# Part 1: Setup\n",
    "\n",
    "Throughout this assignment we'll review and get practice with the basics of using the `pandas` package for working with tabular data.\n",
    "\n",
    "You will absolutely use `pandas` throughout this course, and, if you continue to use Python for working with data in the future, will continue to use this package. This means that while you could Google and look up every `pandas` function when doing assignments, it's best to memorize the basics. So, do your best to understand each operation you carry out here, as you'll almost certainly see it again. And, try to commit the most commonly-used functions (those being presented here) to memory. It will save future you a ton of time. The more comfortable you are with `pandas`, the easier the rest of the assignments and your final project will be for you!\n",
    "\n",
    "Finally, there are a ton of great `pandas` resources and documentation out there, including [10 minutes to `pandas`](https://pandas.pydata.org/pandas-docs/stable/getting_started/10min.html). Feel free to use them! However, many of the examples in this assignment were inspired by `pandas` tips and tricks: https://www.dataschool.io/python-pandas-tips-and-tricks/. Feel free to check out all the additional tips and tricks there, many of which are *not* covered here."
   ]
  },
  {
   "cell_type": "markdown",
   "metadata": {
    "deletable": false,
    "editable": false,
    "nbgrader": {
     "cell_type": "markdown",
     "checksum": "0f440a4e9d444ce4fd5c7eaa7b9ec859",
     "grade": false,
     "grade_id": "cell-7fc559588ea9f88e",
     "locked": true,
     "schema_version": 3,
     "solution": false
    }
   },
   "source": [
    "## Q1: `import` (0.25 points)\n",
    "\n",
    "Import the `pandas` package using its typical shortname, `pd`. \n",
    "\n",
    "Import the `numpy` package using its typical shortname, `np`."
   ]
  },
  {
   "cell_type": "code",
   "execution_count": null,
   "metadata": {
    "deletable": false,
    "nbgrader": {
     "cell_type": "code",
     "checksum": "25e7bb1b02264e0ad7a343d47e2f1cbe",
     "grade": false,
     "grade_id": "cell-c2da9d770bd4316a",
     "locked": false,
     "schema_version": 3,
     "solution": true
    }
   },
   "outputs": [],
   "source": [
    "# YOUR CODE HERE\n",
    "raise NotImplementedError()"
   ]
  },
  {
   "cell_type": "code",
   "execution_count": null,
   "metadata": {
    "deletable": false,
    "editable": false,
    "nbgrader": {
     "cell_type": "code",
     "checksum": "0e0cab4750637c335ed98660c90c07aa",
     "grade": true,
     "grade_id": "cell-9da0f1efc1c13393",
     "locked": true,
     "points": 0.25,
     "schema_version": 3,
     "solution": false
    }
   },
   "outputs": [],
   "source": [
    "assert pd\n",
    "assert np"
   ]
  },
  {
   "cell_type": "markdown",
   "metadata": {
    "deletable": false,
    "editable": false,
    "nbgrader": {
     "cell_type": "markdown",
     "checksum": "82de22f61314db78d26e532ec9fd0d23",
     "grade": false,
     "grade_id": "cell-ce943ae603b324f7",
     "locked": true,
     "schema_version": 3,
     "solution": false
    }
   },
   "source": [
    "# Part 2: Data Import, DataFrames, & Series\n",
    "\n",
    "The `pandas` package has a number of helpful import functions (`read_csv()`, `read_json()`, `read_html()`, etc.)\n",
    "\n",
    "We'll use a number of these throughout the course; however, for this assignment we'll use a CSV file from [FiveThirtyEight](https://fivethirtyeight.com). The summarized data in the file we'll use here were used in the article [*The Ultimate Halloween Candy Power Ranking*](https://fivethirtyeight.com/features/the-ultimate-halloween-candy-power-ranking/). To collect these data, candies were pitted against one another with participants having to choose which they liked better."
   ]
  },
  {
   "cell_type": "markdown",
   "metadata": {
    "deletable": false,
    "editable": false,
    "nbgrader": {
     "cell_type": "markdown",
     "checksum": "a597c70564a08eccda562dbaeff89982",
     "grade": false,
     "grade_id": "cell-c0ea34b23f5158ab",
     "locked": true,
     "schema_version": 3,
     "solution": false
    }
   },
   "source": [
    "The most important functional unit of the `pandas` package is the **DataFrame**. DataFrames store information in rows and columns. \n",
    "\n",
    "Secondarily, **Series** are one-dimensional labeled arrays. They can hold data of any type.\n",
    "\n",
    "You can think of a DataFrame as a bunch of related Series stored together, such that the information in each row comes from a single observation, and each column (Series) stores information about a single variable measured across the observations.\n",
    "\n",
    "To access a column (Series) from a Dataframe, the following syntax is used:\n",
    "\n",
    "```python\n",
    "df['series']\n",
    "```\n",
    "\n",
    "Here `df` is the object storing the `pandas` dataframe and 'series' is the column name in `df` that you want to access.\n",
    "\n",
    "More information about DataFrames and Series is available [here](https://pandas.pydata.org/pandas-docs/stable/getting_started/dsintro.html)."
   ]
  },
  {
   "cell_type": "markdown",
   "metadata": {
    "deletable": false,
    "editable": false,
    "nbgrader": {
     "cell_type": "markdown",
     "checksum": "03d4e51178dda83a0ea078b59bda8cd2",
     "grade": false,
     "grade_id": "cell-1bf62e6c7f9d1496",
     "locked": true,
     "schema_version": 3,
     "solution": false
    }
   },
   "source": [
    "## Q2: Read the data into Python (0.25 points)\n",
    "\n",
    "To use the data, you'll have to read it in as a Dataframe. Use the appropriate pandas import function to read in the file from the following repo: https://github.com/fivethirtyeight/data/tree/master/candy-power-ranking.\n",
    "\n",
    "Note that URLs can be read in directly using `pandas`. The URL you'll want to use to read the file in is: 'https://raw.githubusercontent.com/fivethirtyeight/data/master/candy-power-ranking/candy-data.csv'. \n",
    "\n",
    "Store this in the variable `df`."
   ]
  },
  {
   "cell_type": "code",
   "execution_count": null,
   "metadata": {
    "deletable": false,
    "nbgrader": {
     "cell_type": "code",
     "checksum": "428cb4bb1abb192c04c6ed4ece300a44",
     "grade": false,
     "grade_id": "cell-bb3e50767dbc5476",
     "locked": false,
     "schema_version": 3,
     "solution": true
    }
   },
   "outputs": [],
   "source": [
    "# YOUR CODE HERE\n",
    "raise NotImplementedError()"
   ]
  },
  {
   "cell_type": "code",
   "execution_count": null,
   "metadata": {
    "deletable": false,
    "editable": false,
    "nbgrader": {
     "cell_type": "code",
     "checksum": "66ff0c82856b22107a955d0c8b387656",
     "grade": true,
     "grade_id": "cell-97091a3ed15412fe",
     "locked": true,
     "points": 0.25,
     "schema_version": 3,
     "solution": false
    }
   },
   "outputs": [],
   "source": [
    "assert isinstance(df, pd.DataFrame)\n",
    "assert df.shape == (85, 13)"
   ]
  },
  {
   "cell_type": "markdown",
   "metadata": {
    "deletable": false,
    "editable": false,
    "nbgrader": {
     "cell_type": "markdown",
     "checksum": "cb2acf7e79577495822209d060a14228",
     "grade": false,
     "grade_id": "cell-725f4fa704bbbc55",
     "locked": true,
     "schema_version": 3,
     "solution": false
    }
   },
   "source": [
    "## Q3: Data Summary (0.75 points)\n",
    "\n",
    "After reading in a dataset, it's often helpful to get a quick sense of what information is stored in the dataset. Here you'll carry out a number of operations that you'll carry out on almost every dataset you read into Python."
   ]
  },
  {
   "cell_type": "markdown",
   "metadata": {
    "deletable": false,
    "editable": false,
    "nbgrader": {
     "cell_type": "markdown",
     "checksum": "16899cd069f87ff8b5b0d71156e0571d",
     "grade": false,
     "grade_id": "cell-5080fa5912413265",
     "locked": true,
     "schema_version": 3,
     "solution": false
    }
   },
   "source": [
    "### Q3a: `shape`\n",
    "One way to do that is to determine the `shape` of the dataset. This reports the number of rows and columns in the dataset. Store the shape of the candy dataset in the variable `candy_shape`."
   ]
  },
  {
   "cell_type": "code",
   "execution_count": null,
   "metadata": {
    "deletable": false,
    "nbgrader": {
     "cell_type": "code",
     "checksum": "c055c71b2c886d9d19fd7754320fab6f",
     "grade": false,
     "grade_id": "cell-ac6f498dabffad6d",
     "locked": false,
     "schema_version": 3,
     "solution": true
    }
   },
   "outputs": [],
   "source": [
    "# YOUR CODE HERE\n",
    "raise NotImplementedError()"
   ]
  },
  {
   "cell_type": "code",
   "execution_count": null,
   "metadata": {
    "deletable": false,
    "editable": false,
    "nbgrader": {
     "cell_type": "code",
     "checksum": "745d9ed51758a38232cb01ba8f8832a8",
     "grade": true,
     "grade_id": "cell-093891e8258c9d72",
     "locked": true,
     "points": 0.25,
     "schema_version": 3,
     "solution": false
    }
   },
   "outputs": [],
   "source": [
    "assert candy_shape == (85, 13)"
   ]
  },
  {
   "cell_type": "markdown",
   "metadata": {
    "deletable": false,
    "editable": false,
    "nbgrader": {
     "cell_type": "markdown",
     "checksum": "e9600e8f253ba7074094ad51ab503abe",
     "grade": false,
     "grade_id": "cell-d591fd6af7e9fb05",
     "locked": true,
     "schema_version": 3,
     "solution": false
    }
   },
   "source": [
    "Note that `pandas` DataFrames also print out well when you access them. This allows you to get a sense of the information stored in your dataset overall.\n",
    "\n",
    "For example, if you run the cell below, you'll see what information is stored in this dataset."
   ]
  },
  {
   "cell_type": "code",
   "execution_count": null,
   "metadata": {
    "deletable": false,
    "editable": false,
    "nbgrader": {
     "cell_type": "code",
     "checksum": "cbe0dc75fd4bc78e77f179269f8bbc6a",
     "grade": false,
     "grade_id": "cell-6e87d8a7ac7a03b3",
     "locked": true,
     "schema_version": 3,
     "solution": false
    }
   },
   "outputs": [],
   "source": [
    "# take a look at the information stored in df\n",
    "df"
   ]
  },
  {
   "cell_type": "markdown",
   "metadata": {
    "deletable": false,
    "editable": false,
    "nbgrader": {
     "cell_type": "markdown",
     "checksum": "8f899e6e22f083926d79623380a946be",
     "grade": false,
     "grade_id": "cell-fa6a570393e0c70a",
     "locked": true,
     "schema_version": 3,
     "solution": false
    }
   },
   "source": [
    "A full description of these data can be found [here](https://github.com/fivethirtyeight/data/tree/master/candy-power-ranking). From that link, we'll include a description of each variable (column) here:\n",
    "\n",
    "Header | Description\n",
    "-------|------------\n",
    "chocolate | Does it contain chocolate?\n",
    "fruity | Is it fruit flavored?\n",
    "caramel | Is there caramel in the candy?\n",
    "peanutalmondy | Does it contain peanuts, peanut butter or almonds?\n",
    "nougat | Does it contain nougat?\n",
    "crispedricewafer | Does it contain crisped rice, wafers, or a cookie component?\n",
    "hard | Is it a hard candy?\n",
    "bar | Is it a candy bar?\n",
    "pluribus | Is it one of many candies in a bag or box?\n",
    "sugarpercent | The percentile of sugar it falls under within the data set.\n",
    "pricepercent | The unit price percentile compared to the rest of the set.\n",
    "winpercent | The overall win percentage according to 269,000 matchups.\n",
    "\n",
    "Note that many of the variables store binary information, where 0 means False and 1 means True. For example, for a Snickers bar, `chocolate` would have the value 1 (becuase it *is* chocolate), while `fruity` for the same candy would store 0 (because Snickers bars are *not* fruity)."
   ]
  },
  {
   "cell_type": "markdown",
   "metadata": {
    "deletable": false,
    "editable": false,
    "nbgrader": {
     "cell_type": "markdown",
     "checksum": "e9ff6698661c05ebff39d820fc72645d",
     "grade": false,
     "grade_id": "cell-69763c0e90c9a97c",
     "locked": true,
     "schema_version": 3,
     "solution": false
    }
   },
   "source": [
    "### Q3b: `describe`\n",
    "\n",
    "`pandas` also has a very helfpul `describe` function which will provide some helpful summary statistics about your dataframe.\n",
    "\n",
    "Use the `describe` function to calculate and display these summary statistics (You do *not* have to store the output):"
   ]
  },
  {
   "cell_type": "code",
   "execution_count": null,
   "metadata": {
    "deletable": false,
    "nbgrader": {
     "cell_type": "code",
     "checksum": "50914b719932c0ee733429f7d2c85c1a",
     "grade": false,
     "grade_id": "cell-8b32bb5354791978",
     "locked": false,
     "schema_version": 3,
     "solution": true
    }
   },
   "outputs": [],
   "source": [
    "# YOUR CODE HERE\n",
    "raise NotImplementedError()"
   ]
  },
  {
   "cell_type": "markdown",
   "metadata": {},
   "source": [
    "Using the output you just generated, answer the following questions, storing the answer in the variable at the front of each question. (For example, if you thought the answer to the first question was A, you would include `win_perc = 'A'` in the cell below.)\n",
    "\n",
    "`win_perc` : What is the highest overall win percentage among the candy included in this dataset? \n",
    "\n",
    "- A) 1.00\n",
    "- B) 98.8\n",
    "- C) 85.00\n",
    "- D) 84.18\n",
    "- E) Unable to determine\n",
    "\n",
    "`fruity` : What proportion of the dataset is comprised of fruity candy?\n",
    "- A) 0\n",
    "- B) 0.45\n",
    "- C) 0.50\n",
    "- D) 85\n",
    "- E) Unable to determine"
   ]
  },
  {
   "cell_type": "code",
   "execution_count": null,
   "metadata": {
    "deletable": false,
    "nbgrader": {
     "cell_type": "code",
     "checksum": "521170c0eff9e9048b99611191547b9f",
     "grade": false,
     "grade_id": "cell-d7a63f708a7e6172",
     "locked": false,
     "schema_version": 3,
     "solution": true
    }
   },
   "outputs": [],
   "source": [
    "# YOUR CODE HERE\n",
    "raise NotImplementedError()"
   ]
  },
  {
   "cell_type": "code",
   "execution_count": null,
   "metadata": {
    "deletable": false,
    "editable": false,
    "nbgrader": {
     "cell_type": "code",
     "checksum": "d8fda13825204f88dcba6d6ac321c598",
     "grade": true,
     "grade_id": "cell-d9ded79adedbaf5a",
     "locked": true,
     "points": 0.1,
     "schema_version": 3,
     "solution": false
    }
   },
   "outputs": [],
   "source": [
    "answers = ['A', 'B', 'C', 'D', 'E']\n",
    "assert win_perc\n",
    "assert fruity"
   ]
  },
  {
   "cell_type": "code",
   "execution_count": null,
   "metadata": {
    "deletable": false,
    "editable": false,
    "nbgrader": {
     "cell_type": "code",
     "checksum": "8e68c426c2d80bb2909f9ae1d6a12cee",
     "grade": true,
     "grade_id": "cell-49402587cc2adf2e",
     "locked": true,
     "points": 0.1,
     "schema_version": 3,
     "solution": false
    }
   },
   "outputs": [],
   "source": [
    "assert win_perc in answers\n"
   ]
  },
  {
   "cell_type": "code",
   "execution_count": null,
   "metadata": {
    "deletable": false,
    "editable": false,
    "nbgrader": {
     "cell_type": "code",
     "checksum": "54d8551bbaec3342f4481320a24177ab",
     "grade": true,
     "grade_id": "cell-15ccbf546cbe69bf",
     "locked": true,
     "points": 0.1,
     "schema_version": 3,
     "solution": false
    }
   },
   "outputs": [],
   "source": [
    "assert fruity in answers\n"
   ]
  },
  {
   "cell_type": "markdown",
   "metadata": {
    "deletable": false,
    "editable": false,
    "nbgrader": {
     "cell_type": "markdown",
     "checksum": "afeb8f5af2b22b07e2496b1af20f6995",
     "grade": false,
     "grade_id": "cell-ab8e2513af2da76c",
     "locked": true,
     "schema_version": 3,
     "solution": false
    }
   },
   "source": [
    "It's typically most helpful to access a Series of a DataFrame to then use a `pandas` method to understand more about the values in that Series. \n",
    "\n",
    "For example, we could see the values stored in the `chocolate` column using:\n",
    "\n",
    "```python\n",
    "df['chocolate']\n",
    "```\n",
    "\n",
    "However, we typically build upon this by determining some other information about the values in that Series. For example, we often want to determine how many different observations there are for each possible values in a Series with discrete information. The `value_counts()` function can be helpful in determining this."
   ]
  },
  {
   "cell_type": "markdown",
   "metadata": {
    "deletable": false,
    "editable": false,
    "nbgrader": {
     "cell_type": "markdown",
     "checksum": "0d1f63aa5ca866e49cb96cdcaaa672bb",
     "grade": false,
     "grade_id": "cell-ad906ee5113ff4fd",
     "locked": true,
     "schema_version": 3,
     "solution": false
    }
   },
   "source": [
    "### Q3c: `value_counts()`\n",
    "\n",
    "Using the `value_counts()` function, determine how many different possible values there are for the `chocolate` series in the `df` DataFrame and how many observations fall into each. \n",
    "\n",
    "Store the output in the object `chocolate_values`.\n",
    "\n",
    "Take a look at the output. Be sure you understand whether or not there are more chocolate (`chocolate == 1`) or nonchocolate candies (`chocolate == 0`) in the dataset from the output."
   ]
  },
  {
   "cell_type": "code",
   "execution_count": null,
   "metadata": {
    "deletable": false,
    "nbgrader": {
     "cell_type": "code",
     "checksum": "f3ce69151893c2e31f6535777bc9ec42",
     "grade": false,
     "grade_id": "cell-8a8641910e419fcf",
     "locked": false,
     "schema_version": 3,
     "solution": true
    }
   },
   "outputs": [],
   "source": [
    "# YOUR CODE HERE\n",
    "raise NotImplementedError()\n",
    "\n",
    "chocolate_values"
   ]
  },
  {
   "cell_type": "code",
   "execution_count": null,
   "metadata": {
    "deletable": false,
    "editable": false,
    "nbgrader": {
     "cell_type": "code",
     "checksum": "8057f91eaef3bdc796ab6a64aa1342e9",
     "grade": true,
     "grade_id": "cell-69717c7dcc326702",
     "locked": true,
     "points": 0.1,
     "schema_version": 3,
     "solution": false
    }
   },
   "outputs": [],
   "source": [
    "assert chocolate_values.loc[0] == 48"
   ]
  },
  {
   "cell_type": "markdown",
   "metadata": {
    "deletable": false,
    "editable": false,
    "nbgrader": {
     "cell_type": "markdown",
     "checksum": "8de906562d22786712f872e3466cfcb4",
     "grade": false,
     "grade_id": "cell-7f8cc71d45a78c2e",
     "locked": true,
     "schema_version": 3,
     "solution": false
    }
   },
   "source": [
    "### Missing Data\n",
    "\n",
    "There are a number of different ways in which to determine whether or not data are missing. The most common approaches are summarized here:\n",
    "\n",
    "```python\n",
    "# Calculate % of missing values in each column:\n",
    "df.isna().mean()\n",
    "\n",
    "# Drop columns with any missing values:\n",
    "df.dropna(axis='columns')\n",
    "\n",
    "# Drop columns in which more than 10% of values are missing:\n",
    "df.dropna(thresh=len(df)*0.9, axis='columns')\n",
    "\n",
    "# Want to know the *count* of missing values in a DataFrame?\n",
    "df.isna().sum().sum()\n",
    "\n",
    "# Just want to know if there are *any* missing values?\n",
    "df.isna().any().any()\n",
    "df.isna().any(axis=None)\n",
    "```\n",
    "\n",
    "Run the following cell and interpret the output:"
   ]
  },
  {
   "cell_type": "code",
   "execution_count": null,
   "metadata": {
    "deletable": false,
    "editable": false,
    "nbgrader": {
     "cell_type": "code",
     "checksum": "09c336fe49847d7298537ea367991a0b",
     "grade": false,
     "grade_id": "cell-08d340f83c4b8b0a",
     "locked": true,
     "schema_version": 3,
     "solution": false
    }
   },
   "outputs": [],
   "source": [
    "# determine which columns have missing data\n",
    "df.isna().any()"
   ]
  },
  {
   "cell_type": "markdown",
   "metadata": {
    "deletable": false,
    "editable": false,
    "nbgrader": {
     "cell_type": "markdown",
     "checksum": "baacdd65a9f251672e6b1f0e1014619c",
     "grade": false,
     "grade_id": "cell-c8811de40ac8d3b7",
     "locked": true,
     "schema_version": 3,
     "solution": false
    }
   },
   "source": [
    "### Q3d: `isna()`\n",
    "\n",
    "How many variables have missing data in this dataset? Store the value in the variable `var_missing`: "
   ]
  },
  {
   "cell_type": "code",
   "execution_count": null,
   "metadata": {
    "deletable": false,
    "nbgrader": {
     "cell_type": "code",
     "checksum": "c841c5a0335a37f66b17e24bdf4cacc9",
     "grade": false,
     "grade_id": "cell-6ef476bf30897b09",
     "locked": false,
     "schema_version": 3,
     "solution": true
    }
   },
   "outputs": [],
   "source": [
    "# YOUR CODE HERE\n",
    "raise NotImplementedError()"
   ]
  },
  {
   "cell_type": "code",
   "execution_count": null,
   "metadata": {
    "deletable": false,
    "editable": false,
    "nbgrader": {
     "cell_type": "code",
     "checksum": "db10d55f688e49ac4c2fb95510150fde",
     "grade": true,
     "grade_id": "cell-b145ccc7f92aefd1",
     "locked": true,
     "points": 0.1,
     "schema_version": 3,
     "solution": false
    }
   },
   "outputs": [],
   "source": [
    "assert isinstance(var_missing, (np.int64, int))\n"
   ]
  },
  {
   "cell_type": "markdown",
   "metadata": {},
   "source": [
    "## Q4: `replace` (0.5 points)\n",
    "\n",
    "To replace current values with different values dynamically, `replace` is very helpful.\n",
    "\n",
    "To demonstrate this, if you wanted to replace the zeroes and ones in the current dataset with boolean values, true or false, you could do this using `replace`.\n",
    "\n",
    "In `df`, replace `0` with `False` and `1` with `True`. \n",
    "\n",
    "Store this output in `df_bool`."
   ]
  },
  {
   "cell_type": "code",
   "execution_count": null,
   "metadata": {
    "deletable": false,
    "nbgrader": {
     "cell_type": "code",
     "checksum": "90fe94644b61dfa56ba4a057739b5e7d",
     "grade": false,
     "grade_id": "cell-b6aedf05da25e5df",
     "locked": false,
     "schema_version": 3,
     "solution": true
    }
   },
   "outputs": [],
   "source": [
    "# YOUR CODE HERE\n",
    "raise NotImplementedError()"
   ]
  },
  {
   "cell_type": "code",
   "execution_count": null,
   "metadata": {
    "deletable": false,
    "editable": false,
    "nbgrader": {
     "cell_type": "code",
     "checksum": "88ca29755964b5876976171f602d1bf5",
     "grade": true,
     "grade_id": "cell-177664e3f47daedd",
     "locked": true,
     "points": 0.5,
     "schema_version": 3,
     "solution": false
    }
   },
   "outputs": [],
   "source": [
    "assert df_bool.shape == df.shape\n",
    "assert df_bool.loc[1,'chocolate'] == True\n",
    "assert df_bool.iloc[0,0] == '100 Grand'"
   ]
  },
  {
   "cell_type": "markdown",
   "metadata": {
    "deletable": false,
    "editable": false,
    "nbgrader": {
     "cell_type": "markdown",
     "checksum": "19393b76dbe1bbdae8aa71ec55256d75",
     "grade": false,
     "grade_id": "cell-31cc3c7a4ac258dc",
     "locked": true,
     "schema_version": 3,
     "solution": false
    }
   },
   "source": [
    "# Part 3: Common Manipulations\n",
    "\n",
    "Regardless of the dataset you're working with, you'll want to be *very* familiar with a few common data manipulations when wrangling data, each of which is described below:\n",
    "\n",
    "Manipulation | Description\n",
    "-------|------------\n",
    "**select** | select which columns to include in dataset\n",
    "**filter** | filter dataset to only include specified rows\n",
    "**mutate** | add a new column based on values in other columns\n",
    "**groupby** | group values to apply a function within the specified groups\n",
    "**summarize** | calculate specified summary metric of a specified variable\n",
    "**arrange** | sort rows ascending or descending order of a specified column\n",
    "**merge** | join separate datasets into a single dataset based on a common column\n",
    "\n",
    "We'll review how to carry out each of these in `pandas` and you'll get practice with each."
   ]
  },
  {
   "cell_type": "markdown",
   "metadata": {
    "deletable": false,
    "editable": false,
    "nbgrader": {
     "cell_type": "markdown",
     "checksum": "31bdb1feaf1175cac61c438945705e4a",
     "grade": false,
     "grade_id": "cell-64e187e1cdab112a",
     "locked": true,
     "schema_version": 3,
     "solution": false
    }
   },
   "source": [
    "## Q5: Column Operations (2.15 points)\n",
    "\n",
    "Often we're only interested in working with some columns in a larger dataset and it's helpful to filter the dataset so that it only includes the columns we want. In these cases, we *select* the columns we're interested in by specifying these columns and returning the output.\n",
    "\n",
    "In pandas, there are a number of ways in which this can be done, but the most common is to specify a list of columns you want by name and in the order you want.\n",
    "\n",
    "For example, for a dataframe (`df`) with five columns ('A', 'B', 'C', 'D', 'E'), you could select columns 'C', 'B' and 'A' (in that order), using the following:\n",
    "\n",
    "```python\n",
    "df[['C', 'B', 'A']]\n",
    "```"
   ]
  },
  {
   "cell_type": "markdown",
   "metadata": {
    "deletable": false,
    "editable": false,
    "nbgrader": {
     "cell_type": "markdown",
     "checksum": "27ae21ec82e36e5c8a1914fcdd4750fc",
     "grade": false,
     "grade_id": "cell-1e67c440d1a0bb80",
     "locked": true,
     "schema_version": 3,
     "solution": false
    }
   },
   "source": [
    "### Q5a: selecting columns\n",
    "\n",
    "For our candy dataset, we're ultimately interested in determining the differences between chocolate and fruity candy.\n",
    "\n",
    "To just get the data we're interested in, return a DataFrame with the columns: `competitorname`, `chocolate`, `fruity`, `hard`, `bar`, `pluribus`, `sugarpercent`, `pricepercent`, and `winpercent`.\n",
    "\n",
    "Store this output  in `df` (overwriting the previous data stored in `df`)."
   ]
  },
  {
   "cell_type": "code",
   "execution_count": null,
   "metadata": {
    "deletable": false,
    "nbgrader": {
     "cell_type": "code",
     "checksum": "29d724c16c69e51d3e0a2b56ee35ba6f",
     "grade": false,
     "grade_id": "cell-c2ab4118aec49dd0",
     "locked": false,
     "schema_version": 3,
     "solution": true
    }
   },
   "outputs": [],
   "source": [
    "# YOUR CODE HERE\n",
    "raise NotImplementedError()"
   ]
  },
  {
   "cell_type": "code",
   "execution_count": null,
   "metadata": {
    "deletable": false,
    "editable": false,
    "nbgrader": {
     "cell_type": "code",
     "checksum": "a5588559bfdc28040f9a304a96aa3f7b",
     "grade": true,
     "grade_id": "cell-b0705a12bb0160b0",
     "locked": true,
     "points": 0.25,
     "schema_version": 3,
     "solution": false
    }
   },
   "outputs": [],
   "source": [
    "assert df.shape == (85, 9)"
   ]
  },
  {
   "cell_type": "markdown",
   "metadata": {
    "deletable": false,
    "editable": false,
    "nbgrader": {
     "cell_type": "markdown",
     "checksum": "05db9b4c849bfbe639309991f26080bd",
     "grade": false,
     "grade_id": "cell-c1415938fbcc073d",
     "locked": true,
     "schema_version": 3,
     "solution": false
    }
   },
   "source": [
    "### `dtypes`\n",
    "\n",
    "Occassionally, there are a number of different types of data (strings, numbers, etc.) in a DataFrame and you're only interested in data of a particular type. For example, in `df_bool`, we have the data about the candy stored as Booleans (False, True) rather than integers (0,1). \n",
    "\n",
    "To remind yourself of what type of information is stored in each column, the `dtypes` attribute can be very helpful:"
   ]
  },
  {
   "cell_type": "code",
   "execution_count": null,
   "metadata": {
    "deletable": false,
    "editable": false,
    "nbgrader": {
     "cell_type": "code",
     "checksum": "6c94cad6b075d76b9e017b8fe6e30439",
     "grade": false,
     "grade_id": "cell-e28aeeb3548b1ec0",
     "locked": true,
     "schema_version": 3,
     "solution": false
    }
   },
   "outputs": [],
   "source": [
    "# see types for each variable\n",
    "df.dtypes"
   ]
  },
  {
   "cell_type": "code",
   "execution_count": null,
   "metadata": {
    "deletable": false,
    "editable": false,
    "nbgrader": {
     "cell_type": "code",
     "checksum": "2632d9f9ac8c546231834aa239de786a",
     "grade": false,
     "grade_id": "cell-e048ff0b80e6e812",
     "locked": true,
     "schema_version": 3,
     "solution": false
    }
   },
   "outputs": [],
   "source": [
    "# see types for each variable\n",
    "df_bool.dtypes"
   ]
  },
  {
   "cell_type": "markdown",
   "metadata": {
    "deletable": false,
    "editable": false,
    "nbgrader": {
     "cell_type": "markdown",
     "checksum": "4e664d53b9889a9765c7636e956162b4",
     "grade": false,
     "grade_id": "cell-b4305d0182a3acfa",
     "locked": true,
     "schema_version": 3,
     "solution": false
    }
   },
   "source": [
    "### Q5b: Select by Data Type\n",
    "\n",
    "For the `df_bool` dataset, we're interested in selecting only the columns that are either a string (object) or a bool. \n",
    "\n",
    "Use the `pandas` `select_dtypes` function to select those columns. Note, you'll have to specify the `include` parameter. \n",
    "\n",
    "Store this output in `df_bool`"
   ]
  },
  {
   "cell_type": "code",
   "execution_count": null,
   "metadata": {
    "deletable": false,
    "nbgrader": {
     "cell_type": "code",
     "checksum": "05697a99153148885d4f532fa783c983",
     "grade": false,
     "grade_id": "cell-bf5a17583aa34ab9",
     "locked": false,
     "schema_version": 3,
     "solution": true
    }
   },
   "outputs": [],
   "source": [
    "# YOUR CODE HERE\n",
    "raise NotImplementedError()\n",
    "\n",
    "df_bool.head()"
   ]
  },
  {
   "cell_type": "code",
   "execution_count": null,
   "metadata": {
    "deletable": false,
    "editable": false,
    "nbgrader": {
     "cell_type": "code",
     "checksum": "707ae13f68ea9c2541267e8132ec6eb4",
     "grade": true,
     "grade_id": "cell-5d951bf779567f45",
     "locked": true,
     "points": 0.5,
     "schema_version": 3,
     "solution": false
    }
   },
   "outputs": [],
   "source": [
    "assert df_bool.shape == (85, 10)"
   ]
  },
  {
   "cell_type": "markdown",
   "metadata": {},
   "source": [
    "### Q5c: Renaming Columns \n",
    "Often, data have less than helpful column names. To make working with these data as simple as possible, it can be helpful to ensure that all columns have helpful column names. `rename` can help you do this\n",
    "\n",
    "Generally there are three approaches to renaming columns:\n",
    "1. Most flexible option: `df = df.rename({'A':'a', 'B':'b'}, axis='columns')`\n",
    "2. Overwrite all column names: `df.columns = ['a', 'b']`\n",
    "3. Apply string method: `df.columns = df.columns.str.lower()`\n",
    "\n",
    "For our dataset in partciular, `pluribus` is not an ideal column name. Use approach 1 above to `rename` `pluribus` to `multicandy_pack` for both the `df` and `df_bool` dataframes"
   ]
  },
  {
   "cell_type": "code",
   "execution_count": null,
   "metadata": {
    "deletable": false,
    "nbgrader": {
     "cell_type": "code",
     "checksum": "a7e2eafdd8797b8943cec653948ce254",
     "grade": false,
     "grade_id": "cell-ff872e2a15a4dfab",
     "locked": false,
     "schema_version": 3,
     "solution": true
    }
   },
   "outputs": [],
   "source": [
    "# YOUR CODE HERE\n",
    "raise NotImplementedError()"
   ]
  },
  {
   "cell_type": "code",
   "execution_count": null,
   "metadata": {
    "deletable": false,
    "editable": false,
    "nbgrader": {
     "cell_type": "code",
     "checksum": "792d8edd53311492945b5fcc71d53231",
     "grade": true,
     "grade_id": "cell-4fdb8297fcc93b4d",
     "locked": true,
     "points": 0.5,
     "schema_version": 3,
     "solution": false
    }
   },
   "outputs": [],
   "source": [
    "assert 'multicandy_pack' in df.columns\n",
    "assert 'multicandy_pack' in df_bool.columns"
   ]
  },
  {
   "cell_type": "markdown",
   "metadata": {
    "deletable": false,
    "editable": false,
    "nbgrader": {
     "cell_type": "markdown",
     "checksum": "923fc2d3e87072df709c41616fe7039b",
     "grade": false,
     "grade_id": "cell-19df1b8d3c254559",
     "locked": true,
     "schema_version": 3,
     "solution": false
    }
   },
   "source": [
    "### Q5d: Adding new columns\n",
    "\n",
    "Often when working with data we need to add additional columns that use information from existing columns.\n",
    "\n",
    "To do this, we typically use one of two approaches, summarized generally here: \n",
    "1. `assign`\n",
    "```python\n",
    "df.assign(new_col = df['col'] * val)\n",
    "```\n",
    "2. `apply`\n",
    "```python\n",
    "for col in df.columns:\n",
    "    df[f'{col}_new'] = df[col].apply(my_function)\n",
    "```\n",
    "\n",
    "For example, are there any candy in our dataset that are *neither* fruity *nor* chocolate? \n",
    "\n",
    "Use `assign` to add a new column to `df` called `fruity_choco` that adds the value in `chocolate` to the value in `fruity`. This way, the value will be 0 if it is neither fruity nor chocolate, 1 if it is one or the other and 2 if it is both.\n",
    "\n",
    "Store the output in `df`."
   ]
  },
  {
   "cell_type": "code",
   "execution_count": null,
   "metadata": {
    "deletable": false,
    "nbgrader": {
     "cell_type": "code",
     "checksum": "141fd273409012a1687155c060dd0747",
     "grade": false,
     "grade_id": "cell-897134e4698573ae",
     "locked": false,
     "schema_version": 3,
     "solution": true
    }
   },
   "outputs": [],
   "source": [
    "# YOUR CODE HERE\n",
    "raise NotImplementedError()"
   ]
  },
  {
   "cell_type": "code",
   "execution_count": null,
   "metadata": {
    "deletable": false,
    "editable": false,
    "nbgrader": {
     "cell_type": "code",
     "checksum": "02fbb9c6b587ca145114ecee921f0e0c",
     "grade": true,
     "grade_id": "cell-91773652ddb37b6d",
     "locked": true,
     "points": 0.8,
     "schema_version": 3,
     "solution": false
    }
   },
   "outputs": [],
   "source": [
    "assert isinstance(df['fruity_choco'], pd.Series)\n"
   ]
  },
  {
   "cell_type": "markdown",
   "metadata": {
    "deletable": false,
    "editable": false,
    "nbgrader": {
     "cell_type": "markdown",
     "checksum": "080a370370b4241865d24765d3bd7f3b",
     "grade": false,
     "grade_id": "cell-30dd4d72b49cbd02",
     "locked": true,
     "schema_version": 3,
     "solution": false
    }
   },
   "source": [
    "Let's take a look at this new variable we created. We can use `value_counts()` to determine how many candies fall into each category:"
   ]
  },
  {
   "cell_type": "code",
   "execution_count": null,
   "metadata": {
    "deletable": false,
    "editable": false,
    "nbgrader": {
     "cell_type": "code",
     "checksum": "afc110ba8b2c97473d8dc2841c51ae15",
     "grade": false,
     "grade_id": "cell-0a12d5ade824a240",
     "locked": true,
     "schema_version": 3,
     "solution": false
    }
   },
   "outputs": [],
   "source": [
    "# see breakdown of 'fruity_choco' column\n",
    "df['fruity_choco'].value_counts()"
   ]
  },
  {
   "cell_type": "markdown",
   "metadata": {
    "deletable": false,
    "editable": false,
    "nbgrader": {
     "cell_type": "markdown",
     "checksum": "a8cf415cb1ef64fb41da9461c57b74f6",
     "grade": false,
     "grade_id": "cell-f869da662798dd99",
     "locked": true,
     "schema_version": 3,
     "solution": false
    }
   },
   "source": [
    "### Q5e: neither\n",
    "\n",
    "Take a look at the output above. How many candies are neither fruity nor chocolate? Store this value in the variable `neither`."
   ]
  },
  {
   "cell_type": "code",
   "execution_count": null,
   "metadata": {
    "deletable": false,
    "nbgrader": {
     "cell_type": "code",
     "checksum": "52b332a52810c90533cee980d85ec2e9",
     "grade": false,
     "grade_id": "cell-afc9af9e5580607e",
     "locked": false,
     "schema_version": 3,
     "solution": true
    }
   },
   "outputs": [],
   "source": [
    "# YOUR CODE HERE\n",
    "raise NotImplementedError()"
   ]
  },
  {
   "cell_type": "code",
   "execution_count": null,
   "metadata": {
    "deletable": false,
    "editable": false,
    "nbgrader": {
     "cell_type": "code",
     "checksum": "b7ef766f7f6983e2669cf3cce9024f91",
     "grade": true,
     "grade_id": "cell-90e49b09425a5eff",
     "locked": true,
     "points": 0.1,
     "schema_version": 3,
     "solution": false
    }
   },
   "outputs": [],
   "source": [
    "assert neither >= 0 and neither <= len(df)\n"
   ]
  },
  {
   "cell_type": "markdown",
   "metadata": {
    "deletable": false,
    "editable": false,
    "nbgrader": {
     "cell_type": "markdown",
     "checksum": "314fc0994d138453cfe93d5b656c7883",
     "grade": false,
     "grade_id": "cell-5afe4c7f0a439fd9",
     "locked": true,
     "schema_version": 3,
     "solution": false
    }
   },
   "source": [
    "## Q6: Row Operations (1.3 points)\n",
    "\n",
    "In addition to column operations, filtering rows to only include those of interest to your analysis can be very important. For example, if we wanted to only include candy that was either chocolate or fruity, we would want to filter to only include the candies that fit that criterion. \n",
    "\n",
    "To do this, we have to *filter* the data, using **slicing**."
   ]
  },
  {
   "cell_type": "markdown",
   "metadata": {
    "deletable": false,
    "editable": false,
    "nbgrader": {
     "cell_type": "markdown",
     "checksum": "0ceecfcd348e3f2a06c9eaf377d6a2d6",
     "grade": false,
     "grade_id": "cell-4a832dfaa9cc7051",
     "locked": true,
     "schema_version": 3,
     "solution": false
    }
   },
   "source": [
    "### slicing:  `loc` and `iloc`\n",
    "\n",
    "Subsets of data from a DataFrame can also be extracted through the use of slicing. There are two general approaches to slicing:\n",
    "\n",
    "Manipulation | Description\n",
    "-------|------------\n",
    "`loc` | label-based indexing \n",
    "`iloc` | integer-based indexing\n",
    "\n",
    "For example, you could use `loc`: \n",
    "\n",
    "```python\n",
    "df.loc[:, ['A', 'B', 'C']]\n",
    "```\n",
    "\n",
    "This would return all rows (indicated by the `:`) and three columns  `['A', 'B', 'C']`.\n",
    "\n",
    "Alternatively, integer-based indexing could be used with `iloc` (where the `i` stands for index):\n",
    "\n",
    "```python\n",
    "df.iloc[0:5, 0:5]\n",
    "```\n",
    "\n",
    "This would return the first five rows and columns of the dataframe `df`. (As a reminder: when indicating ranges in Python, the final value is not included in what is returned. So, this returns the zero-th through the 4th indices. Index 5 is not included in the output)\n",
    "\n",
    "Python also uses *zero-based indexing* which means the first element is indexed as zero, the second has index 1, and so on."
   ]
  },
  {
   "cell_type": "markdown",
   "metadata": {
    "deletable": false,
    "editable": false,
    "nbgrader": {
     "cell_type": "markdown",
     "checksum": "a86dbf530e5f92a1ba19d7e51dd2b64f",
     "grade": false,
     "grade_id": "cell-59cf59a2e4fc740c",
     "locked": true,
     "schema_version": 3,
     "solution": false
    }
   },
   "source": [
    "### Q6a: Slicing\n",
    "\n",
    "The concept of slicing can be combined with conditionals. For example, you can return all rows of a particular value. \n",
    "\n",
    "Using `value_counts()` above on the `fruity_choco` column we created, we see that there is one candy that is both chocolate and fruity in our dataset. Let's figure out which candy that was!\n",
    "\n",
    "Use slicing to return the row from `df` where `fruity_choco` indicated the candy was both fruity and chocolate. \n",
    "\n",
    "Store this DataFrame (which will have a single row) as `both`. \n",
    "Again using indexing, store the name of the candy that is both fruity and chocolate in the variable `candy_name`."
   ]
  },
  {
   "cell_type": "code",
   "execution_count": null,
   "metadata": {
    "deletable": false,
    "nbgrader": {
     "cell_type": "code",
     "checksum": "55bb3a94ed34f3699fe3707a71ce7a6f",
     "grade": false,
     "grade_id": "cell-fa238bb1d8162df1",
     "locked": false,
     "schema_version": 3,
     "solution": true
    }
   },
   "outputs": [],
   "source": [
    "# YOUR CODE HERE\n",
    "raise NotImplementedError()\n"
   ]
  },
  {
   "cell_type": "code",
   "execution_count": null,
   "metadata": {
    "deletable": false,
    "editable": false,
    "nbgrader": {
     "cell_type": "code",
     "checksum": "fea3182c2ca09e4f4c5f997e9bb2a9d2",
     "grade": true,
     "grade_id": "cell-d233a4b6a2faf052",
     "locked": true,
     "points": 0.8,
     "schema_version": 3,
     "solution": false
    }
   },
   "outputs": [],
   "source": [
    "assert type(both) == pd.DataFrame\n",
    "assert both.shape == (1, 10)\n",
    "assert isinstance(candy_name, str)\n"
   ]
  },
  {
   "cell_type": "markdown",
   "metadata": {
    "deletable": false,
    "editable": false,
    "nbgrader": {
     "cell_type": "markdown",
     "checksum": "d6115499cfcedb8adae4aef9eb67cdb1",
     "grade": false,
     "grade_id": "cell-8a02048d9ece3754",
     "locked": true,
     "schema_version": 3,
     "solution": false
    }
   },
   "source": [
    "## Filtering rows\n",
    "\n",
    "DataFrames can be subset in a number of different ways. For example, to filter a DataFrame to only include certain rows, you could use the approaches summarized here:\n",
    "\n",
    "If you wanted to filter a DataFrame by a condition, you could use the following approach:\n",
    "\n",
    "```python\n",
    "df[df.color == 'red']\n",
    "```\n",
    "\n",
    "Note that this extends and works with multiple OR conditions:\n",
    "\n",
    "```python\n",
    "df[(df.color == 'red') | (df.color == 'green') | (df.color == 'blue')]\n",
    "```\n",
    "\n",
    "A shorter approach to this would utilize `isin`:\n",
    "```ptyhon\n",
    "df[df.color.isin(['red', 'green', 'blue'])]\n",
    "```\n"
   ]
  },
  {
   "cell_type": "markdown",
   "metadata": {
    "deletable": false,
    "editable": false,
    "nbgrader": {
     "cell_type": "markdown",
     "checksum": "aa44d5d7b24053bd18d59bc0e2ccb945",
     "grade": false,
     "grade_id": "cell-97dcb7f4e5f9b325",
     "locked": true,
     "schema_version": 3,
     "solution": false
    }
   },
   "source": [
    "### Q6b: Filtering\n",
    "\n",
    "Using this concept, filter `df` to only include rows that contain candy that is fruity or chocolate in some capacity (meaning, something that is both fruity and chocolate *would* be included). \n",
    "\n",
    "Store this output in `df`."
   ]
  },
  {
   "cell_type": "code",
   "execution_count": null,
   "metadata": {
    "deletable": false,
    "nbgrader": {
     "cell_type": "code",
     "checksum": "e69f88c907b97814da4ec1be0e6e2d1b",
     "grade": false,
     "grade_id": "cell-9a45ccf076c2d555",
     "locked": false,
     "schema_version": 3,
     "solution": true
    }
   },
   "outputs": [],
   "source": [
    "# YOUR CODE HERE\n",
    "raise NotImplementedError()"
   ]
  },
  {
   "cell_type": "code",
   "execution_count": null,
   "metadata": {
    "deletable": false,
    "editable": false,
    "nbgrader": {
     "cell_type": "code",
     "checksum": "1c6b8a9fdb2c7e673e89065597662e4b",
     "grade": true,
     "grade_id": "cell-ab9b081ed4389663",
     "locked": true,
     "points": 0.5,
     "schema_version": 3,
     "solution": false
    }
   },
   "outputs": [],
   "source": [
    "assert df.shape == (74, 10)\n",
    "assert not any(df['fruity_choco'] == 0)"
   ]
  },
  {
   "cell_type": "markdown",
   "metadata": {
    "deletable": false,
    "editable": false,
    "nbgrader": {
     "cell_type": "markdown",
     "checksum": "fc53fa161ac6d3fdbf283bbf24699268",
     "grade": false,
     "grade_id": "cell-afde4a132a4ee2dd",
     "locked": true,
     "schema_version": 3,
     "solution": false
    }
   },
   "source": [
    "### aside: calculations on subsets of the data\n",
    "\n",
    "Calculations can be carried out on columns using conditionals. For example, if you wanted to determine how many of the candies in our current dataset are part of a pack of candy with multiple types of candy in the pack, you could use `sum()` on the subset of the data that meets that condition"
   ]
  },
  {
   "cell_type": "code",
   "execution_count": null,
   "metadata": {
    "deletable": false,
    "editable": false,
    "nbgrader": {
     "cell_type": "code",
     "checksum": "680673338afa1d4378b721880722efcf",
     "grade": false,
     "grade_id": "cell-f7cd0a2b591ad8a2",
     "locked": true,
     "schema_version": 3,
     "solution": false
    }
   },
   "outputs": [],
   "source": [
    "# carry out calculation\n",
    "(df['multicandy_pack']==1).sum()"
   ]
  },
  {
   "cell_type": "markdown",
   "metadata": {
    "deletable": false,
    "editable": false,
    "nbgrader": {
     "cell_type": "markdown",
     "checksum": "39f8643dbab254884563c2348d12a401",
     "grade": false,
     "grade_id": "cell-36aa0323bb69c075",
     "locked": true,
     "schema_version": 3,
     "solution": false
    }
   },
   "source": [
    "## Q7: arrange rows (1.1 points)\n",
    "\n",
    "While you don't always care about what order the rows are sorted, at times it can be helpful to sort a DataFrame so that the rows are ordered in a particular manner.\n",
    "\n",
    "To do this, `sort_values` can be very helpful. For example, to sort by the values in 'col', you would use the following:\n",
    "\n",
    "```python\n",
    "df.sort_values(by=['col'])\n",
    "```\n",
    "\n",
    "To arrange (sort) the rows by more than one column, the syntax changes slightly:\n",
    "\n",
    "```python\n",
    "df.sort_values(by=['col1', 'col2'])\n",
    "```"
   ]
  },
  {
   "cell_type": "markdown",
   "metadata": {
    "deletable": false,
    "editable": false,
    "nbgrader": {
     "cell_type": "markdown",
     "checksum": "c87dc89983636cf7f0dcf6ff7dd4c181",
     "grade": false,
     "grade_id": "cell-90cb3c9931efbcb8",
     "locked": true,
     "schema_version": 3,
     "solution": false
    }
   },
   "source": [
    "### Q7a: `sort_values`\n",
    "\n",
    "Specifically, `df` is currently sorted in alphabetical order by competitor name (candy). What if we were most curious about the sugar percentile of where the candy falls within the dataset? \n",
    "\n",
    "**Arrange the rows** in `df` such that the candy with the highest `sugarpercent` is displayed first and the lowest `sugarpercent` last. Store this in `df.`\n",
    "\n",
    "Also, note that when using `sort_values`, the original indices are retained. So, also **reset the index** of `df` so that the highest `sugarpercent` candy is index 0."
   ]
  },
  {
   "cell_type": "code",
   "execution_count": null,
   "metadata": {
    "deletable": false,
    "nbgrader": {
     "cell_type": "code",
     "checksum": "67c164910219b30a564eb8298dbb131a",
     "grade": false,
     "grade_id": "cell-c74a89842d8da681",
     "locked": false,
     "schema_version": 3,
     "solution": true
    }
   },
   "outputs": [],
   "source": [
    "# YOUR CODE HERE\n",
    "raise NotImplementedError()"
   ]
  },
  {
   "cell_type": "code",
   "execution_count": null,
   "metadata": {
    "deletable": false,
    "editable": false,
    "nbgrader": {
     "cell_type": "code",
     "checksum": "1edf166574303c17cca578fbabfb0b2d",
     "grade": true,
     "grade_id": "cell-32a07075cb2710b1",
     "locked": true,
     "points": 1,
     "schema_version": 3,
     "solution": false
    }
   },
   "outputs": [],
   "source": [
    "assert df.loc[0,'competitorname'] != '100 Grand'\n",
    "assert np.allclose(df.loc[0,'sugarpercent'], 0.988)\n"
   ]
  },
  {
   "cell_type": "code",
   "execution_count": null,
   "metadata": {
    "deletable": false,
    "editable": false,
    "nbgrader": {
     "cell_type": "code",
     "checksum": "f5f3c08ef37fb585da961ab191595266",
     "grade": false,
     "grade_id": "cell-23b05233a9d133b9",
     "locked": true,
     "schema_version": 3,
     "solution": false
    }
   },
   "outputs": [],
   "source": [
    "# take a look at the first few rows\n",
    "df.head()"
   ]
  },
  {
   "cell_type": "markdown",
   "metadata": {
    "deletable": false,
    "editable": false,
    "nbgrader": {
     "cell_type": "markdown",
     "checksum": "3945520930b3a25cb949ffa6e6cbba51",
     "grade": false,
     "grade_id": "cell-2a8ce77c8704b8c9",
     "locked": true,
     "schema_version": 3,
     "solution": false
    }
   },
   "source": [
    "### Q7b: Sugar Rush\n",
    "\n",
    "Which candy in our dataset is the sugariest? Record your answer in the variable `sugary`. For example, if you thought the answer was A, you would submit `sugary = 'A'`.\n",
    "\n",
    "- A) Reese's Miniatures\n",
    "- B) Chiclets\n",
    "- C) 100 Grand\n",
    "- D) Reese's Stuffed with Pieces\n",
    "- E) Candy not listed here"
   ]
  },
  {
   "cell_type": "code",
   "execution_count": null,
   "metadata": {
    "deletable": false,
    "nbgrader": {
     "cell_type": "code",
     "checksum": "54dbc04d2cbc918632ea1478bc5f89f0",
     "grade": false,
     "grade_id": "cell-97793479a4daae1a",
     "locked": false,
     "schema_version": 3,
     "solution": true
    }
   },
   "outputs": [],
   "source": [
    "# YOUR CODE HERE\n",
    "raise NotImplementedError()"
   ]
  },
  {
   "cell_type": "code",
   "execution_count": null,
   "metadata": {
    "deletable": false,
    "editable": false,
    "nbgrader": {
     "cell_type": "code",
     "checksum": "f2067fdbbc0500548d19a279531dc942",
     "grade": true,
     "grade_id": "cell-77747574cd26f397",
     "locked": true,
     "points": 0.1,
     "schema_version": 3,
     "solution": false
    }
   },
   "outputs": [],
   "source": [
    "assert isinstance(sugary, str)\n"
   ]
  },
  {
   "cell_type": "markdown",
   "metadata": {
    "deletable": false,
    "editable": false,
    "nbgrader": {
     "cell_type": "markdown",
     "checksum": "1bf2b71c97a2fd04443f4eb3dc969c88",
     "grade": false,
     "grade_id": "cell-2ea81cef31d9ac80",
     "locked": true,
     "schema_version": 3,
     "solution": false
    }
   },
   "source": [
    "## Q8: `groupby` + `agg` (1.2 points)\n",
    "\n",
    "Once a dataset is in order, including the columns and rows that you need for your analysis, it's often helpful to carry out some grouped operations. `groupby` allows you to group the data in your dataset by the values in a specific column. `agg` is then helpful for carrying out the operation you're interested in within the groups.\n",
    "\n",
    "For example, if you wanted to `groupby` a candy's `chocolate` status and then carry out some calculations within the group, say, determine the average value for the other variables in the dataset, grouped by `chocolate` status, you could use `agg` to do so.\n",
    "\n",
    "```python\n",
    "df.groupby('chocolate').agg('mean')\n",
    "```"
   ]
  },
  {
   "cell_type": "code",
   "execution_count": null,
   "metadata": {
    "deletable": false,
    "editable": false,
    "nbgrader": {
     "cell_type": "code",
     "checksum": "dc312456d4a86fd6fc157aa9d7df532a",
     "grade": false,
     "grade_id": "cell-725825174cc08846",
     "locked": true,
     "schema_version": 3,
     "solution": false
    }
   },
   "outputs": [],
   "source": [
    "# carry out operation\n",
    "df.groupby('chocolate').agg('mean')"
   ]
  },
  {
   "cell_type": "markdown",
   "metadata": {
    "deletable": false,
    "editable": false,
    "nbgrader": {
     "cell_type": "markdown",
     "checksum": "e55def6c7408e0096fd6a5746e2a583f",
     "grade": false,
     "grade_id": "cell-5f69742dfaa9a371",
     "locked": true,
     "schema_version": 3,
     "solution": false
    }
   },
   "source": [
    "### Q8a: Cost Interpretation\n",
    "\n",
    "Looking at the output in the previous cell, which type of candy costs more, fruity candy or chocolate candy? Store your response in `candy_cost`. For example, if you thought the answer was A, you would submit `candy_cost = 'A'`.\n",
    "\n",
    "- A) chocolate costs more\n",
    "- B) fruity costs more\n",
    "- C) chocolate and fruity cost the same\n",
    "- D) can't be determined"
   ]
  },
  {
   "cell_type": "code",
   "execution_count": null,
   "metadata": {
    "deletable": false,
    "nbgrader": {
     "cell_type": "code",
     "checksum": "c2f016ab168b1fc83f8931cfb9031497",
     "grade": false,
     "grade_id": "cell-5cd4838d1f642957",
     "locked": false,
     "schema_version": 3,
     "solution": true
    }
   },
   "outputs": [],
   "source": [
    "# YOUR CODE HERE\n",
    "raise NotImplementedError()"
   ]
  },
  {
   "cell_type": "code",
   "execution_count": null,
   "metadata": {
    "deletable": false,
    "editable": false,
    "nbgrader": {
     "cell_type": "code",
     "checksum": "d4681aab508069893006f7b773318bad",
     "grade": true,
     "grade_id": "cell-055fdf15e33719bc",
     "locked": true,
     "points": 0.1,
     "schema_version": 3,
     "solution": false
    }
   },
   "outputs": [],
   "source": [
    "assert isinstance(candy_cost, str)\n"
   ]
  },
  {
   "cell_type": "markdown",
   "metadata": {
    "deletable": false,
    "editable": false,
    "nbgrader": {
     "cell_type": "markdown",
     "checksum": "6fed178e9cc0d1cd5f006564c06eb52a",
     "grade": false,
     "grade_id": "cell-8f57b791a9961cda",
     "locked": true,
     "schema_version": 3,
     "solution": false
    }
   },
   "source": [
    "### Q8b: specific column aggregation\n",
    "\n",
    "Carrying out a similar operation, group `df` by `fruity`, and then calculate the minimum, average (mean), and maximum values, **for the `sugarpercent` column only**. \n",
    "\n",
    "For this, fruity should be the name for the indices and your column names should be 'min', 'mean', and 'max'.\n",
    "\n",
    "Store this result in `sugar_summary`.\n",
    "\n",
    "#### Note: the `pandas` documentation [here](https://pandas.pydata.org/pandas-docs/version/0.22/generated/pandas.core.groupby.DataFrameGroupBy.agg.html) may help you if you're struggling to figure out the syntax"
   ]
  },
  {
   "cell_type": "code",
   "execution_count": null,
   "metadata": {
    "deletable": false,
    "nbgrader": {
     "cell_type": "code",
     "checksum": "c760cbad3b66f527d0e0ce0b326b2adc",
     "grade": false,
     "grade_id": "cell-edb88b72c1a4ef08",
     "locked": false,
     "schema_version": 3,
     "solution": true
    }
   },
   "outputs": [],
   "source": [
    "# YOUR CODE HERE\n",
    "raise NotImplementedError()\n",
    "\n",
    "# look at output\n",
    "sugar_summary"
   ]
  },
  {
   "cell_type": "code",
   "execution_count": null,
   "metadata": {
    "deletable": false,
    "editable": false,
    "nbgrader": {
     "cell_type": "code",
     "checksum": "99f2057ec21d6cdd35ee8a5851235fb7",
     "grade": true,
     "grade_id": "cell-147d0f5938abf60d",
     "locked": true,
     "points": 1,
     "schema_version": 3,
     "solution": false
    }
   },
   "outputs": [],
   "source": [
    "assert type(sugar_summary) == pd.DataFrame\n",
    "assert sugar_summary.index.name == 'fruity'\n",
    "assert 'min' in sugar_summary.columns\n",
    "assert np.isclose(sugar_summary.loc[0,'min'], 0.034)"
   ]
  },
  {
   "cell_type": "markdown",
   "metadata": {
    "deletable": false,
    "editable": false,
    "nbgrader": {
     "cell_type": "markdown",
     "checksum": "80532d1730bcc2e791098db0ed5e6702",
     "grade": false,
     "grade_id": "cell-4492e4d6726dfc38",
     "locked": true,
     "schema_version": 3,
     "solution": false
    }
   },
   "source": [
    "### Q8c: Sugar Interpretation\n",
    "\n",
    "Looking at the output in Q8b, which type of candy has the higher average sugar percentile, fruity candy or chocolate candy? Store your response in `candy_sugar`. For example, if you thought the answer was A, you would submit `candy_sugar = 'A'`.\n",
    "\n",
    "- A) chocolate has higher average sugar percentile\n",
    "- B) fruity candy has higher average sugar percentile\n",
    "- C) chocolate and fruity have the same average sugar percentile\n",
    "- D) can't be determined"
   ]
  },
  {
   "cell_type": "code",
   "execution_count": null,
   "metadata": {
    "deletable": false,
    "nbgrader": {
     "cell_type": "code",
     "checksum": "9fe7ad4f853153fd5b95a52bf94f5921",
     "grade": false,
     "grade_id": "cell-5e9dba15f1a03b4e",
     "locked": false,
     "schema_version": 3,
     "solution": true
    }
   },
   "outputs": [],
   "source": [
    "# YOUR CODE HERE\n",
    "raise NotImplementedError()"
   ]
  },
  {
   "cell_type": "code",
   "execution_count": null,
   "metadata": {
    "deletable": false,
    "editable": false,
    "nbgrader": {
     "cell_type": "code",
     "checksum": "b93802124d5ad961bc1fe4a2feebbc55",
     "grade": true,
     "grade_id": "cell-0c2bd7da6f2220c1",
     "locked": true,
     "points": 0.1,
     "schema_version": 3,
     "solution": false
    }
   },
   "outputs": [],
   "source": [
    "assert isinstance(candy_sugar, str)\n"
   ]
  },
  {
   "cell_type": "markdown",
   "metadata": {
    "deletable": false,
    "editable": false,
    "nbgrader": {
     "cell_type": "markdown",
     "checksum": "489143aa2baf0983dc7b17b922eaebef",
     "grade": false,
     "grade_id": "cell-b709563be316715f",
     "locked": true,
     "schema_version": 3,
     "solution": false
    }
   },
   "source": [
    "## The End!\n",
    "\n",
    "Good work! While this just scratches the surface of what you can use `pandas` to do, we covered common manipulations you'll do *a lot*. Do your best to understand each operation you carried out here, becoming as familiar with `pandas`, common operations, and the syntax, as possible. These will be used throughout this quarter and (most likely) whenever you're working with tabular data in Python.\n",
    "\n",
    "Have a look back over your answers, and also make sure to `Restart & Run All` from the kernel menu to double check that everything is working properly. You can also use the 'Validate' button above, which runs your notebook from top to bottom and checks to ensure all `assert` statements pass. When you are ready, submit on datahub!"
   ]
  }
 ],
 "metadata": {
  "kernelspec": {
   "display_name": "Python 3",
   "language": "python",
   "name": "python3"
  },
  "language_info": {
   "codemirror_mode": {
    "name": "ipython",
    "version": 3
   },
   "file_extension": ".py",
   "mimetype": "text/x-python",
   "name": "python",
   "nbconvert_exporter": "python",
   "pygments_lexer": "ipython3",
   "version": "3.7.4"
  }
 },
 "nbformat": 4,
 "nbformat_minor": 2
}
