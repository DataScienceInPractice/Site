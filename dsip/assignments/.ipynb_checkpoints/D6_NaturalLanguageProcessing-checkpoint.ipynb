{
 "cells": [
  {
   "cell_type": "markdown",
   "metadata": {},
   "source": [
    "# Natural Language Processing\n",
    "\n",
    "This is a demo assignment that is openly available for the Data Science in Practice Course. \n",
    "\n",
    "<div class=\"alert alert-danger\">\n",
    "If you are in the COGS108 course at UC San Diego, this is NOT a valid version of the assignment for the course.\n",
    "</div>"
   ]
  },
  {
   "cell_type": "markdown",
   "metadata": {
    "deletable": false,
    "editable": false,
    "nbgrader": {
     "cell_type": "markdown",
     "checksum": "f531ea4a365ceb09d85090e09f7336fb",
     "grade": false,
     "grade_id": "cell-8499cb794c95ec9d",
     "locked": true,
     "schema_version": 3,
     "solution": false
    }
   },
   "source": [
    "# Important\n",
    "\n",
    "- This assignment has hidden tests: tests that are not visible here, but that will be run on your submitted assignment for grading.\n",
    "    - This means passing all the tests you can see in the notebook here does not guarantee you have the right answer!\n",
    "    - In particular many of the tests you can see simply check that the right variable names exist. Hidden tests check the actual values. \n",
    "        - It is up to you to check the values, and make sure they seem reasonable.\n",
    "- A reminder to restart the kernel and re-run the code as a first line check if things seem to go weird.\n",
    "    - For example, note that some cells can only be run once, because they re-write a variable (for example, your dataframe), and change it in a way that means a second execution will fail. \n",
    "    - Also, running some cells out of order might change the dataframe in ways that may cause an error, which can be fixed by re-running."
   ]
  },
  {
   "cell_type": "markdown",
   "metadata": {
    "deletable": false,
    "editable": false,
    "nbgrader": {
     "cell_type": "markdown",
     "checksum": "22e23ed59d4223e008ae704b0a73cc2c",
     "grade": false,
     "grade_id": "cell-6b464efd2fb5aabd",
     "locked": true,
     "schema_version": 3,
     "solution": false
    }
   },
   "source": [
    "# Background & Work Flow\n",
    "\n",
    "- In this homework assignment, we will be analyzing text data. A common approach to analyzing text data is to use methods that allow us to convert text data into some kind of numerical representation - since we can then use all of our mathematical tools on such data. In this assignment, we will explore 2 feature engineering methods that convert raw text data into numerical vectors:\n",
    "    - **Bag of Words (BoW)**\n",
    "        - BoW encodes an input sentence as the frequency of each word in the sentence. \n",
    "        - In this approach, all words contribute equally to the feature vectors.\n",
    "    - **Term Frequency - Inverse Document Frequency (TF-IDF)**\n",
    "        - TF-IDF is a measure of how important each term is to a specific document, as compared to an overall corpus. \n",
    "        - TF-IDF encodes each word as its frequency in the document of interest, divided by a measure of how common the word is across all documents (the corpus).\n",
    "        - Using this approach, each word contributes differently to the feature vectors.\n",
    "        - The assumption behind using TF-IDF is that words that appear commonly everywhere are not that informative about what is specifically interesting about a document of interest, so it is tuned to representing a document in terms of the words it uses that are different from other documents. \n",
    "\n",
    "- To compare those 2 methods, we will first apply them on the same Movie Review dataset to analyse sentiment (how positive or negative a text is). In order to make the comparison fair, an **SVM (support vector machine)** classifier will be used to classify positive reviews and negative reviews.\n",
    "\n",
    "- SVM is a simple yet powerful and interpretable linear model. To use it as a classifier, we need to have at least 2 splits of the data: training data and test data. The training data is used to tune the weight parameters in the SVM to learn an optimal way to classify the training data. We can then test this trained SVM classifier on the test data, to see how well it works on data that the classifier has not seen before. "
   ]
  },
  {
   "cell_type": "code",
   "execution_count": null,
   "metadata": {
    "deletable": false,
    "editable": false,
    "nbgrader": {
     "cell_type": "code",
     "checksum": "b5f8ff71818ecc90d63d152e93fe6efd",
     "grade": false,
     "grade_id": "Imports",
     "locked": true,
     "schema_version": 3,
     "solution": false
    }
   },
   "outputs": [],
   "source": [
    "# Imports - these are all the imports needed for the assignment\n",
    "%matplotlib inline\n",
    "\n",
    "import numpy as np\n",
    "import pandas as pd\n",
    "import matplotlib.pyplot as plt\n",
    "\n",
    "# Import nltk package \n",
    "#   PennTreeBank word tokenizer \n",
    "#   English language stopwords\n",
    "import nltk\n",
    "from nltk.tokenize import word_tokenize\n",
    "from nltk.corpus import stopwords\n",
    "\n",
    "import warnings\n",
    "warnings.filterwarnings('ignore')\n",
    "\n",
    "# scikit-learn imports\n",
    "#   SVM (Support Vector Machine) classifer \n",
    "#   Vectorizer, which transforms text data into bag-of-words feature\n",
    "#   TF-IDF Vectorizer that first removes widely used words in the dataset and then transforms test data\n",
    "#   Metrics functions to evaluate performance\n",
    "from sklearn.svm import SVC\n",
    "from sklearn.feature_extraction.text import CountVectorizer, TfidfVectorizer\n",
    "from sklearn.metrics import classification_report, precision_recall_fscore_support"
   ]
  },
  {
   "cell_type": "markdown",
   "metadata": {
    "deletable": false,
    "editable": false,
    "nbgrader": {
     "cell_type": "markdown",
     "checksum": "5632b559471c292d87ec10648f5ba360",
     "grade": false,
     "grade_id": "cell-d96a6fcbdcbed177",
     "locked": true,
     "schema_version": 3,
     "solution": false
    }
   },
   "source": [
    "For this assignment we will be using `nltk`: the Natural Language Toolkit.\n",
    "\n",
    "To do so, we will need to download some text data.\n",
    "\n",
    "Natural language processing (NLP) often requires corpus data (lists of words, and/or example text data) which is what we will download here now, if you don't already have them."
   ]
  },
  {
   "cell_type": "code",
   "execution_count": null,
   "metadata": {},
   "outputs": [],
   "source": [
    "# In the cell below, we will download some files from nltk. \n",
    "#   If you hit an error doing so, come back to this cell, and uncomment and run the code below. \n",
    "#   This code gives python permission to write to your disk (if it doesn't already have persmission to do so)\n",
    "\n",
    "# import ssl\n",
    "\n",
    "# try:\n",
    "#     _create_unverified_https_context = ssl._create_unverified_context\n",
    "# except AttributeError:\n",
    "#     pass\n",
    "# else:\n",
    "#     ssl._create_default_https_context = _create_unverified_https_context"
   ]
  },
  {
   "cell_type": "code",
   "execution_count": null,
   "metadata": {
    "deletable": false,
    "editable": false,
    "nbgrader": {
     "cell_type": "code",
     "checksum": "9f82bd6229164ec98da8b4dc9a3bf25e",
     "grade": false,
     "grade_id": "cell-04e576aebbcdfe34",
     "locked": true,
     "schema_version": 3,
     "solution": false
    }
   },
   "outputs": [],
   "source": [
    "# Download the NLTK English tokenizer and the stopwords of all languages\n",
    "nltk.download('punkt')\n",
    "nltk.download('stopwords')"
   ]
  },
  {
   "cell_type": "markdown",
   "metadata": {},
   "source": [
    "### Downloading Data\n",
    "\n",
    "If you download this notebook to run locally, you will also need some data files.\n",
    "\n",
    "Running the next cell will download the required files for this assignment.\n",
    "\n",
    "You can also view and download these files from [https://github.com/DataScienceInPractice/Data](https://github.com/DataScienceInPractice/Data)."
   ]
  },
  {
   "cell_type": "code",
   "execution_count": null,
   "metadata": {},
   "outputs": [],
   "source": [
    "from os.path import join as pjoin\n",
    "from urllib.request import urlretrieve\n",
    "\n",
    "data_url = 'https://raw.githubusercontent.com/DataScienceInPractice/Data/master/'\n",
    "\n",
    "# Fill in these values\n",
    "assignment = 'A6'\n",
    "data_files = ['custrev_test.tsv', 'custrev_train.tsv', 'rt-polarity.tsv']\n",
    "\n",
    "for data_file in data_files:\n",
    "    full_path = pjoin(data_url, assignment, data_file)\n",
    "    urlretrieve(full_path, filename=data_file)"
   ]
  },
  {
   "cell_type": "markdown",
   "metadata": {
    "deletable": false,
    "editable": false,
    "nbgrader": {
     "cell_type": "markdown",
     "checksum": "7f08709cffb5721f02f3cf1f285e86e3",
     "grade": false,
     "grade_id": "cell-c728326960d37d88",
     "locked": true,
     "schema_version": 3,
     "solution": false
    }
   },
   "source": [
    "# Part 1: Sentiment Analysis on Movie Review Data (4.25 points)\n",
    "\n",
    "In part 1 we will apply sentiment analysis to Movie Review (MR) data.\n",
    "\n",
    "- The MR data contains more than 10,000 reviews collected from the IMDB website, and each of the reviews is annotated as either positive or negative. The number of positive and negative reviews are roughly the same. For more information about the dataset, you can visit http://www.cs.cornell.edu/people/pabo/movie-review-data/\n",
    "\n",
    "- For this homework assignment, we've already shuffled the data, and truncated the data to contain only 5000 reviews.\n",
    "\n",
    "In this part of the assignment we will:\n",
    "- Transform the raw text data into vectors with the BoW encoding method\n",
    "- Split the data into training and test sets\n",
    "- Write a function to train an SVM classifier on the training set\n",
    "- Test this classifier on the test set and report the results"
   ]
  },
  {
   "cell_type": "markdown",
   "metadata": {
    "deletable": false,
    "editable": false,
    "nbgrader": {
     "cell_type": "markdown",
     "checksum": "b5b00aac1dcf86346154d706b651c4bd",
     "grade": false,
     "grade_id": "cell-7ae64525daa7892e",
     "locked": true,
     "schema_version": 3,
     "solution": false
    }
   },
   "source": [
    "### 1a) Import data\n",
    "\n",
    "Import the textfile 'rt-polarity.tsv' into a DataFrame called `MR_df`,\n",
    "\n",
    "Set the column names as 'index', 'label', 'review'\n",
    "\n",
    "Note that 'rt-polarity.tsv' is a tab separated raw text file, in which data is separated by tabs ('\\t'). You can load this file with `read_csv`, specifying the `sep` (separator) argument as tabs ('\\t'). You will have to set `header` as None.\n"
   ]
  },
  {
   "cell_type": "code",
   "execution_count": null,
   "metadata": {
    "deletable": false,
    "nbgrader": {
     "cell_type": "code",
     "checksum": "c6442b37d3d5ff1c22018dce3ce140e3",
     "grade": false,
     "grade_id": "Q-1a",
     "locked": false,
     "schema_version": 3,
     "solution": true
    }
   },
   "outputs": [],
   "source": [
    "\n",
    "MR_filepath='rt-polarity.tsv'\n",
    "\n",
    "# YOUR CODE HERE\n",
    "raise NotImplementedError()"
   ]
  },
  {
   "cell_type": "code",
   "execution_count": null,
   "metadata": {
    "deletable": false,
    "editable": false,
    "nbgrader": {
     "cell_type": "code",
     "checksum": "c0169c2b9f47f12eeabca55a023e7515",
     "grade": true,
     "grade_id": "A-1a",
     "locked": true,
     "points": 0.25,
     "schema_version": 3,
     "solution": false
    }
   },
   "outputs": [],
   "source": [
    "assert isinstance(MR_df, pd.DataFrame)\n"
   ]
  },
  {
   "cell_type": "code",
   "execution_count": null,
   "metadata": {
    "deletable": false,
    "editable": false,
    "nbgrader": {
     "cell_type": "code",
     "checksum": "22306bbac34884ea61b62b1693ee4d9a",
     "grade": false,
     "grade_id": "cell-40dae07b7eed27b1",
     "locked": true,
     "schema_version": 3,
     "solution": false
    }
   },
   "outputs": [],
   "source": [
    "# Check the data\n",
    "MR_df.head()"
   ]
  },
  {
   "cell_type": "markdown",
   "metadata": {
    "deletable": false,
    "editable": false,
    "nbgrader": {
     "cell_type": "markdown",
     "checksum": "59274fa036c72b842067a3d7f4991c6e",
     "grade": false,
     "grade_id": "cell-e58856b30bc3af1b",
     "locked": true,
     "schema_version": 3,
     "solution": false
    }
   },
   "source": [
    "### 1b) Create a function that converts string labels to numerical labels\n",
    "\n",
    "Function name: `convert_label`\n",
    "\n",
    "The function should do the following:\n",
    "- if the input label is \"pos\" return 1.0\n",
    "- if the input label is \"neg\" return 0.0\n",
    "- otherwise, return the input label as is\n"
   ]
  },
  {
   "cell_type": "code",
   "execution_count": null,
   "metadata": {
    "deletable": false,
    "nbgrader": {
     "cell_type": "code",
     "checksum": "f69ef9c5f16f6fa44d46ad5c387f11bd",
     "grade": false,
     "grade_id": "Q-1b",
     "locked": false,
     "schema_version": 3,
     "solution": true
    }
   },
   "outputs": [],
   "source": [
    "\n",
    "def convert_label(label):\n",
    "# YOUR CODE HERE\n",
    "raise NotImplementedError()"
   ]
  },
  {
   "cell_type": "code",
   "execution_count": null,
   "metadata": {
    "deletable": false,
    "editable": false,
    "nbgrader": {
     "cell_type": "code",
     "checksum": "a93eeacd8bf8339f6ccaee9a0378b406",
     "grade": true,
     "grade_id": "A-1b",
     "locked": true,
     "points": 0.5,
     "schema_version": 3,
     "solution": false
    }
   },
   "outputs": [],
   "source": [
    "assert callable(convert_label)\n"
   ]
  },
  {
   "cell_type": "markdown",
   "metadata": {
    "deletable": false,
    "editable": false,
    "nbgrader": {
     "cell_type": "markdown",
     "checksum": "0d0e377a7b535254ca620a14f3e8b13b",
     "grade": false,
     "grade_id": "cell-55cca598b0986137",
     "locked": true,
     "schema_version": 3,
     "solution": false
    }
   },
   "source": [
    "### 1c) Numerical Labels\n",
    "\n",
    "Convert all labels in `MR_df[\"label\"]` to numerical labels, using the `convert_label` function. \n",
    "\n",
    "Save them as a new column named \"y\" in `MR_df`. \n",
    "\n",
    "\n"
   ]
  },
  {
   "cell_type": "code",
   "execution_count": null,
   "metadata": {
    "deletable": false,
    "nbgrader": {
     "cell_type": "code",
     "checksum": "99211dc6cdec8c212c24f093480e34cc",
     "grade": false,
     "grade_id": "Q-1c",
     "locked": false,
     "schema_version": 3,
     "solution": true
    }
   },
   "outputs": [],
   "source": [
    "\n",
    "# YOUR CODE HERE\n",
    "raise NotImplementedError()"
   ]
  },
  {
   "cell_type": "code",
   "execution_count": null,
   "metadata": {
    "deletable": false,
    "editable": false,
    "nbgrader": {
     "cell_type": "code",
     "checksum": "d852a3013395fe392e298ddd2f86087b",
     "grade": true,
     "grade_id": "A-1c",
     "locked": true,
     "points": 0.25,
     "schema_version": 3,
     "solution": false
    }
   },
   "outputs": [],
   "source": [
    "assert sorted(set(MR_df['y'])) == [0., 1.]\n"
   ]
  },
  {
   "cell_type": "code",
   "execution_count": null,
   "metadata": {
    "deletable": false,
    "editable": false,
    "nbgrader": {
     "cell_type": "code",
     "checksum": "851347cca7a104f450a70082311a2a1f",
     "grade": false,
     "grade_id": "cell-cd37ee3f688aaaec",
     "locked": true,
     "schema_version": 3,
     "solution": false
    }
   },
   "outputs": [],
   "source": [
    "# Check the MR_df data\n",
    "MR_df.head()"
   ]
  },
  {
   "cell_type": "markdown",
   "metadata": {
    "deletable": false,
    "editable": false,
    "nbgrader": {
     "cell_type": "markdown",
     "checksum": "728136376a427b7c11e909560cd5da44",
     "grade": false,
     "grade_id": "cell-ec55be6eb56c03a9",
     "locked": true,
     "schema_version": 3,
     "solution": false
    }
   },
   "source": [
    "### 1d) Convert Text data into vector \n",
    "\n",
    "We will now create a `CountVectorizer` object to transform the text data into vectors with numerical values. \n",
    "\n",
    "To do so, we will initialize a `CountVectorizer` object, and name it as `vectorizer`.\n",
    "\n",
    "We need to pass 4 arguments to initialize a CountVectorizer:\n",
    "  1. `analyzer`: `'word'` \n",
    "          Specify to analyze data from word-level.\n",
    "  2. `max_features`: `2000`\n",
    "          Set a max number of unique words.\n",
    "  3. `tokenizer`: `word_tokenize`\n",
    "          Set to tokenize the text data by using the word_tokenizer from NLTK .\n",
    "  4. `stop_words`: `stopwords.words('english')`\n",
    "          Set to remove all stopwords in English. We do this since they generally don't provide useful discriminative information."
   ]
  },
  {
   "cell_type": "code",
   "execution_count": null,
   "metadata": {
    "deletable": false,
    "nbgrader": {
     "cell_type": "code",
     "checksum": "5cc9daa7c0861e9b9abae38a54780cf9",
     "grade": false,
     "grade_id": "Q-1d",
     "locked": false,
     "schema_version": 3,
     "solution": true
    }
   },
   "outputs": [],
   "source": [
    "\n",
    "# YOUR CODE HERE\n",
    "raise NotImplementedError()"
   ]
  },
  {
   "cell_type": "code",
   "execution_count": null,
   "metadata": {
    "deletable": false,
    "editable": false,
    "nbgrader": {
     "cell_type": "code",
     "checksum": "f4a2bc9c2a6bc8e7c606c66eb1037ac3",
     "grade": true,
     "grade_id": "A-1d",
     "locked": true,
     "points": 0.5,
     "schema_version": 3,
     "solution": false
    }
   },
   "outputs": [],
   "source": [
    "assert vectorizer.analyzer == 'word'\n",
    "assert vectorizer.max_features == 2000\n",
    "assert vectorizer.tokenizer == word_tokenize\n",
    "assert vectorizer.stop_words == stopwords.words('english')\n",
    "assert hasattr(vectorizer, \"fit_transform\")"
   ]
  },
  {
   "cell_type": "markdown",
   "metadata": {
    "deletable": false,
    "editable": false,
    "nbgrader": {
     "cell_type": "markdown",
     "checksum": "bee6356add469699251cf94d38120bc6",
     "grade": false,
     "grade_id": "cell-a60876e4262f29a7",
     "locked": true,
     "schema_version": 3,
     "solution": false
    }
   },
   "source": [
    "### 1e) Vectorize reviews\n",
    "\n",
    "Transform reviews `MR_df[\"review\"]` into vectors using the `vectorizer` we created above:\n",
    "\n",
    "The method you will be using is: `MR_X = vectorizer.fit_transform(...).toarray()`\n",
    "\n",
    "Note that we apply the `toarray` method to the type cast the output to a numpy array. This is something we will do multiple times, turning custom sklearn objects back into arrays. \n",
    "\n",
    "Note this may post a warning about stopwords. This is ok."
   ]
  },
  {
   "cell_type": "code",
   "execution_count": null,
   "metadata": {
    "deletable": false,
    "nbgrader": {
     "cell_type": "code",
     "checksum": "26b4f819dafc72aa3bc7f48f8863d546",
     "grade": false,
     "grade_id": "Q-1e",
     "locked": false,
     "schema_version": 3,
     "solution": true
    }
   },
   "outputs": [],
   "source": [
    "\n",
    "# YOUR CODE HERE\n",
    "raise NotImplementedError()"
   ]
  },
  {
   "cell_type": "code",
   "execution_count": null,
   "metadata": {
    "deletable": false,
    "editable": false,
    "nbgrader": {
     "cell_type": "code",
     "checksum": "ec1fecbf168063a272cc960eac635ab4",
     "grade": true,
     "grade_id": "A-1e",
     "locked": true,
     "points": 0.5,
     "schema_version": 3,
     "solution": false
    }
   },
   "outputs": [],
   "source": [
    "assert type(MR_X) == np.ndarray\n"
   ]
  },
  {
   "cell_type": "markdown",
   "metadata": {
    "deletable": false,
    "editable": false,
    "nbgrader": {
     "cell_type": "markdown",
     "checksum": "afde628e13237c615a54a7e6bb9e0e1c",
     "grade": false,
     "grade_id": "cell-6a10df0525cf971c",
     "locked": true,
     "schema_version": 3,
     "solution": false
    }
   },
   "source": [
    "### 1f)  Outcome variable\n",
    "\n",
    "Copy out the `y` column in `MR_df` and save it as an np.array named `MR_y`\n",
    "\n",
    "Make sure the shape of `MR_y` is (5000,) - depending upon your earlier approach, you *may* have to use `reshape` to do so. "
   ]
  },
  {
   "cell_type": "code",
   "execution_count": null,
   "metadata": {
    "deletable": false,
    "nbgrader": {
     "cell_type": "code",
     "checksum": "6dd9d1f81053263b800ed7eba514e6d0",
     "grade": false,
     "grade_id": "Q-1f",
     "locked": false,
     "schema_version": 3,
     "solution": true
    }
   },
   "outputs": [],
   "source": [
    "\n",
    "# YOUR CODE HERE\n",
    "raise NotImplementedError()"
   ]
  },
  {
   "cell_type": "code",
   "execution_count": null,
   "metadata": {
    "deletable": false,
    "editable": false,
    "nbgrader": {
     "cell_type": "code",
     "checksum": "3b15f7368fa336b9430b03d8f6988d63",
     "grade": true,
     "grade_id": "A-1f",
     "locked": true,
     "points": 0.5,
     "schema_version": 3,
     "solution": false
    }
   },
   "outputs": [],
   "source": [
    "assert MR_y.shape == (5000,)\n"
   ]
  },
  {
   "cell_type": "markdown",
   "metadata": {
    "deletable": false,
    "editable": false,
    "nbgrader": {
     "cell_type": "markdown",
     "checksum": "c75fd157ea048f26084e99ddb5c0d3bb",
     "grade": false,
     "grade_id": "cell-3b9ae1c6a8d22bfa",
     "locked": true,
     "schema_version": 3,
     "solution": false
    }
   },
   "source": [
    "### 1g) Defining the train & test sets\n",
    "\n",
    "We first set 80% of the data as the training set to train an SVM classifier. We will then test the learnt classifier on the remaining 20% of data samples (test set). (Reminder: For this homework assignment, we've already shuffled the data)\n",
    "\n",
    "- Calculate the number of training data samples (80% of total) and store it in `num_training`\n",
    "- Calculate the number of test data samples (20% of total) and store it in `num_testing`\n",
    "- Make sure both of these variables are of type `int`"
   ]
  },
  {
   "cell_type": "code",
   "execution_count": null,
   "metadata": {
    "deletable": false,
    "nbgrader": {
     "cell_type": "code",
     "checksum": "d0b5032102b502ba08f60ba66dcd69ef",
     "grade": false,
     "grade_id": "Q-1g",
     "locked": false,
     "schema_version": 3,
     "solution": true
    }
   },
   "outputs": [],
   "source": [
    "\n",
    "# YOUR CODE HERE\n",
    "raise NotImplementedError()"
   ]
  },
  {
   "cell_type": "code",
   "execution_count": null,
   "metadata": {
    "deletable": false,
    "editable": false,
    "nbgrader": {
     "cell_type": "code",
     "checksum": "a5e1ccc38bfbedaa4fbe3e7a92dc783b",
     "grade": true,
     "grade_id": "A-1g",
     "locked": true,
     "points": 0.25,
     "schema_version": 3,
     "solution": false
    }
   },
   "outputs": [],
   "source": [
    "assert type(num_training) == int\n",
    "assert type(num_testing) == int\n"
   ]
  },
  {
   "cell_type": "markdown",
   "metadata": {
    "deletable": false,
    "editable": false,
    "nbgrader": {
     "cell_type": "markdown",
     "checksum": "49c75f8aea77c31d4952d6452e981f1f",
     "grade": false,
     "grade_id": "cell-6548a62dcb0f7d9a",
     "locked": true,
     "schema_version": 3,
     "solution": false
    }
   },
   "source": [
    "### 1h)  Extracting train & test Data\n",
    "\n",
    "Split the `MR_X` and `MR_y` into training set and test set. You should use the `num_training` variable to extract the data from MR_X and MR_y.\n",
    "     \n",
    "Extract the first `num_training` samples as training data, and extract the rest as test data.\n",
    "\n",
    "Name them as:\n",
    "- `MR_train_X` and `MR_train_y` for the training set\n",
    "- `MR_test_X` and `MR_test_y` for the test set"
   ]
  },
  {
   "cell_type": "code",
   "execution_count": null,
   "metadata": {
    "deletable": false,
    "nbgrader": {
     "cell_type": "code",
     "checksum": "d888930edf9ab8fd0615327486450959",
     "grade": false,
     "grade_id": "Q-1h",
     "locked": false,
     "schema_version": 3,
     "solution": true
    }
   },
   "outputs": [],
   "source": [
    "# YOUR CODE HERE\n",
    "raise NotImplementedError()"
   ]
  },
  {
   "cell_type": "code",
   "execution_count": null,
   "metadata": {
    "deletable": false,
    "editable": false,
    "nbgrader": {
     "cell_type": "code",
     "checksum": "394846299466a6fc67650c96a45664e7",
     "grade": true,
     "grade_id": "A-1h",
     "locked": true,
     "points": 0.5,
     "schema_version": 3,
     "solution": false
    }
   },
   "outputs": [],
   "source": [
    "assert MR_train_X.shape[0] == MR_train_y.shape[0]\n",
    "assert MR_test_X.shape[0] == MR_test_y.shape[0]\n",
    "\n",
    "assert len(MR_train_X) == 4000\n",
    "assert len(MR_test_y) == 1000"
   ]
  },
  {
   "cell_type": "markdown",
   "metadata": {
    "deletable": false,
    "editable": false,
    "nbgrader": {
     "cell_type": "markdown",
     "checksum": "b09aa9ab50ccd1424ecdb8e6e7784336",
     "grade": false,
     "grade_id": "cell-4ee18efec80f9071",
     "locked": true,
     "schema_version": 3,
     "solution": false
    }
   },
   "source": [
    "### 1i) SVM\n",
    "\n",
    "Define a function called `train_SVM` that initializes an SVM classifier and trains it\n",
    "\n",
    "Inputs: \n",
    "- `X`: np.ndarray, training samples, \n",
    "- `y`: np.ndarray, training labels,\n",
    "- `kernel`: string, set the default value of \"kernel\" as \"linear\"\n",
    "\n",
    "Output: a trained classifier `clf`\n",
    "\n",
    "Hint: There are 2 steps involved in this function:\n",
    "- Initializing an SVM classifier: `clf = SVC(...)`\n",
    "- Training the classifier: `clf.fit(X, y)`"
   ]
  },
  {
   "cell_type": "code",
   "execution_count": null,
   "metadata": {
    "deletable": false,
    "nbgrader": {
     "cell_type": "code",
     "checksum": "5fbfdd5a9069ab146b47c82776b71e71",
     "grade": false,
     "grade_id": "Q-1i",
     "locked": false,
     "schema_version": 3,
     "solution": true
    }
   },
   "outputs": [],
   "source": [
    "def train_SVM(X, y, kernel='linear'):\n",
    "# YOUR CODE HERE\n",
    "raise NotImplementedError()"
   ]
  },
  {
   "cell_type": "code",
   "execution_count": null,
   "metadata": {
    "deletable": false,
    "editable": false,
    "nbgrader": {
     "cell_type": "code",
     "checksum": "55eb758d448afee6160529b9960da8ac",
     "grade": true,
     "grade_id": "A-1i",
     "locked": true,
     "points": 0.5,
     "schema_version": 3,
     "solution": false
    }
   },
   "outputs": [],
   "source": [
    "assert callable(train_SVM)\n"
   ]
  },
  {
   "cell_type": "markdown",
   "metadata": {
    "deletable": false,
    "editable": false,
    "nbgrader": {
     "cell_type": "markdown",
     "checksum": "c74f15d0c02dd61e923497c61094048a",
     "grade": false,
     "grade_id": "cell-f6a7b7746e81a1e8",
     "locked": true,
     "schema_version": 3,
     "solution": false
    }
   },
   "source": [
    "### 1j) Train SVM\n",
    "\n",
    "Train an SVM classifier with the default linear kernel on the samples `MR_train_X` and the labels `MR_train_y`\n",
    "\n",
    "You need to call the function `train_SVM` you just created. Name the returned object as `MR_clf`.\n",
    "\n",
    "Note that running this function may take many seconds / up to a few minutes to run."
   ]
  },
  {
   "cell_type": "code",
   "execution_count": null,
   "metadata": {
    "deletable": false,
    "nbgrader": {
     "cell_type": "code",
     "checksum": "eda321276607f8126c74d88beefe13f6",
     "grade": false,
     "grade_id": "Q-ij",
     "locked": false,
     "schema_version": 3,
     "solution": true
    }
   },
   "outputs": [],
   "source": [
    "\n",
    "# YOUR CODE HERE\n",
    "raise NotImplementedError()"
   ]
  },
  {
   "cell_type": "code",
   "execution_count": null,
   "metadata": {
    "deletable": false,
    "editable": false,
    "nbgrader": {
     "cell_type": "code",
     "checksum": "3e5efbd6f79505dba7dec391abc0ebb7",
     "grade": true,
     "grade_id": "A-ij",
     "locked": true,
     "points": 0.25,
     "schema_version": 3,
     "solution": false
    }
   },
   "outputs": [],
   "source": [
    "assert isinstance(MR_clf, SVC)\n",
    "assert hasattr(MR_clf, \"predict\")"
   ]
  },
  {
   "cell_type": "markdown",
   "metadata": {
    "deletable": false,
    "editable": false,
    "nbgrader": {
     "cell_type": "markdown",
     "checksum": "8120a93e32f581707b4c3ea629995d42",
     "grade": false,
     "grade_id": "cell-d3f56db518a7fe0b",
     "locked": true,
     "schema_version": 3,
     "solution": false
    }
   },
   "source": [
    "### 1k) Predict outcome\n",
    "\n",
    "Predict labels for both training samples and test samples. You will need to use `MR_clf.predict(...)`\n",
    "\n",
    "Name the predicted labels for the training samples as `MR_predicted_train_y`.\n",
    "Name the predicted labels for the testing samples as `MR_predicted_test_y`.\n",
    "\n",
    "Your code here will also take a minute to run."
   ]
  },
  {
   "cell_type": "code",
   "execution_count": null,
   "metadata": {
    "deletable": false,
    "nbgrader": {
     "cell_type": "code",
     "checksum": "7a69c648fe4ced5b703b1b8c1c0c4ec5",
     "grade": false,
     "grade_id": "Q-k",
     "locked": false,
     "schema_version": 3,
     "solution": true
    }
   },
   "outputs": [],
   "source": [
    "\n",
    "# YOUR CODE HERE\n",
    "raise NotImplementedError()"
   ]
  },
  {
   "cell_type": "markdown",
   "metadata": {
    "deletable": false,
    "editable": false,
    "nbgrader": {
     "cell_type": "markdown",
     "checksum": "803b99a1647d3f2fcc48e6dddecb55e2",
     "grade": false,
     "grade_id": "cell-020455c9d9568651",
     "locked": true,
     "schema_version": 3,
     "solution": false
    }
   },
   "source": [
    "Now we will use the function `classification_report` to print out the performance of the classifier on the training set:"
   ]
  },
  {
   "cell_type": "code",
   "execution_count": null,
   "metadata": {
    "deletable": false,
    "editable": false,
    "nbgrader": {
     "cell_type": "code",
     "checksum": "452f86697d73a284df503163fd66ace6",
     "grade": false,
     "grade_id": "cell-fc5799e344e24b69",
     "locked": true,
     "schema_version": 3,
     "solution": false
    }
   },
   "outputs": [],
   "source": [
    "# Your classifier should be able to reach above 90% accuracy \n",
    "# on the training set\n",
    "print(classification_report(MR_train_y,MR_predicted_train_y))"
   ]
  },
  {
   "cell_type": "markdown",
   "metadata": {
    "deletable": false,
    "editable": false,
    "nbgrader": {
     "cell_type": "markdown",
     "checksum": "1cc7d4b45837fca1e3e0ec54d539d6cf",
     "grade": false,
     "grade_id": "cell-2671503286c309f6",
     "locked": true,
     "schema_version": 3,
     "solution": false
    }
   },
   "source": [
    "And finally, we check the performance of the trained classifier on the test set:"
   ]
  },
  {
   "cell_type": "code",
   "execution_count": null,
   "metadata": {
    "deletable": false,
    "editable": false,
    "nbgrader": {
     "cell_type": "code",
     "checksum": "1455ed1d675127a62c1065000bf23338",
     "grade": false,
     "grade_id": "cell-9fc925527bb32076",
     "locked": true,
     "schema_version": 3,
     "solution": false
    }
   },
   "outputs": [],
   "source": [
    "# Your classifier should be able to reach around 70% accuracy on the test set.\n",
    "print(classification_report(MR_test_y, MR_predicted_test_y))"
   ]
  },
  {
   "cell_type": "code",
   "execution_count": null,
   "metadata": {
    "deletable": false,
    "editable": false,
    "nbgrader": {
     "cell_type": "code",
     "checksum": "5d64ed3615ea481f8dd831a278b32189",
     "grade": true,
     "grade_id": "A-1k",
     "locked": true,
     "points": 0.25,
     "schema_version": 3,
     "solution": false
    }
   },
   "outputs": [],
   "source": [
    "assert MR_predicted_train_y.shape == (4000,)\n",
    "assert MR_predicted_test_y.shape == (1000,)\n",
    "\n",
    "precision, recall, _, _ = precision_recall_fscore_support(MR_train_y,MR_predicted_train_y)\n",
    "assert np.isclose(precision[0], 0.91, 0.02)\n",
    "assert np.isclose(precision[1], 0.92, 0.02)\n"
   ]
  },
  {
   "cell_type": "markdown",
   "metadata": {
    "deletable": false,
    "editable": false,
    "nbgrader": {
     "cell_type": "markdown",
     "checksum": "06a51d440bf457d12fbbc7b31f91574d",
     "grade": false,
     "grade_id": "cell-1f649bb709859c3e",
     "locked": true,
     "schema_version": 3,
     "solution": false
    }
   },
   "source": [
    "# Part 2: TF-IDF (1.25 points)\n",
    "\n",
    "In this part, we will explore TF-IDF on sentiment analysis.\n",
    "\n",
    "TF-IDF is used as an alternate way to encode text data, as compared to the BoW approach used in Part 1. \n",
    "\n",
    "To do this, we will:\n",
    "- Transform the raw text data into vectors using TF-IDF\n",
    "- Train an SVM classifier on the training set and report the performance this classifer on the test set"
   ]
  },
  {
   "cell_type": "markdown",
   "metadata": {
    "deletable": false,
    "editable": false,
    "nbgrader": {
     "cell_type": "markdown",
     "checksum": "d721619e0c0f589b1779dd89cd3e76a5",
     "grade": false,
     "grade_id": "cell-247ceced075ac236",
     "locked": true,
     "schema_version": 3,
     "solution": false
    }
   },
   "source": [
    "### 2a) Text Data to Vectors\n",
    "\n",
    "We will create a `TfidfVectorizer` object to transform the text data into vectors with TF-IDF\n",
    "\n",
    "To do so, we will initialize a `TfidfVectorizer` object, and name it as `tfidf`.\n",
    "\n",
    "We need to pass 4 arguments into the \"TfidfVectorizer\" to initialize a \"tfidf\":\n",
    "  1. `sublinear_tf`: `True`\n",
    "           Set to apply TF scaling.\n",
    "  2. `analyzer`: `'word'`\n",
    "           Set to analyze the data at the word-level\n",
    "  3. `max_features`: `2000`\n",
    "           Set the max number of unique words\n",
    "  4. `tokenizer`: `word_tokenize`\n",
    "           Set to tokenize the text data by using the word_tokenizer from NLTK"
   ]
  },
  {
   "cell_type": "code",
   "execution_count": null,
   "metadata": {
    "deletable": false,
    "nbgrader": {
     "cell_type": "code",
     "checksum": "baa7e33497e93c23af953771df844c8c",
     "grade": false,
     "grade_id": "Q-2a",
     "locked": false,
     "schema_version": 3,
     "solution": true
    }
   },
   "outputs": [],
   "source": [
    "\n",
    "# YOUR CODE HERE\n",
    "raise NotImplementedError()"
   ]
  },
  {
   "cell_type": "code",
   "execution_count": null,
   "metadata": {
    "deletable": false,
    "editable": false,
    "nbgrader": {
     "cell_type": "code",
     "checksum": "ddeb6011dc800b64d598ace67aec7eda",
     "grade": true,
     "grade_id": "A-2a",
     "locked": true,
     "points": 0.25,
     "schema_version": 3,
     "solution": false
    }
   },
   "outputs": [],
   "source": [
    "assert tfidf.analyzer == 'word'\n",
    "assert tfidf.max_features == 2000\n",
    "assert tfidf.tokenizer == word_tokenize\n",
    "assert tfidf.stop_words == None\n",
    "assert hasattr(vectorizer, \"fit_transform\")"
   ]
  },
  {
   "cell_type": "markdown",
   "metadata": {
    "deletable": false,
    "editable": false,
    "nbgrader": {
     "cell_type": "markdown",
     "checksum": "20f1dd2f3474ad3dbba35f2bf34ada25",
     "grade": false,
     "grade_id": "cell-ffac7f563014d29e",
     "locked": true,
     "schema_version": 3,
     "solution": false
    }
   },
   "source": [
    "### 2b) Transform Reviews \n",
    "\n",
    "Transform the `review` column of MR_df into vectors using the `tfidf` we created above.\n",
    "\n",
    "Save the transformed data into a variable called `MR_tfidf_X`\n",
    "\n",
    "Hint: You might need to cast the datatype of `MR_tfidf_X` to `numpy.ndarray` by using `.toarray()`"
   ]
  },
  {
   "cell_type": "code",
   "execution_count": null,
   "metadata": {
    "deletable": false,
    "nbgrader": {
     "cell_type": "code",
     "checksum": "d9d730ebf04a58c8d81680325c3ba5ea",
     "grade": false,
     "grade_id": "Q-2b",
     "locked": false,
     "schema_version": 3,
     "solution": true
    }
   },
   "outputs": [],
   "source": [
    "\n",
    "# YOUR CODE HERE\n",
    "raise NotImplementedError()"
   ]
  },
  {
   "cell_type": "code",
   "execution_count": null,
   "metadata": {
    "deletable": false,
    "editable": false,
    "nbgrader": {
     "cell_type": "code",
     "checksum": "efd8984c140193695456c06c6c0e471f",
     "grade": true,
     "grade_id": "A-2b",
     "locked": true,
     "points": 0.25,
     "schema_version": 3,
     "solution": false
    }
   },
   "outputs": [],
   "source": [
    "assert isinstance(MR_tfidf_X, np.ndarray)\n",
    "\n",
    "assert \"skills\" in set(tfidf.stop_words_)\n",
    "assert \"risky\" in set(tfidf.stop_words_)\n",
    "assert \"adopts\" in set(tfidf.stop_words_)\n"
   ]
  },
  {
   "cell_type": "markdown",
   "metadata": {
    "deletable": false,
    "editable": false,
    "nbgrader": {
     "cell_type": "markdown",
     "checksum": "0e0dc5bd36bd386a95c32cc70363f3f0",
     "grade": false,
     "grade_id": "cell-b9b4c5df67dcdaad",
     "locked": true,
     "schema_version": 3,
     "solution": false
    }
   },
   "source": [
    "### 2c) \n",
    "Split the `MR_tfidf_X` and `MR_y` into training set and test set. \n",
    "\n",
    "Name these variables as:\n",
    "- `MR_train_tfidf_X` and `MR_train_tfidf_y` for the training set\n",
    "- `MR_test_tfidf_X` and `MR_test_tfidf_y` for the test set\n",
    "\n",
    "We will use the same 80/20 split as in part 1. You can use the same `num_training` variable from part 1 to split up the data."
   ]
  },
  {
   "cell_type": "code",
   "execution_count": null,
   "metadata": {
    "deletable": false,
    "nbgrader": {
     "cell_type": "code",
     "checksum": "404374a5ad2c15fe701325222a226878",
     "grade": false,
     "grade_id": "Q-2c",
     "locked": false,
     "schema_version": 3,
     "solution": true
    }
   },
   "outputs": [],
   "source": [
    "\n",
    "# YOUR CODE HERE\n",
    "raise NotImplementedError()"
   ]
  },
  {
   "cell_type": "code",
   "execution_count": null,
   "metadata": {
    "deletable": false,
    "editable": false,
    "nbgrader": {
     "cell_type": "code",
     "checksum": "89b4622caa6b0e372a9b66e5d3d53d98",
     "grade": true,
     "grade_id": "A-2c",
     "locked": true,
     "points": 0.25,
     "schema_version": 3,
     "solution": false
    }
   },
   "outputs": [],
   "source": [
    "assert MR_train_tfidf_X[0].tolist() == MR_tfidf_X[0].tolist()\n",
    "assert MR_train_tfidf_X.shape == (4000, 2000)\n",
    "assert MR_test_tfidf_X.shape == (1000, 2000)"
   ]
  },
  {
   "cell_type": "markdown",
   "metadata": {
    "deletable": false,
    "editable": false,
    "nbgrader": {
     "cell_type": "markdown",
     "checksum": "3618671a70448e422382a1c9a7151b1f",
     "grade": false,
     "grade_id": "cell-96712af487883a5a",
     "locked": true,
     "schema_version": 3,
     "solution": false
    }
   },
   "source": [
    "### 2d) Training\n",
    "\n",
    "Train an SVM classifier on the samples `MR_train_tfidf_X` and the labels `MR_train_tfidf_y`.\n",
    "\n",
    "You need to call the function `train_SVM` you created in part 1. Name the returned object as `MR_tfidf_clf`.\n",
    "\n",
    "Note that this may take many seconds, up to a few minutes, to run."
   ]
  },
  {
   "cell_type": "code",
   "execution_count": null,
   "metadata": {
    "deletable": false,
    "nbgrader": {
     "cell_type": "code",
     "checksum": "07e4e524ecf2016af9130a680c1a042f",
     "grade": false,
     "grade_id": "Q-2d",
     "locked": false,
     "schema_version": 3,
     "solution": true
    }
   },
   "outputs": [],
   "source": [
    "\n",
    "# YOUR CODE HERE\n",
    "raise NotImplementedError()"
   ]
  },
  {
   "cell_type": "code",
   "execution_count": null,
   "metadata": {
    "deletable": false,
    "editable": false,
    "nbgrader": {
     "cell_type": "code",
     "checksum": "276b222699066e0c91ec721c135dc3fa",
     "grade": true,
     "grade_id": "A-2d",
     "locked": true,
     "points": 0.25,
     "schema_version": 3,
     "solution": false
    }
   },
   "outputs": [],
   "source": [
    "assert isinstance(MR_clf, SVC)\n",
    "assert hasattr(MR_tfidf_clf, \"predict\")"
   ]
  },
  {
   "cell_type": "markdown",
   "metadata": {
    "deletable": false,
    "editable": false,
    "nbgrader": {
     "cell_type": "markdown",
     "checksum": "2f4456df9bc7894688174c1df9fc484b",
     "grade": false,
     "grade_id": "cell-e495a3fb363f328e",
     "locked": true,
     "schema_version": 3,
     "solution": false
    }
   },
   "source": [
    "### 2e) Prediction\n",
    "\n",
    "Predict the labels for both the training and test samples (the 'X' data). You will need to use `MR_tfidf_clf.predict(...)`\n",
    "\n",
    "Name the predicted labels on training samples as `MR_pred_train_tfidf_y`. Name the predicted labels on testing samples as `MR_pred_test_tfidf_y`"
   ]
  },
  {
   "cell_type": "code",
   "execution_count": null,
   "metadata": {
    "deletable": false,
    "nbgrader": {
     "cell_type": "code",
     "checksum": "935865a11b179116065f4fab042eea9a",
     "grade": false,
     "grade_id": "Q-2e",
     "locked": false,
     "schema_version": 3,
     "solution": true
    }
   },
   "outputs": [],
   "source": [
    "\n",
    "# YOUR CODE HERE\n",
    "raise NotImplementedError()"
   ]
  },
  {
   "cell_type": "markdown",
   "metadata": {
    "deletable": false,
    "editable": false,
    "nbgrader": {
     "cell_type": "markdown",
     "checksum": "2493c1aedb1e3ab34d4be8d274aae56f",
     "grade": false,
     "grade_id": "cell-1a135f4081b1600b",
     "locked": true,
     "schema_version": 3,
     "solution": false
    }
   },
   "source": [
    "Again, we use `classification_report` to check the performance on the training set."
   ]
  },
  {
   "cell_type": "code",
   "execution_count": null,
   "metadata": {
    "deletable": false,
    "editable": false,
    "nbgrader": {
     "cell_type": "code",
     "checksum": "5ba645c85fa7763a0a12f781044fbd5e",
     "grade": false,
     "grade_id": "cell-afa1a0e6e8f72a98",
     "locked": true,
     "schema_version": 3,
     "solution": false
    }
   },
   "outputs": [],
   "source": [
    "# Your classifier should be able to reach above 85% accuracy.\n",
    "print(classification_report(MR_train_tfidf_y, MR_pred_train_tfidf_y))"
   ]
  },
  {
   "cell_type": "markdown",
   "metadata": {
    "deletable": false,
    "editable": false,
    "nbgrader": {
     "cell_type": "markdown",
     "checksum": "005069a96a1b54ece4e82c458f51b9ea",
     "grade": false,
     "grade_id": "cell-9d366662c45c6299",
     "locked": true,
     "schema_version": 3,
     "solution": false
    }
   },
   "source": [
    "Again, check performance on the test set:"
   ]
  },
  {
   "cell_type": "code",
   "execution_count": null,
   "metadata": {
    "deletable": false,
    "editable": false,
    "nbgrader": {
     "cell_type": "code",
     "checksum": "94d4dfe160f18d42597da515e79b319d",
     "grade": false,
     "grade_id": "cell-0d6895d998434cbe",
     "locked": true,
     "schema_version": 3,
     "solution": false
    }
   },
   "outputs": [],
   "source": [
    "# Your classifier should be able to reach around 70% accuracy.\n",
    "print(classification_report(MR_test_tfidf_y, MR_pred_test_tfidf_y))"
   ]
  },
  {
   "cell_type": "code",
   "execution_count": null,
   "metadata": {
    "deletable": false,
    "editable": false,
    "nbgrader": {
     "cell_type": "code",
     "checksum": "3925007e926ce61f41227e02e378972d",
     "grade": true,
     "grade_id": "A-2e",
     "locked": true,
     "points": 0.25,
     "schema_version": 3,
     "solution": false
    }
   },
   "outputs": [],
   "source": [
    "precision, recall, _, _ = precision_recall_fscore_support(MR_train_tfidf_y, MR_pred_train_tfidf_y)\n",
    "assert np.isclose(precision[0], 0.86, 0.02)\n",
    "assert np.isclose(precision[1], 0.87, 0.02)\n"
   ]
  },
  {
   "cell_type": "markdown",
   "metadata": {
    "deletable": false,
    "editable": false,
    "nbgrader": {
     "cell_type": "markdown",
     "checksum": "972dbe682b12f7e0afb0c36f5ef3214f",
     "grade": false,
     "grade_id": "cell-29e222dd4865bd30",
     "locked": true,
     "schema_version": 3,
     "solution": false
    }
   },
   "source": [
    "### Written Answer Question\n",
    "\n",
    "How does the performance of the TF-IDF classifier compare to the classifier used in part 1?"
   ]
  },
  {
   "cell_type": "markdown",
   "metadata": {
    "deletable": false,
    "nbgrader": {
     "cell_type": "markdown",
     "checksum": "e0127d55bda50552dcea96a26fdeef27",
     "grade": true,
     "grade_id": "cell-ac993b2591707522",
     "locked": false,
     "points": 0,
     "schema_version": 3,
     "solution": true
    }
   },
   "source": [
    "YOUR ANSWER HERE"
   ]
  },
  {
   "cell_type": "markdown",
   "metadata": {
    "deletable": false,
    "editable": false,
    "nbgrader": {
     "cell_type": "markdown",
     "checksum": "08de6639ca699e3ba9a4982afadb3769",
     "grade": false,
     "grade_id": "cell-15bf17c90c32702a",
     "locked": true,
     "schema_version": 3,
     "solution": false
    }
   },
   "source": [
    "# Part 3: Sentiment Analysis on Customer Review with TF-IDF (2 points)\n",
    "\n",
    "In this part, we will use TF-IDF to analyse the sentiment of some Customer Review (CR) data.\n",
    "\n",
    "The CR data contains around 3771 reviews, and they were all collected from the Amazon website. The reviews are annotated by humans as either positive reviews or negative reviews. In this dataset, the 2 classes are not balanced, as there are twice as many positive reviews as negative reviews.\n",
    "\n",
    "For more information on this dataset, you can visit https://www.cs.uic.edu/~liub/FBS/sentiment-analysis.html\n",
    "\n",
    "In this part, we have already split the data into a training set and a test set, in which the training set has labels for the reviews, but the test set doesn't. \n",
    "\n",
    "The goal is to train an SVM classifier on the training set, and then predict pos/neg for each review in the test set.\n",
    "\n",
    "To do so, we will:\n",
    "- Use the TF-IDF feature engineering method to encode the raw text data into vectors\n",
    "- Train an SVM classifier on the training set\n",
    "- Predict labels for the reviews in the test set\n",
    "\n",
    "The performance of your trained classifier on the test set will be checked by a hidden test."
   ]
  },
  {
   "cell_type": "markdown",
   "metadata": {
    "deletable": false,
    "editable": false,
    "nbgrader": {
     "cell_type": "markdown",
     "checksum": "9b41eb30ece7fa8f2e5faf053610ba5c",
     "grade": false,
     "grade_id": "cell-c78ab60b7a795fbc",
     "locked": true,
     "schema_version": 3,
     "solution": false
    }
   },
   "source": [
    "### 3a) Loading the data\n",
    "\n",
    "Customer review task has 2 files\n",
    "- \"custrev_train.tsv\" contains training data with labels\n",
    "- \"custrev_test.tsv\" contains test data without labels which need to be predicted \n",
    "\n",
    "Import raw textfile `custrev_train.csv` into a DataFrame called `CR_train_df`. Set the column names as `index`, `label`, `review`.\n",
    "\n",
    "Import raw textfile `custrev_test.csv` into a DataFrame called `CR_test_df`. Set the column names as `index`, `review`\n",
    "\n",
    "Note that both will need to be imported with `sep` and `header` arguments (like in 1a)"
   ]
  },
  {
   "cell_type": "code",
   "execution_count": null,
   "metadata": {
    "deletable": false,
    "nbgrader": {
     "cell_type": "code",
     "checksum": "05b2c41ceda6b26f147032316d2eb49a",
     "grade": false,
     "grade_id": "Q-3a",
     "locked": false,
     "schema_version": 3,
     "solution": true
    }
   },
   "outputs": [],
   "source": [
    "CR_train_file = 'custrev_train.tsv'\n",
    "CR_test_file = 'custrev_test.tsv'\n",
    "\n",
    "# YOUR CODE HERE\n",
    "raise NotImplementedError()"
   ]
  },
  {
   "cell_type": "code",
   "execution_count": null,
   "metadata": {
    "deletable": false,
    "editable": false,
    "nbgrader": {
     "cell_type": "code",
     "checksum": "c9e642f52cd3098f07200e2b409c358f",
     "grade": true,
     "grade_id": "A-3a",
     "locked": true,
     "points": 0.25,
     "schema_version": 3,
     "solution": false
    }
   },
   "outputs": [],
   "source": [
    "assert isinstance(CR_train_df, pd.DataFrame)\n",
    "assert isinstance(CR_test_df, pd.DataFrame)"
   ]
  },
  {
   "cell_type": "markdown",
   "metadata": {
    "deletable": false,
    "editable": false,
    "nbgrader": {
     "cell_type": "markdown",
     "checksum": "fa9021ff6835a50be2f6dcc66a772fd0",
     "grade": false,
     "grade_id": "cell-ddb99da35eff3818",
     "locked": true,
     "schema_version": 3,
     "solution": false
    }
   },
   "source": [
    "### 3b) Concatenation\n",
    "Concatenate the 2 DataFrames from the last step into a single DataFrame, and name it `CR_df`. "
   ]
  },
  {
   "cell_type": "code",
   "execution_count": null,
   "metadata": {
    "deletable": false,
    "nbgrader": {
     "cell_type": "code",
     "checksum": "68c2f8ee1ded2585f71e8312efefe376",
     "grade": false,
     "grade_id": "Q-3b",
     "locked": false,
     "schema_version": 3,
     "solution": true
    }
   },
   "outputs": [],
   "source": [
    "\n",
    "# YOUR CODE HERE\n",
    "raise NotImplementedError()"
   ]
  },
  {
   "cell_type": "code",
   "execution_count": null,
   "metadata": {
    "deletable": false,
    "editable": false,
    "nbgrader": {
     "cell_type": "code",
     "checksum": "6116b86c80253c2849e4bd65493cb807",
     "grade": true,
     "grade_id": "A-3b",
     "locked": true,
     "points": 0.25,
     "schema_version": 3,
     "solution": false
    }
   },
   "outputs": [],
   "source": [
    "assert len(CR_df) == 3771\n"
   ]
  },
  {
   "cell_type": "markdown",
   "metadata": {
    "deletable": false,
    "editable": false,
    "nbgrader": {
     "cell_type": "markdown",
     "checksum": "9d4d513d3d0c6705d7c2a1b2e2691b5e",
     "grade": false,
     "grade_id": "cell-090a84f5c2674b36",
     "locked": true,
     "schema_version": 3,
     "solution": false
    }
   },
   "source": [
    "### 3c) Cleaning\n",
    "\n",
    "Convert all labels in `CR_df[\"label\"]` using the `convert_label` function we defined above. Save these numerical labels as a new column named `y` in CR_df."
   ]
  },
  {
   "cell_type": "code",
   "execution_count": null,
   "metadata": {
    "deletable": false,
    "nbgrader": {
     "cell_type": "code",
     "checksum": "2b381171d02f7616a915083fb7a637b7",
     "grade": false,
     "grade_id": "Q-3c",
     "locked": false,
     "schema_version": 3,
     "solution": true
    }
   },
   "outputs": [],
   "source": [
    "\n",
    "# YOUR CODE HERE\n",
    "raise NotImplementedError()"
   ]
  },
  {
   "cell_type": "code",
   "execution_count": null,
   "metadata": {
    "deletable": false,
    "editable": false,
    "nbgrader": {
     "cell_type": "code",
     "checksum": "9f80ceeee6675bd74ba4b556de9de126",
     "grade": true,
     "grade_id": "A-3c",
     "locked": true,
     "points": 0.25,
     "schema_version": 3,
     "solution": false
    }
   },
   "outputs": [],
   "source": [
    "assert isinstance(CR_df['y'], pd.Series)"
   ]
  },
  {
   "cell_type": "markdown",
   "metadata": {
    "deletable": false,
    "editable": false,
    "nbgrader": {
     "cell_type": "markdown",
     "checksum": "3ac76fd4d906498bb1e9ee6e97af1869",
     "grade": false,
     "grade_id": "cell-8fd126d314b8d681",
     "locked": true,
     "schema_version": 3,
     "solution": false
    }
   },
   "source": [
    "### 3d)  Use `tfidf`\n",
    "\n",
    "Transform reviews `CR_df[\"review\"]` into vectors using the `tfidf` vectorizer we created in part 2. Save the transformed data into a variable called `CR_tfidf_X`."
   ]
  },
  {
   "cell_type": "code",
   "execution_count": null,
   "metadata": {
    "deletable": false,
    "nbgrader": {
     "cell_type": "code",
     "checksum": "8cb9181763489c5689028b6e3e85126c",
     "grade": false,
     "grade_id": "Q-3d",
     "locked": false,
     "schema_version": 3,
     "solution": true
    }
   },
   "outputs": [],
   "source": [
    "\n",
    "# YOUR CODE HERE\n",
    "raise NotImplementedError()"
   ]
  },
  {
   "cell_type": "code",
   "execution_count": null,
   "metadata": {
    "deletable": false,
    "editable": false,
    "nbgrader": {
     "cell_type": "code",
     "checksum": "313197093de41102f26b645ed255e633",
     "grade": true,
     "grade_id": "A-3d",
     "locked": true,
     "points": 0.25,
     "schema_version": 3,
     "solution": false
    }
   },
   "outputs": [],
   "source": [
    "assert isinstance(CR_tfidf_X, np.ndarray)\n"
   ]
  },
  {
   "cell_type": "markdown",
   "metadata": {
    "deletable": false,
    "editable": false,
    "nbgrader": {
     "cell_type": "markdown",
     "checksum": "89919d34ef6cfe5ba7617be087452caa",
     "grade": false,
     "grade_id": "cell-528cadc1a8580ba2",
     "locked": true,
     "schema_version": 3,
     "solution": false
    }
   },
   "source": [
    "Here we will collect all training samples & numerical labels from `CR_tfidf_X`. The code provided below will extract all samples with labels from the dataframe:\n"
   ]
  },
  {
   "cell_type": "code",
   "execution_count": null,
   "metadata": {
    "deletable": false,
    "editable": false,
    "nbgrader": {
     "cell_type": "code",
     "checksum": "e859eeb2394ba676c6ae7547bcb6f729",
     "grade": false,
     "grade_id": "get_data",
     "locked": true,
     "schema_version": 3,
     "solution": false
    }
   },
   "outputs": [],
   "source": [
    "# code provided to collect labels\n",
    "CR_train_X = CR_tfidf_X[~CR_df['y'].isnull()]\n",
    "CR_train_y = CR_df['y'][~CR_df['y'].isnull()]\n",
    "\n",
    "# Note: if these asserts fail, something went wrong\n",
    "#  Go back and check your code (in part 3) above this cell\n",
    "assert CR_train_X.shape == (3016, 2000)\n",
    "assert CR_train_y.shape == (3016, )"
   ]
  },
  {
   "cell_type": "markdown",
   "metadata": {
    "deletable": false,
    "editable": false,
    "nbgrader": {
     "cell_type": "markdown",
     "checksum": "12c104f395dab22443ce211e64a72c5e",
     "grade": false,
     "grade_id": "cell-d8b7615b2d8506b3",
     "locked": true,
     "schema_version": 3,
     "solution": false
    }
   },
   "source": [
    "### 3e) SVM \n",
    "\n",
    "Train an SVM classifier on the samples `CR_train_X` and the labels `CR_train_y`:\n",
    "- You need to call the function `train_SVM` you created above.\n",
    "- Name the returned object as `CR_clf`.\n",
    "- Note that this function will take many seconds / up to a few minutes to run."
   ]
  },
  {
   "cell_type": "code",
   "execution_count": null,
   "metadata": {
    "deletable": false,
    "nbgrader": {
     "cell_type": "code",
     "checksum": "9db9647ed74b692cca9d5586609d6e81",
     "grade": false,
     "grade_id": "Q-3e",
     "locked": false,
     "schema_version": 3,
     "solution": true
    }
   },
   "outputs": [],
   "source": [
    "\n",
    "# YOUR CODE HERE\n",
    "raise NotImplementedError()"
   ]
  },
  {
   "cell_type": "code",
   "execution_count": null,
   "metadata": {
    "deletable": false,
    "editable": false,
    "nbgrader": {
     "cell_type": "code",
     "checksum": "be122b0d817296d6fd13cf0013f4a870",
     "grade": true,
     "grade_id": "A-3e",
     "locked": true,
     "points": 0.25,
     "schema_version": 3,
     "solution": false
    }
   },
   "outputs": [],
   "source": [
    "assert isinstance(CR_clf, SVC)"
   ]
  },
  {
   "cell_type": "markdown",
   "metadata": {
    "deletable": false,
    "editable": false,
    "nbgrader": {
     "cell_type": "markdown",
     "checksum": "c45611253b8477bf7e12ecb0449f596e",
     "grade": false,
     "grade_id": "cell-56e632c22794e853",
     "locked": true,
     "schema_version": 3,
     "solution": false
    }
   },
   "source": [
    "### 3f) Predict: training data\n",
    "\n",
    "Predict labels on the training set, and name the returned variable as `CR_pred_train_y`"
   ]
  },
  {
   "cell_type": "code",
   "execution_count": null,
   "metadata": {
    "deletable": false,
    "nbgrader": {
     "cell_type": "code",
     "checksum": "0befef930beab0e12fdbded14529bc4c",
     "grade": false,
     "grade_id": "Q-3f",
     "locked": false,
     "schema_version": 3,
     "solution": true
    }
   },
   "outputs": [],
   "source": [
    "\n",
    "# YOUR CODE HERE\n",
    "raise NotImplementedError()"
   ]
  },
  {
   "cell_type": "code",
   "execution_count": null,
   "metadata": {
    "deletable": false,
    "editable": false,
    "nbgrader": {
     "cell_type": "code",
     "checksum": "d0c54b282080ec83c81b76b537bc32de",
     "grade": false,
     "grade_id": "cell-5393293deccc9d78",
     "locked": true,
     "schema_version": 3,
     "solution": false
    }
   },
   "outputs": [],
   "source": [
    "# Check the classifier accuracy on the train data\n",
    "#   Note that your classifier should be able to reach above 90% accuracy.\n",
    "print(classification_report(CR_train_y, CR_pred_train_y))"
   ]
  },
  {
   "cell_type": "code",
   "execution_count": null,
   "metadata": {
    "deletable": false,
    "editable": false,
    "nbgrader": {
     "cell_type": "code",
     "checksum": "01601c2cf1a89b4973dbe25c27b2a19e",
     "grade": true,
     "grade_id": "A-3f",
     "locked": true,
     "points": 0.25,
     "schema_version": 3,
     "solution": false
    }
   },
   "outputs": [],
   "source": [
    "precision, recall, _, _ = precision_recall_fscore_support(CR_train_y, CR_pred_train_y)\n",
    "assert np.isclose(precision[0], 0.90, 0.02)\n",
    "assert np.isclose(precision[1], 0.91, 0.02)"
   ]
  },
  {
   "cell_type": "code",
   "execution_count": null,
   "metadata": {
    "deletable": false,
    "editable": false,
    "nbgrader": {
     "cell_type": "code",
     "checksum": "1b5df6600b7e7dd3c737ecc0ee81a950",
     "grade": false,
     "grade_id": "cell-8fd0d23508a04891",
     "locked": true,
     "schema_version": 3,
     "solution": false
    }
   },
   "outputs": [],
   "source": [
    "# Collect all test samples from CR_tfidf_X\n",
    "CR_test_X = CR_tfidf_X[CR_df['y'].isnull()]"
   ]
  },
  {
   "cell_type": "markdown",
   "metadata": {
    "deletable": false,
    "editable": false,
    "nbgrader": {
     "cell_type": "markdown",
     "checksum": "0549fa0e1ef52c0aa315a7dc566408be",
     "grade": false,
     "grade_id": "cell-7c227f5d7445fcdf",
     "locked": true,
     "schema_version": 3,
     "solution": false
    }
   },
   "source": [
    "### 3g)  Predict: test set\n",
    "Predict the labels on the test set. Name the returned variable as `CR_pred_test_y`"
   ]
  },
  {
   "cell_type": "code",
   "execution_count": null,
   "metadata": {
    "deletable": false,
    "nbgrader": {
     "cell_type": "code",
     "checksum": "269c29e497cf601cd837210a99aec68f",
     "grade": false,
     "grade_id": "Q-3g",
     "locked": false,
     "schema_version": 3,
     "solution": true
    }
   },
   "outputs": [],
   "source": [
    "\n",
    "# YOUR CODE HERE\n",
    "raise NotImplementedError()"
   ]
  },
  {
   "cell_type": "code",
   "execution_count": null,
   "metadata": {
    "deletable": false,
    "editable": false,
    "nbgrader": {
     "cell_type": "code",
     "checksum": "236e0a97fc7c9d65c6c56bfa852b73ac",
     "grade": true,
     "grade_id": "A-3g",
     "locked": true,
     "points": 0.25,
     "schema_version": 3,
     "solution": false
    }
   },
   "outputs": [],
   "source": [
    "assert isinstance(CR_test_X, np.ndarray)\n",
    "assert isinstance(CR_pred_test_y, np.ndarray)"
   ]
  },
  {
   "cell_type": "markdown",
   "metadata": {
    "deletable": false,
    "editable": false,
    "nbgrader": {
     "cell_type": "markdown",
     "checksum": "580b53078d2d7f78ec25949a38cc0cc9",
     "grade": false,
     "grade_id": "cell-f91666d22c0dac60",
     "locked": true,
     "schema_version": 3,
     "solution": false
    }
   },
   "source": [
    "### 3h) Convert labels\n",
    "\n",
    "Convert the predicted numerical labels back to string labels (\"pos\" and \"neg\").\n",
    "\n",
    "Create a column called `label` in `CR_test_df` to store the converted labels."
   ]
  },
  {
   "cell_type": "code",
   "execution_count": null,
   "metadata": {
    "deletable": false,
    "nbgrader": {
     "cell_type": "code",
     "checksum": "70227861ba7d08a5a63924eb17441497",
     "grade": false,
     "grade_id": "Q-3h",
     "locked": false,
     "schema_version": 3,
     "solution": true
    }
   },
   "outputs": [],
   "source": [
    "\n",
    "# YOUR CODE HERE\n",
    "raise NotImplementedError()"
   ]
  },
  {
   "cell_type": "code",
   "execution_count": null,
   "metadata": {
    "deletable": false,
    "editable": false,
    "nbgrader": {
     "cell_type": "code",
     "checksum": "21d39a72bbe79589b7ed9833fec1f63e",
     "grade": true,
     "grade_id": "A-3h",
     "locked": true,
     "points": 0.25,
     "schema_version": 3,
     "solution": false
    }
   },
   "outputs": [],
   "source": [
    "assert isinstance(CR_test_df['label'], pd.Series)\n",
    "assert set(CR_test_df['label']) == {'neg', 'pos'}\n"
   ]
  },
  {
   "cell_type": "markdown",
   "metadata": {
    "deletable": false,
    "editable": false,
    "nbgrader": {
     "cell_type": "markdown",
     "checksum": "b2b8399f478e89a45fbb852a5d20ba7b",
     "grade": false,
     "grade_id": "cell-24356cb4367a5c1b",
     "locked": true,
     "schema_version": 3,
     "solution": false
    }
   },
   "source": [
    "The hidden assignments tests for the cell above will check that your model predicts the right number of pos/neg reviews in the test data provided. \n",
    "\n",
    "We now have a model that can predict positive or negative sentiment! \n",
    "\n",
    "In the cell below, as a written answer question, briefly, in your own words, what BoW and TF/IDF word representations are, and how they differ. Also, think about and write a quick example of when and why it might be useful to automatically analyze the sentiment of text data. [This whole answer can/should be a couple of sentences].\n",
    "\n",
    "After you answer this question, you are done! "
   ]
  },
  {
   "cell_type": "markdown",
   "metadata": {
    "deletable": false,
    "nbgrader": {
     "cell_type": "markdown",
     "checksum": "2fa8493f1dc08831d45aa221dc494dc2",
     "grade": true,
     "grade_id": "cell-bf8fe759022c76b4",
     "locked": false,
     "points": 0,
     "schema_version": 3,
     "solution": true
    }
   },
   "source": [
    "YOUR ANSWER HERE"
   ]
  },
  {
   "cell_type": "markdown",
   "metadata": {
    "deletable": false,
    "editable": false,
    "nbgrader": {
     "cell_type": "markdown",
     "checksum": "be26510dfea4320f1589da8d26ad50c4",
     "grade": false,
     "grade_id": "cell-97b817a9de5a8398",
     "locked": true,
     "schema_version": 3,
     "solution": false
    }
   },
   "source": [
    "# Complete! \n",
    "\n",
    "Good work! Have a look back over your answers, and also make sure to `Restart & Run All` from the kernel menu to double check that everything is working properly. While you can typically use the 'Validate' button above, which runs your notebook from top to bottom and checks to ensure all `assert` statements pass silently, ***'Validate' may fail on this assignment as the code takes too long to run. Use Restart & Run All instead***. When you are ready, submit on datahub!\n",
    "\n",
    "Note that ***the final validation is for your reassurance and is not a required step***. You can submit without validating. You can also submit without passing all asserts (for partial credit on the assignment). We grade whatever is submitted on datahub. We will grade your most recent submission."
   ]
  }
 ],
 "metadata": {
  "kernelspec": {
   "display_name": "Python 3",
   "language": "python",
   "name": "python3"
  },
  "language_info": {
   "codemirror_mode": {
    "name": "ipython",
    "version": 3
   },
   "file_extension": ".py",
   "mimetype": "text/x-python",
   "name": "python",
   "nbconvert_exporter": "python",
   "pygments_lexer": "ipython3",
   "version": "3.7.4"
  }
 },
 "nbformat": 4,
 "nbformat_minor": 2
}
