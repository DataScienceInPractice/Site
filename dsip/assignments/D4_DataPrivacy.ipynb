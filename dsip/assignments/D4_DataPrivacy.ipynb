{
 "cells": [
  {
   "cell_type": "markdown",
   "metadata": {},
   "source": [
    "# Data Privacy\n",
    "\n",
    "This is a demo assignment that is openly available for the Data Science in Practice Course. \n",
    "\n",
    "<div class=\"alert alert-danger\">\n",
    "If you are in the COGS108 course at UC San Diego, this is NOT a valid version of the assignment for the course.\n",
    "</div>"
   ]
  },
  {
   "cell_type": "markdown",
   "metadata": {
    "deletable": false,
    "editable": false,
    "nbgrader": {
     "cell_type": "markdown",
     "checksum": "6254721ba8721d30a815a6a7bf0608f8",
     "grade": false,
     "grade_id": "important",
     "locked": true,
     "schema_version": 3,
     "solution": false
    }
   },
   "source": [
    "## Important Reminders\n",
    "\n",
    "- Do not change / update / delete any existing cells with 'assert' in them. These are the tests used to check your assignment. \n",
    "- This assignment has hidden tests: tests that are not visible here, but that will be run on your submitted file. Passing all the tests you can see in the notebook here does not guarantee you have the right answer."
   ]
  },
  {
   "cell_type": "markdown",
   "metadata": {
    "deletable": false,
    "editable": false,
    "nbgrader": {
     "cell_type": "markdown",
     "checksum": "4d4dd9ff1c43cbf5ebb01d9bc894c925",
     "grade": false,
     "grade_id": "overview",
     "locked": true,
     "schema_version": 3,
     "solution": false
    }
   },
   "source": [
    "## Overview\n",
    "\n",
    "We have briefly discussed in lecture the importance and the mechanics of protecting individuals' privacy when they are included in datasets. \n",
    "\n",
    "One method to do so is the Safe Harbor Method. The Safe Harbor method specifies how to protect individuals' identities by telling us which information to remove from a dataset in order to avoid accidently disclosing personal information. \n",
    "\n",
    "In this assignment, we will explore web scraping, which can often include personally identifiable information, how identity can be decoded from badly anonymized datasets, and also explore using Safe Harbor to anonymize datasets properly. \n",
    "\n",
    "The topics covered in this assignment are mainly covered in the 'DataGathering' and 'DataPrivacy&Anonymization' COGS 108 [Tutorial notebooks](https://github.com/COGS108/Tutorials)."
   ]
  },
  {
   "cell_type": "code",
   "execution_count": null,
   "metadata": {
    "deletable": false,
    "editable": false,
    "nbgrader": {
     "cell_type": "code",
     "checksum": "eea06ff714fd3f00b5474b36d522ca50",
     "grade": false,
     "grade_id": "import-code",
     "locked": true,
     "schema_version": 3,
     "solution": false
    }
   },
   "outputs": [],
   "source": [
    "# Imports - these are provided for you. Do not import any other packages.\n",
    "import pandas as pd\n",
    "import requests\n",
    "import bs4\n",
    "from bs4 import BeautifulSoup"
   ]
  },
  {
   "cell_type": "markdown",
   "metadata": {},
   "source": [
    "### Downloading Data\n",
    "\n",
    "If you download this notebook to run locally, you will also need some data files.\n",
    "\n",
    "Running the next cell will download the required files for this assignment.\n",
    "\n",
    "You can also view and download these files from [https://github.com/DataScienceInPractice/Data](https://github.com/DataScienceInPractice/Data)."
   ]
  },
  {
   "cell_type": "code",
   "execution_count": null,
   "metadata": {},
   "outputs": [],
   "source": [
    "from os.path import join as pjoin\n",
    "from urllib.request import urlretrieve\n",
    "\n",
    "data_url = 'https://raw.githubusercontent.com/DataScienceInPractice/Data/master/'\n",
    "\n",
    "# Fill in these values\n",
    "assignment = 'A4'\n",
    "data_files = ['anon_user_dat.json', 'employee_info.json', 'user_dat.csv', 'zip_pop.csv']\n",
    "\n",
    "for data_file in data_files:\n",
    "    full_path = pjoin(data_url, assignment, data_file)\n",
    "    urlretrieve(full_path, filename=data_file)"
   ]
  },
  {
   "cell_type": "markdown",
   "metadata": {
    "deletable": false,
    "editable": false,
    "nbgrader": {
     "cell_type": "markdown",
     "checksum": "e880f9e98ce6934ecd598b43912cbbec",
     "grade": false,
     "grade_id": "cell-25153cbdcaad4068",
     "locked": true,
     "schema_version": 3,
     "solution": false
    }
   },
   "source": [
    "## Part 1: Web Scraping (1.25 points)"
   ]
  },
  {
   "cell_type": "markdown",
   "metadata": {
    "deletable": false,
    "editable": false,
    "nbgrader": {
     "cell_type": "markdown",
     "checksum": "0849ef8eb699ba087d8dd81e4a604c87",
     "grade": false,
     "grade_id": "cell-76ae256b5f7132b6",
     "locked": true,
     "schema_version": 3,
     "solution": false
    }
   },
   "source": [
    "### Scraping Rules\n",
    "\n",
    "1) If you are using another organization's website for scraping, make sure to check the website's terms & conditions. \n",
    "\n",
    "2) Do not request data from the website too aggressively (quickly) with your program (also known as spamming), as this may break the website. Make sure your program behaves in a reasonable manner (i.e. acts like a human). One request for one webpage per second is good practice.\n",
    "\n",
    "3) The layout of a website may change from time to time. Because of this, if you're scraping a website, make sure to revisit the site and rewrite your code as needed."
   ]
  },
  {
   "cell_type": "markdown",
   "metadata": {
    "deletable": false,
    "editable": false,
    "nbgrader": {
     "cell_type": "markdown",
     "checksum": "a61b0df54de2e543e781b47265bc3d48",
     "grade": false,
     "grade_id": "cell-ead298f239fc9639",
     "locked": true,
     "schema_version": 3,
     "solution": false
    }
   },
   "source": [
    "### 1a) Web Scrape\n",
    "\n",
    "We will first retrieve the contents on a page and examine them a bit.\n",
    "\n",
    "Make a variable called `wiki`, that stores the following URL (as a string):\n",
    "https://en.wikipedia.org/wiki/List_of_states_and_territories_of_the_United_States_by_population\n",
    "\n",
    "Now, to open the URL, use `requests.get()` and provide `wiki` as its input. Store this in a variable called `page`.\n",
    "\n",
    "After that, make a variable called `soup` to parse the HTML using `BeautifulSoup`. Consider that there will be a method from `BeautifulSoup` that you'll need to call on to get the content from the page. \n"
   ]
  },
  {
   "cell_type": "code",
   "execution_count": null,
   "metadata": {
    "deletable": false,
    "nbgrader": {
     "cell_type": "code",
     "checksum": "fe48a65e1994c442ef55c68a34b7fe5c",
     "grade": false,
     "grade_id": "cell-889693bf71daf7c8",
     "locked": false,
     "schema_version": 3,
     "solution": true
    }
   },
   "outputs": [],
   "source": [
    "\n",
    "# YOUR CODE HERE\n",
    "raise NotImplementedError()\n",
    "\n",
    "wiki"
   ]
  },
  {
   "cell_type": "code",
   "execution_count": null,
   "metadata": {
    "deletable": false,
    "editable": false,
    "nbgrader": {
     "cell_type": "code",
     "checksum": "463ec7d4dd95783b5682dbf4eda0c0cf",
     "grade": true,
     "grade_id": "cell-52fad88c14b5f276",
     "locked": true,
     "points": 0.25,
     "schema_version": 3,
     "solution": false
    }
   },
   "outputs": [],
   "source": [
    "assert wiki\n",
    "assert page\n",
    "assert soup\n"
   ]
  },
  {
   "cell_type": "markdown",
   "metadata": {
    "deletable": false,
    "editable": false,
    "nbgrader": {
     "cell_type": "markdown",
     "checksum": "0616421d074389b66733998b7dad69ed",
     "grade": false,
     "grade_id": "cell-0f25bbcd2e8993d6",
     "locked": true,
     "schema_version": 3,
     "solution": false
    }
   },
   "source": [
    "### 1b) Checking Scrape Contents\n",
    "\n",
    "Extract the title from the page and save it in a variable called `title_page`. \n",
    "\n",
    "Make sure you extract it as a string.\n",
    "\n",
    "To do so, you have to use the soup object created in the above cell. \n",
    "Hint: from your soup variable, you can access this with `.title.string`.\n",
    "\n",
    "Make sure you print out and check the contents of `title_page`.\n",
    "\n",
    "Note that it should not have any tags (such as `<title>` included in it)."
   ]
  },
  {
   "cell_type": "code",
   "execution_count": null,
   "metadata": {
    "deletable": false,
    "nbgrader": {
     "cell_type": "code",
     "checksum": "a97138aa94aebed614102ca14d6c144d",
     "grade": false,
     "grade_id": "cell-4d0a0b26ed667fe0",
     "locked": false,
     "schema_version": 3,
     "solution": true
    }
   },
   "outputs": [],
   "source": [
    "# YOUR CODE HERE\n",
    "raise NotImplementedError()"
   ]
  },
  {
   "cell_type": "code",
   "execution_count": null,
   "metadata": {
    "deletable": false,
    "editable": false,
    "nbgrader": {
     "cell_type": "code",
     "checksum": "0f18f1426ae8f7e546c87095d78b5b8c",
     "grade": true,
     "grade_id": "cell-25e2c00e1488f142",
     "locked": true,
     "points": 0.25,
     "schema_version": 3,
     "solution": false
    }
   },
   "outputs": [],
   "source": [
    "assert title_page\n",
    "assert isinstance(title_page, str)\n"
   ]
  },
  {
   "cell_type": "markdown",
   "metadata": {
    "deletable": false,
    "editable": false,
    "nbgrader": {
     "cell_type": "markdown",
     "checksum": "a338eb0678a54944847a9fd5b5ec0275",
     "grade": false,
     "grade_id": "cell-a64ca12576cb4bd8",
     "locked": true,
     "schema_version": 3,
     "solution": false
    }
   },
   "source": [
    "### 1c) Extracting Tables\n",
    "\n",
    "In order to extract the data we want, we'll start with extracting a data table of interest.\n",
    "\n",
    "Note that you can see this table by going to look at the link we scraped.\n",
    "\n",
    "Use the `soup` object and call a method called `find`, which will find and extract the first table in the scraped webpage. Store this in the variable `right_table`. \n",
    "\n",
    "Note: you need to search for the name `table`, and set the `class_` argument as `wikitable sortable`."
   ]
  },
  {
   "cell_type": "code",
   "execution_count": null,
   "metadata": {
    "deletable": false,
    "nbgrader": {
     "cell_type": "code",
     "checksum": "ddf8cc5d3ff6c8d6c08d42c320edf670",
     "grade": false,
     "grade_id": "cell-8da7172c1da665fe",
     "locked": false,
     "schema_version": 3,
     "solution": true
    }
   },
   "outputs": [],
   "source": [
    "\n",
    "# YOUR CODE HERE\n",
    "raise NotImplementedError()"
   ]
  },
  {
   "cell_type": "code",
   "execution_count": null,
   "metadata": {
    "deletable": false,
    "editable": false,
    "nbgrader": {
     "cell_type": "code",
     "checksum": "ba5414a74acd285a248c99cd4a373712",
     "grade": true,
     "grade_id": "cell-6a079fac89c3332c",
     "locked": true,
     "points": 0.25,
     "schema_version": 3,
     "solution": false
    }
   },
   "outputs": [],
   "source": [
    "assert right_table\n",
    "assert isinstance(right_table, bs4.element.Tag)\n",
    "assert right_table.name == 'table'"
   ]
  },
  {
   "cell_type": "markdown",
   "metadata": {
    "deletable": false,
    "editable": false,
    "nbgrader": {
     "cell_type": "markdown",
     "checksum": "7209248c98dd2998e7a1d56e14528c5e",
     "grade": false,
     "grade_id": "cell-702d9d7fe1f16d2c",
     "locked": true,
     "schema_version": 3,
     "solution": false
    }
   },
   "source": [
    "Now, you'll extract the data from the table into lists.\n",
    "\n",
    "Note: This code is provided for you. Do read through it and try to see how it works."
   ]
  },
  {
   "cell_type": "code",
   "execution_count": null,
   "metadata": {
    "deletable": false,
    "editable": false,
    "nbgrader": {
     "cell_type": "code",
     "checksum": "ff808ef7cb40e46b037fb7e0b8ddd950",
     "grade": false,
     "grade_id": "cell-6219dfad1bd6ba7b",
     "locked": true,
     "schema_version": 3,
     "solution": false
    }
   },
   "outputs": [],
   "source": [
    "# CODE PROVIDED\n",
    "# YOU SHOULD NOT HAVE TO EDIT\n",
    "# BUT YOU WILL WANT TO UNDERSTAND\n",
    "list_a, list_b, list_c = [], [], []\n",
    "\n",
    "for row in right_table.findAll('tr'):\n",
    "    \n",
    "    cells = row.findAll('td')\n",
    "    \n",
    "    # Skips rows that aren't 10 columns long (like the heading)\n",
    "    if len(cells) != 12:\n",
    "        continue\n",
    "\n",
    "    # This catches when the name cells stops having a link\n",
    "    #  and ends, skipping the last (summary rows)\n",
    "    try:\n",
    "        list_a.append(cells[2].find('a').text)\n",
    "        list_b.append(cells[3].find(text=True))\n",
    "        list_c.append(cells[4].find(text=True))\n",
    "    except:\n",
    "        break"
   ]
  },
  {
   "cell_type": "markdown",
   "metadata": {
    "deletable": false,
    "editable": false,
    "nbgrader": {
     "cell_type": "markdown",
     "checksum": "276e728f170dbc817864de61877d2130",
     "grade": false,
     "grade_id": "cell-664bad5a4103cf19",
     "locked": true,
     "schema_version": 3,
     "solution": false
    }
   },
   "source": [
    "### 1d) Collecting into a dataframe\n",
    "\n",
    "Create a dataframe `my_df` and add the data from the lists above to it. \n",
    "- `list_a` is the state or territory name. Set the column name as `State`, and make this the index\n",
    "- `list_b` is the population estimate. Add it to the dataframe, and set the column name as `Population Estimate`\n",
    "- `list_c` is the census population. Add it to the dataframe, and set the column name as `Census Population`\n",
    "\n",
    "make sure to check the head of your dataframe to see that everything looks right! ie: my_df.head()"
   ]
  },
  {
   "cell_type": "code",
   "execution_count": null,
   "metadata": {
    "deletable": false,
    "nbgrader": {
     "cell_type": "code",
     "checksum": "5063c4bddc2054828c0469b58bc52635",
     "grade": false,
     "grade_id": "cell-3b72a498799ef251",
     "locked": false,
     "schema_version": 3,
     "solution": true
    }
   },
   "outputs": [],
   "source": [
    "\n",
    "# YOUR CODE HERE\n",
    "raise NotImplementedError()"
   ]
  },
  {
   "cell_type": "code",
   "execution_count": null,
   "metadata": {
    "deletable": false,
    "editable": false,
    "nbgrader": {
     "cell_type": "code",
     "checksum": "49c96e59e97bd94afd281f90ac19d180",
     "grade": true,
     "grade_id": "cell-406fc7a4b3d93852",
     "locked": true,
     "points": 0.25,
     "schema_version": 3,
     "solution": false
    }
   },
   "outputs": [],
   "source": [
    "assert isinstance (my_df, pd.DataFrame)\n",
    "assert my_df.index.name == 'State'\n",
    "assert list(my_df.columns) == ['Population Estimate', 'Census Population']\n"
   ]
  },
  {
   "cell_type": "markdown",
   "metadata": {
    "deletable": false,
    "editable": false,
    "nbgrader": {
     "cell_type": "markdown",
     "checksum": "c642b1ab2a70123615fa5ff1ec00ca56",
     "grade": false,
     "grade_id": "cell-e1e19e886aca2b94",
     "locked": true,
     "schema_version": 3,
     "solution": false
    }
   },
   "source": [
    "### 1e) Using the data\n",
    "What is the Population Estimate of California? Save this answer to a variable called `ca_pop`\n",
    "Notes:\n",
    "- Extract this value programmatically from your dataframe (as in, don't set it explicitly as `ca_pop = 123`)\n",
    "- You can use `.loc` to extract a particular value from a dataframe.\n",
    "- The data in your dataframe will be strings - that's fine, leave them as strings (don't typecast).\n",
    "- Strip any whitespace/newline characters from this string, if necessary. (`rstrip()` may be helpful)"
   ]
  },
  {
   "cell_type": "code",
   "execution_count": null,
   "metadata": {
    "deletable": false,
    "nbgrader": {
     "cell_type": "code",
     "checksum": "909b67461592f43d9debcf088b5c9762",
     "grade": false,
     "grade_id": "cell-552f1cceb6530fef",
     "locked": false,
     "schema_version": 3,
     "solution": true
    }
   },
   "outputs": [],
   "source": [
    "# YOUR CODE HERE\n",
    "raise NotImplementedError()"
   ]
  },
  {
   "cell_type": "code",
   "execution_count": null,
   "metadata": {
    "deletable": false,
    "editable": false,
    "nbgrader": {
     "cell_type": "code",
     "checksum": "5a5bece12f77b4d250ac69215a7f230c",
     "grade": true,
     "grade_id": "cell-00910bf76609b48e",
     "locked": true,
     "points": 0.25,
     "schema_version": 3,
     "solution": false
    }
   },
   "outputs": [],
   "source": [
    "assert ca_pop\n",
    "\n"
   ]
  },
  {
   "cell_type": "markdown",
   "metadata": {
    "deletable": false,
    "editable": false,
    "nbgrader": {
     "cell_type": "markdown",
     "checksum": "f337e0e61199cd4f3f5726bc5cf5ad1f",
     "grade": false,
     "grade_id": "p1-title",
     "locked": true,
     "schema_version": 3,
     "solution": false
    }
   },
   "source": [
    "## Part 2: Identifying Data (3 points)"
   ]
  },
  {
   "cell_type": "markdown",
   "metadata": {
    "deletable": false,
    "editable": false,
    "nbgrader": {
     "cell_type": "markdown",
     "checksum": "dfebd3a04afa674d607ee42e853ec4dd",
     "grade": false,
     "grade_id": "p1-desc",
     "locked": true,
     "schema_version": 3,
     "solution": false
    }
   },
   "source": [
    "Data Files:\n",
    "- anon_user_dat.json\n",
    "- employee_info.json\n",
    "\n",
    "You will first be working with a file called 'anon_user_dat.json'. This file contains information about some (fake) Tinder users. When creating an account, each Tinder user was asked to provide their first name, last name, work email (to verify the disclosed workplace), age, gender, phone # and zip code. Before releasing this data, a data scientist cleaned the data to protect the privacy of Tinder's users by removing the obvious personal identifiers: phone #, zip code, and IP address. However, the data scientist chose to keep each users' email addresses because when they visually skimmed a couple of the email addresses none of them seemed to have any of the users' actual names in them. This is where the data scientist made a huge mistake!\n",
    "\n",
    "We will take advantage of having the work email addresses by finding the employee information of different companies and matching that employee information with the information we have, in order to identify the names of the secret Tinder users!"
   ]
  },
  {
   "cell_type": "markdown",
   "metadata": {
    "deletable": false,
    "editable": false,
    "nbgrader": {
     "cell_type": "markdown",
     "checksum": "c801ec141b760a1eafe44fc82f67f20c",
     "grade": false,
     "grade_id": "cell-9c07a2e1f6bf36f2",
     "locked": true,
     "schema_version": 3,
     "solution": false
    }
   },
   "source": [
    "### 2a) Load in the 'cleaned' data \n",
    "\n",
    "Load the `anon_user_dat.json` json file into a pandas dataframe. Call it `df_personal`."
   ]
  },
  {
   "cell_type": "code",
   "execution_count": null,
   "metadata": {
    "deletable": false,
    "nbgrader": {
     "cell_type": "code",
     "checksum": "2058dbc61296d005826083c5972632e2",
     "grade": false,
     "grade_id": "1a",
     "locked": false,
     "schema_version": 3,
     "solution": true
    }
   },
   "outputs": [],
   "source": [
    "# YOUR CODE HERE\n",
    "raise NotImplementedError()"
   ]
  },
  {
   "cell_type": "code",
   "execution_count": null,
   "metadata": {
    "deletable": false,
    "editable": false,
    "nbgrader": {
     "cell_type": "code",
     "checksum": "d36df293540acb7600d888e2124392a9",
     "grade": true,
     "grade_id": "1a-tests",
     "locked": true,
     "points": 0.25,
     "schema_version": 3,
     "solution": false
    }
   },
   "outputs": [],
   "source": [
    "assert isinstance(df_personal, pd.DataFrame)\n"
   ]
  },
  {
   "cell_type": "markdown",
   "metadata": {
    "deletable": false,
    "editable": false,
    "nbgrader": {
     "cell_type": "markdown",
     "checksum": "80977f02cc275a5ec38e285bea8503ac",
     "grade": false,
     "grade_id": "cell-0e20f9f530c04e91",
     "locked": true,
     "schema_version": 3,
     "solution": false
    }
   },
   "source": [
    "### 2b) Check the first 10 emails \n",
    "\n",
    "Save the first 10 emails to a Series, and call it `sample_emails`. \n",
    "You should then print out this Series. ( Use print() )\n",
    "\n",
    "The purpose of this is to get a sense of how these work emails are structured and how we could possibly extract where each anonymous user seems to work.\n"
   ]
  },
  {
   "cell_type": "code",
   "execution_count": null,
   "metadata": {
    "deletable": false,
    "nbgrader": {
     "cell_type": "code",
     "checksum": "14b9deef20a33a2c2f2fbdfc51baefc5",
     "grade": false,
     "grade_id": "1b",
     "locked": false,
     "schema_version": 3,
     "solution": true
    }
   },
   "outputs": [],
   "source": [
    "# YOUR CODE HERE\n",
    "raise NotImplementedError()"
   ]
  },
  {
   "cell_type": "code",
   "execution_count": null,
   "metadata": {
    "deletable": false,
    "editable": false,
    "nbgrader": {
     "cell_type": "code",
     "checksum": "c424c0f41f2b77ce520ddd10c1f74a1a",
     "grade": true,
     "grade_id": "1b-tests",
     "locked": true,
     "points": 0.25,
     "schema_version": 3,
     "solution": false
    }
   },
   "outputs": [],
   "source": [
    "assert isinstance(sample_emails, pd.Series)\n"
   ]
  },
  {
   "cell_type": "markdown",
   "metadata": {
    "deletable": false,
    "editable": false,
    "nbgrader": {
     "cell_type": "markdown",
     "checksum": "41820021b92efed74026fd052be06ecf",
     "grade": false,
     "grade_id": "cell-7e5e9f0cf8fc03f6",
     "locked": true,
     "schema_version": 3,
     "solution": false
    }
   },
   "source": [
    "### 2c) Extract the Company Name From the Email \n",
    "\n",
    "Create a function with the following specifications:\n",
    "- Function Name: extract_company\n",
    "- Purpose: to extract the company of the email (i.e., everything after the @ sign but before the first .)\n",
    "- Parameter(s): email (string)\n",
    "- Returns: The extracted part of the email (string)\n",
    "- Hint: This should take 1 line of code. Look into the find('') method. \n",
    "\n",
    "You can start with this outline:\n",
    "```python \n",
    "def extract_company(email):\n",
    "    return\n",
    "```\n",
    "\n",
    "Example Usage: \n",
    "- extract_company(\"larhe@uber.com\") should return \"uber\"\n",
    "- extract_company(“ds@cogs.edu”) should return “cogs”\n",
    "\n"
   ]
  },
  {
   "cell_type": "code",
   "execution_count": null,
   "metadata": {
    "deletable": false,
    "nbgrader": {
     "cell_type": "code",
     "checksum": "c0825f2f7b2c060c3fb4d62705faadfa",
     "grade": false,
     "grade_id": "1c",
     "locked": false,
     "schema_version": 3,
     "solution": true
    }
   },
   "outputs": [],
   "source": [
    "# YOUR CODE HERE\n",
    "raise NotImplementedError()"
   ]
  },
  {
   "cell_type": "code",
   "execution_count": null,
   "metadata": {
    "deletable": false,
    "editable": false,
    "nbgrader": {
     "cell_type": "code",
     "checksum": "d575a57c880bdc83edb97571bf330a79",
     "grade": true,
     "grade_id": "1c-tests",
     "locked": true,
     "points": 0.75,
     "schema_version": 3,
     "solution": false
    }
   },
   "outputs": [],
   "source": [
    "assert extract_company(\"gshoreson0@seattletimes.com\") == \"seattletimes\"\n",
    "assert extract_company(\"amcgeffen1d@goo.ne.jp\") == 'goo'\n",
    "                       "
   ]
  },
  {
   "cell_type": "markdown",
   "metadata": {
    "deletable": false,
    "editable": false,
    "nbgrader": {
     "cell_type": "markdown",
     "checksum": "2ef7d9e3ecb79343b5b35d3aa70891a8",
     "grade": false,
     "grade_id": "info",
     "locked": true,
     "schema_version": 3,
     "solution": false
    }
   },
   "source": [
    "With a little bit of basic sleuthing (aka googling) and web-scraping (aka selectively reading in html code) it turns out that you've been able to collect information about all the present employees/interns of the companies you are interested in. Specifically, on each company website, you have found the name, gender, and age of its employees. You have saved that info in employee_info.json and plan to see if, using this new information, you can match the Tinder accounts to actual names."
   ]
  },
  {
   "cell_type": "markdown",
   "metadata": {
    "deletable": false,
    "editable": false,
    "nbgrader": {
     "cell_type": "markdown",
     "checksum": "126b672f7d2ab5943234db0aaea0cd48",
     "grade": false,
     "grade_id": "cell-966cd614a1dfc14a",
     "locked": true,
     "schema_version": 3,
     "solution": false
    }
   },
   "source": [
    "### 2d) Load in employee data \n",
    "\n",
    "Load the json file into a pandas dataframe. Call it `df_employee`."
   ]
  },
  {
   "cell_type": "code",
   "execution_count": null,
   "metadata": {
    "deletable": false,
    "nbgrader": {
     "cell_type": "code",
     "checksum": "7057c88392d0cea08bd2a82a292aaf6e",
     "grade": false,
     "grade_id": "1d",
     "locked": false,
     "schema_version": 3,
     "solution": true
    }
   },
   "outputs": [],
   "source": [
    "# YOUR CODE HERE\n",
    "raise NotImplementedError()"
   ]
  },
  {
   "cell_type": "code",
   "execution_count": null,
   "metadata": {
    "deletable": false,
    "editable": false,
    "nbgrader": {
     "cell_type": "code",
     "checksum": "cfdeb2f667f05c9eb2d7163d66360040",
     "grade": true,
     "grade_id": "1d-tests",
     "locked": true,
     "points": 0.25,
     "schema_version": 3,
     "solution": false
    }
   },
   "outputs": [],
   "source": [
    "assert isinstance(df_employee, pd.DataFrame)\n"
   ]
  },
  {
   "cell_type": "markdown",
   "metadata": {
    "deletable": false,
    "editable": false,
    "nbgrader": {
     "cell_type": "markdown",
     "checksum": "5581d635d5d7b6bbf69665d2bd2c3233",
     "grade": false,
     "grade_id": "cell-4559a646829c48ab",
     "locked": true,
     "schema_version": 3,
     "solution": false
    }
   },
   "source": [
    "### 2e) Match the employee name with company, age, gender \n",
    "\n",
    "Create a function with the following specifications:\n",
    "- Function name: employee_matcher\n",
    "- Purpose: to match the employee name with the provided company, age, and gender\n",
    "- Parameter(s): company (string), age (int), gender (string)\n",
    "- Returns: The employee first_name and last_name like this: return first_name, last_name \n",
    "- Note: If there are multiple employees that fit the same description, first_name and last_name should return a list of all possible first names and last names i.e., ['Desmund', 'Kelby'], ['Shepley', 'Tichner']. Note that the names of the individuals that would produce this output are 'Desmund Shepley' and 'Kelby Tichner'.\n",
    "\n",
    "Hint:\n",
    "There are many different ways to code this. An inelegant solution is to loop through `df_employee` \n",
    "   and for each data item see if the company, age, and gender match\n",
    "   i.e., \n",
    "   ```python\n",
    "   for i in range(0, len(df_employee)):\n",
    "             if (company == df_employee.loc[i,'company']):\n",
    "   ```\n",
    "   \n",
    "However! The solution above is very inefficient and long, so you should try to look into this:\n",
    "Google the df.loc method: It extracts pieces of the dataframe\n",
    "   if it fulfills a certain condition.\n",
    "   i.e., \n",
    "   \n",
    "```python\n",
    "df_employee.loc[df_employee['company'] == company]\n",
    "```\n",
    "\n",
    "If you need to convert your pandas data series into a list, you can do ```list(result)``` where result is a pandas \"series\"\n",
    "\n",
    "You can start with this outline:\n",
    "```python\n",
    "def employee_matcher(company, age, gender):\n",
    "    return first_name, last_name\n",
    "```\n"
   ]
  },
  {
   "cell_type": "code",
   "execution_count": null,
   "metadata": {
    "deletable": false,
    "nbgrader": {
     "cell_type": "code",
     "checksum": "e5b44786fb001c854708a21d4ee09a41",
     "grade": false,
     "grade_id": "1e",
     "locked": false,
     "schema_version": 3,
     "solution": true
    }
   },
   "outputs": [],
   "source": [
    "# YOUR CODE HERE\n",
    "raise NotImplementedError()"
   ]
  },
  {
   "cell_type": "code",
   "execution_count": null,
   "metadata": {
    "deletable": false,
    "editable": false,
    "nbgrader": {
     "cell_type": "code",
     "checksum": "61733aa7c9b4394fb63843b191f9bd16",
     "grade": true,
     "grade_id": "1e-tests",
     "locked": true,
     "points": 0.75,
     "schema_version": 3,
     "solution": false
    }
   },
   "outputs": [],
   "source": [
    "assert employee_matcher(\"google\", 41, \"Male\") == (['Maxwell'], ['Jorio'])\n",
    "assert employee_matcher(\"salon\", 47, \"Female\") == (['Elenore'], ['Gravett'])\n",
    "assert employee_matcher(\"webmd\", 28, \"Nonbinary\") == (['Zaccaria'], ['Bartosiak'])\n"
   ]
  },
  {
   "cell_type": "markdown",
   "metadata": {
    "deletable": false,
    "editable": false,
    "nbgrader": {
     "cell_type": "markdown",
     "checksum": "164f90ed525c5c6e7942dfabf11aa9b6",
     "grade": false,
     "grade_id": "cell-33434f8addc21493",
     "locked": true,
     "schema_version": 3,
     "solution": false
    }
   },
   "source": [
    "### 2f) Extract all the private data \n",
    "\n",
    "- Create 2 empty lists called `first_names` and `last_names`\n",
    "- Loop through all the people we are trying to identify in df_personal\n",
    "- Call the `extract_company` function (i.e., `extract_company(df_personal.loc[i, 'email'])` )\n",
    "- Call the `employee_matcher` function \n",
    "- Append the results of `employee_matcher` to the appropriate lists (`first_names` and `last_names`)\n"
   ]
  },
  {
   "cell_type": "code",
   "execution_count": null,
   "metadata": {
    "deletable": false,
    "nbgrader": {
     "cell_type": "code",
     "checksum": "e6532f4528b73ef0ab65b46df04c3562",
     "grade": false,
     "grade_id": "1f",
     "locked": false,
     "schema_version": 3,
     "solution": true
    }
   },
   "outputs": [],
   "source": [
    "# YOUR CODE HERE\n",
    "raise NotImplementedError()"
   ]
  },
  {
   "cell_type": "code",
   "execution_count": null,
   "metadata": {
    "deletable": false,
    "editable": false,
    "nbgrader": {
     "cell_type": "code",
     "checksum": "9ba02cddc3cce33e7ce87888ed29743c",
     "grade": true,
     "grade_id": "1f-tests",
     "locked": true,
     "points": 0.75,
     "schema_version": 3,
     "solution": false
    }
   },
   "outputs": [],
   "source": [
    "assert first_names[45:50]== [['Justino'], ['Tadio'], ['Kennith'], ['Cedric'], ['Amargo']]\n",
    "assert last_names[45:50] == [['Corro'], ['Blackford'], ['Milton'], ['Yggo'], ['Grigor']]\n"
   ]
  },
  {
   "cell_type": "markdown",
   "metadata": {
    "deletable": false,
    "editable": false,
    "nbgrader": {
     "cell_type": "markdown",
     "checksum": "9323733665f99989d01ad966f74e65c1",
     "grade": false,
     "grade_id": "cell-4195840f34782b50",
     "locked": true,
     "schema_version": 3,
     "solution": false
    }
   },
   "source": [
    "### 2g) Add the names to the original 'secure' dataset! \n",
    "\n",
    "We have done this last step for you below, all you need to do is run this cell.\n",
    "\n",
    "For your own personal enjoyment, you should also print out the new `df_personal` with the identified people. "
   ]
  },
  {
   "cell_type": "code",
   "execution_count": null,
   "metadata": {
    "deletable": false,
    "editable": false,
    "nbgrader": {
     "cell_type": "code",
     "checksum": "a33a74929433dd501bfcdbc349b96a9f",
     "grade": false,
     "grade_id": "1g",
     "locked": true,
     "schema_version": 3,
     "solution": false
    }
   },
   "outputs": [],
   "source": [
    "df_personal['first_name'] = first_names\n",
    "df_personal['last_name'] = last_names"
   ]
  },
  {
   "cell_type": "markdown",
   "metadata": {
    "deletable": false,
    "editable": false,
    "nbgrader": {
     "cell_type": "markdown",
     "checksum": "220e03ead46597189f618c88f0088bcc",
     "grade": false,
     "grade_id": "wrap-p1",
     "locked": true,
     "schema_version": 3,
     "solution": false
    }
   },
   "source": [
    "We have now just discovered the 'anonymous' identities of all the registered Tinder users...awkward."
   ]
  },
  {
   "cell_type": "markdown",
   "metadata": {
    "deletable": false,
    "editable": false,
    "nbgrader": {
     "cell_type": "markdown",
     "checksum": "bb76c8b1a9e9f29da9e9edacaf2a738c",
     "grade": false,
     "grade_id": "p2-title",
     "locked": true,
     "schema_version": 3,
     "solution": false
    }
   },
   "source": [
    "## Part 3: Anonymize Data (3.25 points)"
   ]
  },
  {
   "cell_type": "markdown",
   "metadata": {
    "deletable": false,
    "editable": false,
    "nbgrader": {
     "cell_type": "markdown",
     "checksum": "28f7733eb649c467c1e05df6a0287439",
     "grade": false,
     "grade_id": "p2-desc",
     "locked": true,
     "schema_version": 3,
     "solution": false
    }
   },
   "source": [
    "You are hopefully now convinced that with some seemingly harmless data a hacker can pretty easily discover the identities of certain users. Thus, we will now clean the original Tinder data ourselves according to the Safe Harbor Method in order to make sure that it has been *properly* cleaned..."
   ]
  },
  {
   "cell_type": "markdown",
   "metadata": {
    "deletable": false,
    "editable": false,
    "nbgrader": {
     "cell_type": "markdown",
     "checksum": "49231666f8f51138af97b9bff59ae670",
     "grade": false,
     "grade_id": "cell-e1e38873a48800d0",
     "locked": true,
     "schema_version": 3,
     "solution": false
    }
   },
   "source": [
    "### 3a) Load in personal data \n",
    "\n",
    "Load the `user_dat.csv` file into a pandas dataframe, being sure to read the zip codes (`zip`) in as a string. \n",
    "\n",
    "Store this in `df_users`."
   ]
  },
  {
   "cell_type": "code",
   "execution_count": null,
   "metadata": {
    "deletable": false,
    "nbgrader": {
     "cell_type": "code",
     "checksum": "993d36cc155397bbe43169ba1abd34be",
     "grade": false,
     "grade_id": "2a",
     "locked": false,
     "schema_version": 3,
     "solution": true
    }
   },
   "outputs": [],
   "source": [
    "# YOUR CODE HERE\n",
    "raise NotImplementedError()"
   ]
  },
  {
   "cell_type": "code",
   "execution_count": null,
   "metadata": {
    "deletable": false,
    "editable": false,
    "nbgrader": {
     "cell_type": "code",
     "checksum": "899435eddf4c4d16f99baaf4070b5635",
     "grade": true,
     "grade_id": "2a-tests",
     "locked": true,
     "points": 0.25,
     "schema_version": 3,
     "solution": false
    }
   },
   "outputs": [],
   "source": [
    "assert isinstance(df_users, pd.DataFrame)\n"
   ]
  },
  {
   "cell_type": "markdown",
   "metadata": {
    "deletable": false,
    "editable": false,
    "nbgrader": {
     "cell_type": "markdown",
     "checksum": "433456d85e5131b23caabfd51a6b59ca",
     "grade": false,
     "grade_id": "cell-6de4847fa7cf9858",
     "locked": true,
     "schema_version": 3,
     "solution": false
    }
   },
   "source": [
    "### 3b) Drop personal attributes \n",
    "\n",
    "Remove any personal information, following the Safe Harbor method.\n",
    "Based on the Safe Harbor method, remove any columns from `df_users` that contain personal information. \n",
    "\n",
    "Note that details on the Safe Harbor method are covered in the Tutorials.\n",
    "\n"
   ]
  },
  {
   "cell_type": "code",
   "execution_count": null,
   "metadata": {
    "deletable": false,
    "nbgrader": {
     "cell_type": "code",
     "checksum": "acd38c5a94a8855fe473d2c4ebf3c564",
     "grade": false,
     "grade_id": "2b",
     "locked": false,
     "schema_version": 3,
     "solution": true
    }
   },
   "outputs": [],
   "source": [
    "# YOUR CODE HERE\n",
    "raise NotImplementedError()"
   ]
  },
  {
   "cell_type": "code",
   "execution_count": null,
   "metadata": {
    "deletable": false,
    "editable": false,
    "nbgrader": {
     "cell_type": "code",
     "checksum": "cc4cd7c6dff9718afc4dd96345145680",
     "grade": true,
     "grade_id": "2b-tests",
     "locked": true,
     "points": 0.25,
     "schema_version": 3,
     "solution": false
    }
   },
   "outputs": [],
   "source": [
    "assert len(df_users.columns) == 3\n"
   ]
  },
  {
   "cell_type": "markdown",
   "metadata": {
    "deletable": false,
    "editable": false,
    "nbgrader": {
     "cell_type": "markdown",
     "checksum": "adecbf8ea4ec18a861d2bacb490496a4",
     "grade": false,
     "grade_id": "cell-cde4461bea3e36e6",
     "locked": true,
     "schema_version": 3,
     "solution": false
    }
   },
   "source": [
    "### 3c) Drop ages that are above 90 \n",
    "\n",
    "Safe Harbor rule C: Drop all the rows which have age greater than 90 from `df_users`."
   ]
  },
  {
   "cell_type": "code",
   "execution_count": null,
   "metadata": {
    "deletable": false,
    "nbgrader": {
     "cell_type": "code",
     "checksum": "3328d6bd76aa6996b76b96f8b447e3ec",
     "grade": false,
     "grade_id": "2c",
     "locked": false,
     "schema_version": 3,
     "solution": true
    }
   },
   "outputs": [],
   "source": [
    "# YOUR CODE HERE\n",
    "raise NotImplementedError()"
   ]
  },
  {
   "cell_type": "code",
   "execution_count": null,
   "metadata": {
    "deletable": false,
    "editable": false,
    "nbgrader": {
     "cell_type": "code",
     "checksum": "2b519a85a8f2b78d2d757cbe2fed03b8",
     "grade": true,
     "grade_id": "2c-tests",
     "locked": true,
     "points": 0.25,
     "schema_version": 3,
     "solution": false
    }
   },
   "outputs": [],
   "source": [
    "assert df_users.shape == (943, 3)\n"
   ]
  },
  {
   "cell_type": "markdown",
   "metadata": {
    "deletable": false,
    "editable": false,
    "nbgrader": {
     "cell_type": "markdown",
     "checksum": "f7cc1100f227a29d4ab0620e664ce497",
     "grade": false,
     "grade_id": "cell-6e3e8c23e95148aa",
     "locked": true,
     "schema_version": 3,
     "solution": false
    }
   },
   "source": [
    "### 3d) Load in zip code data \n",
    "\n",
    "Load the zip_pop.csv file into a (different) pandas dataframe. Call it `df_zip`.\n",
    "\n",
    "Note that the zip data should be read in as strings, not ints, as would be the default. \n",
    "\n",
    "In `read_csv`, use the parameter `dtype` to specify to read `zip` as str, and `population` as int."
   ]
  },
  {
   "cell_type": "code",
   "execution_count": null,
   "metadata": {
    "deletable": false,
    "nbgrader": {
     "cell_type": "code",
     "checksum": "a3186b1d7c166625bf53f3259161a30a",
     "grade": false,
     "grade_id": "2d",
     "locked": false,
     "schema_version": 3,
     "solution": true
    }
   },
   "outputs": [],
   "source": [
    "# YOUR CODE HERE\n",
    "raise NotImplementedError()"
   ]
  },
  {
   "cell_type": "code",
   "execution_count": null,
   "metadata": {
    "deletable": false,
    "editable": false,
    "nbgrader": {
     "cell_type": "code",
     "checksum": "15756195b928bbd155eb88ef3ff8ff53",
     "grade": true,
     "grade_id": "2d-tests",
     "locked": true,
     "points": 0.25,
     "schema_version": 3,
     "solution": false
    }
   },
   "outputs": [],
   "source": [
    "assert isinstance(df_zip, pd.DataFrame)\n"
   ]
  },
  {
   "cell_type": "markdown",
   "metadata": {
    "deletable": false,
    "editable": false,
    "nbgrader": {
     "cell_type": "markdown",
     "checksum": "7f697ab5b8c59c3af2c02a00816b1103",
     "grade": false,
     "grade_id": "cell-cdf6b3de6c2f461d",
     "locked": true,
     "schema_version": 3,
     "solution": false
    }
   },
   "source": [
    "### 3e) Sort zipcodes into \"Geographic Subdivision\" \n",
    "\n",
    "The Safe Harbor Method applies to \"Geographic Subdivisions\" as opposed to each zipcode itself. \n",
    "\n",
    "Geographic Subdivision: All areas which share the first 3 digits of a zip code\n",
    "\n",
    "Count the total population for each geographic subdivision, storing the first 3 digits of the zip code and its corresponding population in the dictionary `zip_dict`. (For example, if there were 20 people whose zip code started with 090, the key-value pair in `zip_dict` would be `{'090' : 20}`.)\n",
    "\n",
    "You may be tempted to write a gnarly loop to accomplish this. Avoid that temptation. Instead, you'll want to be savy with a dictionary and `groupby` from `pandas` here. \n",
    "\n",
    "To get you started...\n",
    "\n",
    "If you wanted to group by whole zip code, you could use something like this:\n",
    "\n",
    "```python\n",
    "df_zip.groupby(df_zip['zip'])\n",
    "```\n",
    "\n",
    "But, we don't want to group by the *entire* zip code. Instead, we want to extract the first 3 digits of a zip code, and group by that. \n",
    "\n",
    "To extract the first three digits, you could so something like the following:\n",
    "\n",
    "```python\n",
    "df_zip['zip'].str[:3]\n",
    "```\n",
    "\n",
    "You'll want to combine these two concepts, such that you store this information in a dictionary `zip_dict`, which stores the first three digits of the zip code as the key and the population of that 3-digit zip code as the value.\n",
    "\n",
    "(If you're stuck and/or to better understand how dictionaries work and how they apply to this concept, check the section materials, use google, and go to discussion sections!)\n"
   ]
  },
  {
   "cell_type": "code",
   "execution_count": null,
   "metadata": {
    "deletable": false,
    "nbgrader": {
     "cell_type": "code",
     "checksum": "6f2b53afb81fe1626e5db93a265380c6",
     "grade": false,
     "grade_id": "2e",
     "locked": false,
     "schema_version": 3,
     "solution": true
    }
   },
   "outputs": [],
   "source": [
    "# YOUR CODE HERE\n",
    "raise NotImplementedError()"
   ]
  },
  {
   "cell_type": "code",
   "execution_count": null,
   "metadata": {
    "deletable": false,
    "editable": false,
    "nbgrader": {
     "cell_type": "code",
     "checksum": "2373d9d200d3d28358b3484fcd90964e",
     "grade": true,
     "grade_id": "2e-tests",
     "locked": true,
     "points": 1,
     "schema_version": 3,
     "solution": false
    }
   },
   "outputs": [],
   "source": [
    "assert isinstance(zip_dict, dict)\n",
    "assert zip_dict['100'] == 1502501\n"
   ]
  },
  {
   "cell_type": "markdown",
   "metadata": {
    "deletable": false,
    "editable": false,
    "nbgrader": {
     "cell_type": "markdown",
     "checksum": "09543d5bf7365710d921aa05c628e703",
     "grade": false,
     "grade_id": "cell-62f714bddd425bad",
     "locked": true,
     "schema_version": 3,
     "solution": false
    }
   },
   "source": [
    "### 3f) Masking the Zip Codes \n",
    "\n",
    "In this part, you should write a for loop, updating the `df_users` dataframe.\n",
    "\n",
    "Go through each user, and update their zip code, to Safe Harbor specifications:\n",
    "\n",
    "- If the user is from a zip code for the which the \"Geographic Subdivision\" is less than equal to 20,000, change the zip code in df_users to '0' (as a string)\n",
    "- Otherwise, zip should be only the first 3 numbers of the full zip code\n",
    "- Do all this by directly updating the `zip` column of the `df_users` DataFrame\n",
    "\n",
    "Hints: \n",
    "1. This will be several lines of code, looping through the DataFrame, getting each zip code, checking the geographic subdivision with the population in `zip_dict`, and setting the `zip_code` accordingly. \n",
    "2. Be very aware of your variable types when working with zip codes here.\n"
   ]
  },
  {
   "cell_type": "code",
   "execution_count": null,
   "metadata": {
    "deletable": false,
    "nbgrader": {
     "cell_type": "code",
     "checksum": "8f5de0f4458d3bc04becf884b2632c87",
     "grade": false,
     "grade_id": "2g",
     "locked": false,
     "schema_version": 3,
     "solution": true
    }
   },
   "outputs": [],
   "source": [
    "# YOUR CODE HERE\n",
    "raise NotImplementedError()"
   ]
  },
  {
   "cell_type": "code",
   "execution_count": null,
   "metadata": {
    "deletable": false,
    "editable": false,
    "nbgrader": {
     "cell_type": "code",
     "checksum": "1e45fb369f53657074acbfd373ddbd8a",
     "grade": true,
     "grade_id": "2g-tests",
     "locked": true,
     "points": 1,
     "schema_version": 3,
     "solution": false
    }
   },
   "outputs": [],
   "source": [
    "assert len(df_users) == 943\n",
    "assert df_users.loc[671, 'zip'] == '687'\n",
    "assert sum(df_users.zip == '0') > 0\n"
   ]
  },
  {
   "cell_type": "markdown",
   "metadata": {
    "deletable": false,
    "editable": false,
    "nbgrader": {
     "cell_type": "markdown",
     "checksum": "d408e9c7e2ebcc5e32d876378bff4110",
     "grade": false,
     "grade_id": "cell-6bd3aeedfe21d1bd",
     "locked": true,
     "schema_version": 3,
     "solution": false
    }
   },
   "source": [
    "### 3g) Save out the properly anonymized data to json file \n",
    "\n",
    "Save out `df_users` as a json file, called `real_anon_user_dat.json`"
   ]
  },
  {
   "cell_type": "code",
   "execution_count": null,
   "metadata": {
    "deletable": false,
    "nbgrader": {
     "cell_type": "code",
     "checksum": "2e3593036af4db67b62cf68cebbe2994",
     "grade": false,
     "grade_id": "2h",
     "locked": false,
     "schema_version": 3,
     "solution": true
    }
   },
   "outputs": [],
   "source": [
    "# YOUR CODE HERE\n",
    "raise NotImplementedError()"
   ]
  },
  {
   "cell_type": "code",
   "execution_count": null,
   "metadata": {
    "deletable": false,
    "editable": false,
    "nbgrader": {
     "cell_type": "code",
     "checksum": "4a9e25d2ceb20d07c0d08e0c38831860",
     "grade": true,
     "grade_id": "2h-tests",
     "locked": true,
     "points": 0.25,
     "schema_version": 3,
     "solution": false
    }
   },
   "outputs": [],
   "source": [
    "assert isinstance(pd.read_json('real_anon_user_dat.json'), pd.DataFrame)"
   ]
  },
  {
   "cell_type": "markdown",
   "metadata": {
    "deletable": false,
    "editable": false,
    "nbgrader": {
     "cell_type": "markdown",
     "checksum": "7f5f079ec0fc0fda0bdcb4d12cbbeb8d",
     "grade": false,
     "grade_id": "finish",
     "locked": true,
     "schema_version": 3,
     "solution": false
    }
   },
   "source": [
    "## Complete!\n",
    "\n",
    "Congrats, you're done! The users' identities are much more protected now.\n",
    "\n",
    "Have a look back over your answers, and also make sure to `Restart & Run All` from the kernel menu to double check that everything is working properly. You can also use the 'Validate' button above, which runs your notebook from top to bottom and checks to ensure all `assert` statements pass silently. When you are ready, submit on datahub!"
   ]
  }
 ],
 "metadata": {
  "kernelspec": {
   "display_name": "Python 3",
   "language": "python",
   "name": "python3"
  },
  "language_info": {
   "codemirror_mode": {
    "name": "ipython",
    "version": 3
   },
   "file_extension": ".py",
   "mimetype": "text/x-python",
   "name": "python",
   "nbconvert_exporter": "python",
   "pygments_lexer": "ipython3",
   "version": "3.7.4"
  }
 },
 "nbformat": 4,
 "nbformat_minor": 2
}
