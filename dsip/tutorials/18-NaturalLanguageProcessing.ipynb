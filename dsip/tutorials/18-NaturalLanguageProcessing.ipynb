{
 "cells": [
  {
   "cell_type": "markdown",
   "metadata": {},
   "source": [
    "# Natural Language Processing\n",
    "\n",
    "Most of the data we have encountered so far has been numerical (or at least, numerically encoded).\n",
    "\n",
    "However, one of the most powerful aspects of data science is acknowledging and considering that there are vasts amounts of data available in many other modalities, with potentially valuable information, if the data can be leveraged and analyzed. \n",
    "\n",
    "Here, we will introduce natural language processing (NLP), or the computational analysis of text."
   ]
  },
  {
   "cell_type": "markdown",
   "metadata": {},
   "source": [
    "<div class=\"alert alert-success\">\n",
    "Natural Language Processing (NLP) is the approach of analyzing text data, with computers.\n",
    "</div>\n",
    "\n",
    "<div class=\"alert alert-info\">\n",
    "Natural Language Processing on \n",
    "<a href=\"https://en.wikipedia.org/wiki/Natural-language_processing\" class=\"alert-link\">wikipedia</a>.\n",
    "</div>"
   ]
  },
  {
   "cell_type": "markdown",
   "metadata": {},
   "source": [
    "## NTLK: Natural Language Tool Kit\n",
    "\n",
    "There are many tools for analyzing text data in Python. Here, we will use one of biggest and most prominent ones: NLTK.\n",
    "\n",
    "NLTK provides interfaces to over 50 corpora and lexical resources, as well as a suite of text processing libraries for classification, tokenization, stemming, tagging, parsing, and semantic reasoning.\n",
    "\n",
    "In this notebook, we will walk through some basic text-analysis using the `NLTK` package."
   ]
  },
  {
   "cell_type": "markdown",
   "metadata": {},
   "source": [
    "<div class=\"alert alert-success\">\n",
    "The Natural Language Tool Kit, or NLTK, is a Python module for text-analysis. \n",
    "</div>\n",
    "\n",
    "<div class=\"alert alert-info\">\n",
    "The NLTK organization website is \n",
    "<a href=\"http://www.nltk.org/\" class=\"alert-link\">here</a>\n",
    "and they have a whole book of tutorials \n",
    "<a href=\"http://www.nltk.org/book/\" class=\"alert-link\">here</a>.\n",
    "</div>"
   ]
  },
  {
   "cell_type": "code",
   "execution_count": 1,
   "metadata": {},
   "outputs": [],
   "source": [
    "# Import NLTK\n",
    "import nltk"
   ]
  },
  {
   "cell_type": "code",
   "execution_count": 2,
   "metadata": {},
   "outputs": [],
   "source": [
    "# Set an example sentence of 'data' to play with\n",
    "sentence = \"UC San Diego is a great place to study cognitive science.\""
   ]
  },
  {
   "cell_type": "markdown",
   "metadata": {},
   "source": [
    "### Downloading Corpora\n",
    "\n",
    "To work with text-data, you often need corpora - text datasets to compare to. \n",
    "\n",
    "NLTK has many such datasets available, but doesn't install them by default (as the full set of them would be quite large). Below we will download some of these datasets. "
   ]
  },
  {
   "cell_type": "code",
   "execution_count": 3,
   "metadata": {},
   "outputs": [],
   "source": [
    "# If you hit an error downloading things in the cell below, come back to this cell, uncomment it, and run this code.\n",
    "#   This code gives python permission to write to your disk (if it doesn't already have persmission to do so).\n",
    "# import ssl\n",
    "\n",
    "# try:\n",
    "#     _create_unverified_https_context = ssl._create_unverified_context\n",
    "# except AttributeError:\n",
    "#     pass\n",
    "# else:\n",
    "#     ssl._create_default_https_context = _create_unverified_https_context"
   ]
  },
  {
   "cell_type": "code",
   "execution_count": 4,
   "metadata": {},
   "outputs": [
    {
     "name": "stderr",
     "output_type": "stream",
     "text": [
      "[nltk_data] Downloading package punkt to /Users/tom/nltk_data...\n",
      "[nltk_data]   Package punkt is already up-to-date!\n",
      "[nltk_data] Downloading package stopwords to /Users/tom/nltk_data...\n",
      "[nltk_data]   Package stopwords is already up-to-date!\n",
      "[nltk_data] Downloading package averaged_perceptron_tagger to\n",
      "[nltk_data]     /Users/tom/nltk_data...\n",
      "[nltk_data]   Package averaged_perceptron_tagger is already up-to-\n",
      "[nltk_data]       date!\n",
      "[nltk_data] Downloading package maxent_ne_chunker to\n",
      "[nltk_data]     /Users/tom/nltk_data...\n",
      "[nltk_data]   Package maxent_ne_chunker is already up-to-date!\n",
      "[nltk_data] Downloading package words to /Users/tom/nltk_data...\n",
      "[nltk_data]   Package words is already up-to-date!\n",
      "[nltk_data] Downloading package treebank to /Users/tom/nltk_data...\n",
      "[nltk_data]   Package treebank is already up-to-date!\n"
     ]
    },
    {
     "data": {
      "text/plain": [
       "True"
      ]
     },
     "execution_count": 4,
     "metadata": {},
     "output_type": "execute_result"
    }
   ],
   "source": [
    "# Download some useful data files from NLTK\n",
    "nltk.download('punkt')\n",
    "nltk.download('stopwords')\n",
    "nltk.download('averaged_perceptron_tagger')\n",
    "nltk.download('maxent_ne_chunker')\n",
    "nltk.download('words')\n",
    "nltk.download('treebank')"
   ]
  },
  {
   "cell_type": "markdown",
   "metadata": {},
   "source": [
    "## Tokenisation"
   ]
  },
  {
   "cell_type": "markdown",
   "metadata": {},
   "source": [
    "<div class=\"alert alert-success\">\n",
    "Tokenization is the process of splitting text data into 'tokens', which are meaningful pieces of data.\n",
    "</div>\n",
    "\n",
    "<div class=\"alert alert-info\">\n",
    "More information on tokenization\n",
    "<a href=\"https://nlp.stanford.edu/IR-book/html/htmledition/tokenization-1.html\" class=\"alert-link\">here</a>.\n",
    "</div>\n",
    "\n",
    "Tokenization can be done at different levels - you can, for example tokenize text into sentences, and/or into words. "
   ]
  },
  {
   "cell_type": "code",
   "execution_count": 5,
   "metadata": {},
   "outputs": [],
   "source": [
    "# Tokenize our sentence, at the word level\n",
    "tokens = nltk.word_tokenize(sentence)"
   ]
  },
  {
   "cell_type": "code",
   "execution_count": 6,
   "metadata": {},
   "outputs": [
    {
     "name": "stdout",
     "output_type": "stream",
     "text": [
      "['UC', 'San', 'Diego', 'is', 'a', 'great', 'place', 'to', 'study', 'cognitive', 'science', '.']\n"
     ]
    }
   ],
   "source": [
    "# Check out the word-tokenized data\n",
    "print(tokens)"
   ]
  },
  {
   "cell_type": "markdown",
   "metadata": {},
   "source": [
    "## Part-of-speech (POS) Tagging"
   ]
  },
  {
   "cell_type": "markdown",
   "metadata": {},
   "source": [
    "<div class=\"alert alert-success\">\n",
    "Part-of-Speech tagging is the process of labelling words with respect to their 'types' and relationships to other words.\n",
    "</div>\n",
    "\n",
    "<div class=\"alert alert-info\">\n",
    "Part-of-speech tagging on \n",
    "<a href=\"https://en.wikipedia.org/wiki/Part-of-speech_tagging\" class=\"alert-link\">wikipedia</a>.\n",
    "</div>"
   ]
  },
  {
   "cell_type": "code",
   "execution_count": 7,
   "metadata": {},
   "outputs": [],
   "source": [
    "# Apply part-of-speech tagging to our sentence\n",
    "tags = nltk.pos_tag(tokens)"
   ]
  },
  {
   "cell_type": "code",
   "execution_count": 8,
   "metadata": {},
   "outputs": [
    {
     "name": "stdout",
     "output_type": "stream",
     "text": [
      "[('UC', 'NNP'), ('San', 'NNP'), ('Diego', 'NNP'), ('is', 'VBZ'), ('a', 'DT'), ('great', 'JJ'), ('place', 'NN'), ('to', 'TO'), ('study', 'VB'), ('cognitive', 'JJ'), ('science', 'NN'), ('.', '.')]\n"
     ]
    }
   ],
   "source": [
    "# Check the POS tags for our data\n",
    "print(tags)"
   ]
  },
  {
   "cell_type": "code",
   "execution_count": 40,
   "metadata": {
    "scrolled": false
   },
   "outputs": [
    {
     "name": "stdout",
     "output_type": "stream",
     "text": [
      "NNP: noun, proper, singular\n",
      "    Motown Venneboerger Czestochwa Ranzer Conchita Trumplane Christos\n",
      "    Oceanside Escobar Kreisler Sawyer Cougar Yvette Ervin ODI Darryl CTCA\n",
      "    Shannon A.K.C. Meltex Liverpool ...\n",
      "DT: determiner\n",
      "    all an another any both del each either every half la many much nary\n",
      "    neither no some such that the them these this those\n",
      "JJ: adjective or numeral, ordinal\n",
      "    third ill-mannered pre-war regrettable oiled calamitous first separable\n",
      "    ectoplasmic battery-powered participatory fourth still-to-be-named\n",
      "    multilingual multi-disciplinary ...\n"
     ]
    }
   ],
   "source": [
    "# Check out the documentation for describing the abbreviations\n",
    "nltk.help.upenn_tagset(tagpattern='NNP')\n",
    "nltk.help.upenn_tagset(tagpattern='DT')\n",
    "nltk.help.upenn_tagset(tagpattern='JJ')"
   ]
  },
  {
   "cell_type": "markdown",
   "metadata": {},
   "source": [
    "## Named Entity Recognition (NER)"
   ]
  },
  {
   "cell_type": "markdown",
   "metadata": {},
   "source": [
    "<div class=\"alert alert-success\">\n",
    "Named entity recognition seeks to label words with the kinds of entities that they relate to.\n",
    "</div>\n",
    "\n",
    "<div class=\"alert alert-info\">\n",
    "Named entity recognition on \n",
    "<a href=\"https://en.wikipedia.org/wiki/Named-entity_recognition\" class=\"alert-link\">wikipedia</a>.\n",
    "</div>"
   ]
  },
  {
   "cell_type": "code",
   "execution_count": 10,
   "metadata": {},
   "outputs": [],
   "source": [
    "# Apply named entity recognition to our POS tags\n",
    "entities = nltk.chunk.ne_chunk(tags)"
   ]
  },
  {
   "cell_type": "code",
   "execution_count": 11,
   "metadata": {},
   "outputs": [
    {
     "name": "stdout",
     "output_type": "stream",
     "text": [
      "(S\n",
      "  UC/NNP\n",
      "  (PERSON San/NNP Diego/NNP)\n",
      "  is/VBZ\n",
      "  a/DT\n",
      "  great/JJ\n",
      "  place/NN\n",
      "  to/TO\n",
      "  study/VB\n",
      "  cognitive/JJ\n",
      "  science/NN\n",
      "  ./.)\n"
     ]
    }
   ],
   "source": [
    "# Check out the named entities\n",
    "print(entities)"
   ]
  },
  {
   "cell_type": "markdown",
   "metadata": {},
   "source": [
    "## Stop words"
   ]
  },
  {
   "cell_type": "markdown",
   "metadata": {},
   "source": [
    "<div class=\"alert alert-success\">\n",
    "'Stop words' are the most common words of a language, that we often want to filter out before text analysis. \n",
    "</div>\n",
    "\n",
    "<div class=\"alert alert-info\">\n",
    "Stop words on \n",
    "<a href=\"https://en.wikipedia.org/wiki/Stop_words\" class=\"alert-link\">wikipedia</a>.\n",
    "</div>"
   ]
  },
  {
   "cell_type": "code",
   "execution_count": 12,
   "metadata": {
    "scrolled": true
   },
   "outputs": [
    {
     "name": "stdout",
     "output_type": "stream",
     "text": [
      "['i', 'me', 'my', 'myself', 'we', 'our', 'ours', 'ourselves', 'you', \"you're\", \"you've\", \"you'll\", \"you'd\", 'your', 'yours', 'yourself', 'yourselves', 'he', 'him', 'his', 'himself', 'she', \"she's\", 'her', 'hers', 'herself', 'it', \"it's\", 'its', 'itself', 'they', 'them', 'their', 'theirs', 'themselves', 'what', 'which', 'who', 'whom', 'this', 'that', \"that'll\", 'these', 'those', 'am', 'is', 'are', 'was', 'were', 'be', 'been', 'being', 'have', 'has', 'had', 'having', 'do', 'does', 'did', 'doing', 'a', 'an', 'the', 'and', 'but', 'if', 'or', 'because', 'as', 'until', 'while', 'of', 'at', 'by', 'for', 'with', 'about', 'against', 'between', 'into', 'through', 'during', 'before', 'after', 'above', 'below', 'to', 'from', 'up', 'down', 'in', 'out', 'on', 'off', 'over', 'under', 'again', 'further', 'then', 'once', 'here', 'there', 'when', 'where', 'why', 'how', 'all', 'any', 'both', 'each', 'few', 'more', 'most', 'other', 'some', 'such', 'no', 'nor', 'not', 'only', 'own', 'same', 'so', 'than', 'too', 'very', 's', 't', 'can', 'will', 'just', 'don', \"don't\", 'should', \"should've\", 'now', 'd', 'll', 'm', 'o', 're', 've', 'y', 'ain', 'aren', \"aren't\", 'couldn', \"couldn't\", 'didn', \"didn't\", 'doesn', \"doesn't\", 'hadn', \"hadn't\", 'hasn', \"hasn't\", 'haven', \"haven't\", 'isn', \"isn't\", 'ma', 'mightn', \"mightn't\", 'mustn', \"mustn't\", 'needn', \"needn't\", 'shan', \"shan't\", 'shouldn', \"shouldn't\", 'wasn', \"wasn't\", 'weren', \"weren't\", 'won', \"won't\", 'wouldn', \"wouldn't\"]\n"
     ]
    }
   ],
   "source": [
    "# Check out the corpus of stop words in English\n",
    "print(nltk.corpus.stopwords.words('english'))"
   ]
  },
  {
   "cell_type": "markdown",
   "metadata": {},
   "source": [
    "## Text Encoding\n",
    "\n",
    "In order to analyze text _as_ data, we often need to encode it in some way. \n",
    "\n",
    "By encoding here, we just mean choosing a representation of the data, and for text data the goal is to choose a representation that is more amenable for computational analysis. There are many possibilities, and which approach works best depends largely on the context of the data and the analyses to be performed. Choosing how to encode text data is a key topic in NLP. \n",
    "\n",
    "Here, we will explore a couple simple encoding approaches, which in this case are basically ways to count the words and measure occurrences in text data. By measuring how often certain words occur, we can characterize the text as numerical data, and open up access to numerical analysis of the data. \n",
    "\n",
    "Some common encodings for text data are:\n",
    "- Bag of Words (BoW)\n",
    "    - Text is encoded as a collection of words & frequencies\n",
    "- Term Frequency / Inverse Document Frequency (TF/IDF)\n",
    "    - TF/IDF is a weighting that stores words with relation to their commonality across a corpus.\n",
    "\n",
    "Next we will walk through an example of encoding text as BoW and TF-IDF."
   ]
  },
  {
   "cell_type": "code",
   "execution_count": 13,
   "metadata": {},
   "outputs": [],
   "source": [
    "# Imports\n",
    "%matplotlib inline\n",
    "\n",
    "# Standard Python has some useful string tools\n",
    "import string\n",
    "\n",
    "# Collections is a part of standard Python, with some useful data objects\n",
    "from collections import Counter\n",
    "\n",
    "import numpy as np\n",
    "import matplotlib.pyplot as plt\n",
    "\n",
    "# Scikit-learn has some useful NLP tools, such as a TFIDF vectorizer\n",
    "from sklearn.feature_extraction.text import TfidfVectorizer"
   ]
  },
  {
   "cell_type": "markdown",
   "metadata": {},
   "source": [
    "### Load some Data\n",
    "\n",
    "The data we will be looking at is a small subset of the BookCorpus dataset. The original dataset can be found here: http://yknzhu.wixsite.com/mbweb.\n",
    "\n",
    "The original dataset was collected from more than 11,000 books, and has already been tokenised at both the sentence and word level. \n",
    "\n",
    "The small subset provided and used here contains the first 10,000 sentences."
   ]
  },
  {
   "cell_type": "code",
   "execution_count": 14,
   "metadata": {},
   "outputs": [],
   "source": [
    "# Load the data\n",
    "with open('files/book10k.txt', 'r') as file:\n",
    "    sents = file.readlines()"
   ]
  },
  {
   "cell_type": "code",
   "execution_count": 15,
   "metadata": {},
   "outputs": [
    {
     "name": "stdout",
     "output_type": "stream",
     "text": [
      "the half-ling book one in the fall of igneeria series kaylee soderburg copyright 2013 kaylee soderburg all rights reserved .\n",
      "\n",
      "alejo was sure the fact that he was nervously repeating mass along with five wrinkly , age-encrusted spanish women meant that stalin was rethinking whether he was going to pay the price .\n",
      "\n"
     ]
    }
   ],
   "source": [
    "# Check out the data - print out the first and last sentences, as examples\n",
    "print(sents[0])\n",
    "print(sents[-1])"
   ]
  },
  {
   "cell_type": "markdown",
   "metadata": {},
   "source": [
    "### Pre-Processing\n",
    "\n",
    "First, let's do some standard text pre-processing."
   ]
  },
  {
   "cell_type": "code",
   "execution_count": 16,
   "metadata": {},
   "outputs": [],
   "source": [
    "# Preprocessing: strip all extra whitespace from the sentences\n",
    "sents = [sent.strip() for sent in sents]"
   ]
  },
  {
   "cell_type": "markdown",
   "metadata": {},
   "source": [
    "Let's first take a look at the word frequencies in this data.\n",
    "\n",
    "To do so, we can tokenize the text, count occurences, and then we can have a look at the most frequent words in the dataset. "
   ]
  },
  {
   "cell_type": "code",
   "execution_count": 17,
   "metadata": {},
   "outputs": [],
   "source": [
    "# Tokenize all the sentences into words\n",
    "#  This collects all the word tokens together into one big list\n",
    "tokens = []\n",
    "for x in sents:\n",
    "    tokens.extend(nltk.word_tokenize(x))"
   ]
  },
  {
   "cell_type": "code",
   "execution_count": 18,
   "metadata": {},
   "outputs": [
    {
     "name": "stdout",
     "output_type": "stream",
     "text": [
      "Number of words in the data: \t 140094\n",
      "Number of unique words: \t 8221\n"
     ]
    }
   ],
   "source": [
    "# Check out how many words are in the data\n",
    "print('Number of words in the data: \\t', len(tokens))\n",
    "print('Number of unique words: \\t', len(set(tokens)))"
   ]
  },
  {
   "cell_type": "markdown",
   "metadata": {},
   "source": [
    "### Bag-of-Words\n",
    "\n",
    "Next, let's try a 'bag-of-words' representation of the data. \n",
    "\n",
    "After tokenization, a 'bag-of-words' can be computed by counting how often each token occurs, which we can do with the `Counter` object. \n",
    "\n",
    "<div class=\"alert alert-success\">\n",
    "A 'bag of words' model, of representation, is way to represent text data by counting occurences of tokens.\n",
    "</div>\n",
    "\n",
    "<div class=\"alert alert-info\">\n",
    "Bag of words on \n",
    "<a href=https://en.wikipedia.org/wiki/Bag-of-words_model class=\"alert-link\">wikipedia</a>.\n",
    "</div>"
   ]
  },
  {
   "cell_type": "code",
   "execution_count": 19,
   "metadata": {},
   "outputs": [],
   "source": [
    "# Use the 'counter' object to count how many times each word appears\n",
    "counts = Counter(tokens)"
   ]
  },
  {
   "cell_type": "markdown",
   "metadata": {},
   "source": [
    "Now, we can explore the counter object, which is basically a 'bag-of-words' representation of the data. \n",
    "\n",
    "Note that in this encoding we have lost word order and grammar. All we have is a collection of words. \n",
    "\n",
    "This representation is quite different from how humans interact with language, but can be useful for some analyses. \n",
    "\n",
    "What we do have is a list of all the words present, and how often they appear. Basically, we have turned the text into a _distribution_ and we can try and analyze this distribution to try and programmatically analyze the text. "
   ]
  },
  {
   "cell_type": "code",
   "execution_count": 20,
   "metadata": {},
   "outputs": [
    {
     "data": {
      "text/plain": [
       "[('.', 8601),\n",
       " (',', 6675),\n",
       " ('the', 6062),\n",
       " ('and', 3382),\n",
       " ('to', 3328),\n",
       " ('``', 2852),\n",
       " ('i', 2747),\n",
       " ('a', 2480),\n",
       " ('of', 2122),\n",
       " ('was', 1752),\n",
       " ('he', 1678),\n",
       " ('in', 1616),\n",
       " ('you', 1483),\n",
       " ('her', 1353),\n",
       " ('his', 1349),\n",
       " ('?', 1153),\n",
       " ('she', 1153),\n",
       " ('that', 1134),\n",
       " ('it', 1050),\n",
       " (\"'s\", 1023),\n",
       " ('had', 898),\n",
       " ('with', 894),\n",
       " ('alejo', 890),\n",
       " ('wara', 875),\n",
       " ('at', 818)]"
      ]
     },
     "execution_count": 20,
     "metadata": {},
     "output_type": "execute_result"
    }
   ],
   "source": [
    "# Check out the counts object, printing out some of the most common tokens\n",
    "counts.most_common(25)"
   ]
  },
  {
   "cell_type": "markdown",
   "metadata": {},
   "source": [
    "One thing you might notice if you scroll through the word list above is that it still contains punctuation. Let's remove those."
   ]
  },
  {
   "cell_type": "code",
   "execution_count": 21,
   "metadata": {},
   "outputs": [
    {
     "name": "stdout",
     "output_type": "stream",
     "text": [
      "!\"#$%&'()*+,-./:;<=>?@[\\]^_`{|}~\n"
     ]
    }
   ],
   "source": [
    "# The 'string' module (standard library) has a useful list of punctuation\n",
    "print(string.punctuation)"
   ]
  },
  {
   "cell_type": "code",
   "execution_count": 22,
   "metadata": {},
   "outputs": [],
   "source": [
    "# Drop all punction markers from the counts object\n",
    "for punc in string.punctuation:\n",
    "    if punc in counts:\n",
    "        counts.pop(punc)"
   ]
  },
  {
   "cell_type": "code",
   "execution_count": 23,
   "metadata": {},
   "outputs": [],
   "source": [
    "# Get the top 10 most frequent words\n",
    "top10 = counts.most_common(10)"
   ]
  },
  {
   "cell_type": "code",
   "execution_count": 24,
   "metadata": {},
   "outputs": [],
   "source": [
    "# Extract the top words, and counts\n",
    "top10_words = [it[0] for it in top10]\n",
    "top10_counts = [it[1] for it in top10]"
   ]
  },
  {
   "cell_type": "code",
   "execution_count": 25,
   "metadata": {},
   "outputs": [
    {
     "data": {
      "image/png": "[encoded data removed]",
      "text/plain": [
       "<Figure size 432x288 with 1 Axes>"
      ]
     },
     "metadata": {
      "needs_background": "light"
     },
     "output_type": "display_data"
    }
   ],
   "source": [
    "# Plot a barplot of the most frequent words in the text\n",
    "plt.barh(top10_words, top10_counts)\n",
    "plt.title('Term Frequency');\n",
    "plt.xlabel('Frequency');"
   ]
  },
  {
   "cell_type": "markdown",
   "metadata": {},
   "source": [
    "As we can see, 'the', 'was', 'a', etc. appear a lot in the document. \n",
    "\n",
    "However, these frequently appearing words aren't particularly useful for figuring out what these documents are about.\n",
    "\n",
    "They do not really help us to understand this text data. \n",
    "\n",
    "These words are all 'stop words', so let's drop them from the dataset. "
   ]
  },
  {
   "cell_type": "code",
   "execution_count": 26,
   "metadata": {},
   "outputs": [],
   "source": [
    "# Drop all stop words\n",
    "for stop in nltk.corpus.stopwords.words('english'):\n",
    "    if stop in counts:\n",
    "        counts.pop(stop)"
   ]
  },
  {
   "cell_type": "code",
   "execution_count": 27,
   "metadata": {},
   "outputs": [],
   "source": [
    "# Get the top 20 most frequent words, of the stopword-removed data\n",
    "top20 = counts.most_common(20)"
   ]
  },
  {
   "cell_type": "code",
   "execution_count": 28,
   "metadata": {},
   "outputs": [
    {
     "data": {
      "image/png": "[encoded data removed]",
      "text/plain": [
       "<Figure size 432x288 with 1 Axes>"
      ]
     },
     "metadata": {
      "needs_background": "light"
     },
     "output_type": "display_data"
    }
   ],
   "source": [
    "# Plot a barplot of the most frequent words in the text\n",
    "plt.barh([it[0] for it in top20], [it[1] for it in top20])\n",
    "plt.title('Term Frequency');\n",
    "plt.xlabel('Frequency');"
   ]
  },
  {
   "cell_type": "markdown",
   "metadata": {},
   "source": [
    "This looks potentially more relevant / useful! \n",
    "\n",
    "As a distribution of meaningful word, bag-of-word representations can be used to analyze text data in various ways.\n",
    "\n",
    "If you are interested in further analysis of this data, look through the `nltk` tutorials for further analyses."
   ]
  },
  {
   "cell_type": "markdown",
   "metadata": {},
   "source": [
    "### Term Frequency - Inverse Document Frequency (TF-IDF)\n",
    "\n",
    "Finally, let's look at another approach for encoding text data - term frequency / inverse document frequency.\n",
    "\n",
    "Note that TF-IDF is a similar kind of word counting to bag-of-words. \n",
    "\n",
    "First, let's consider a difficulty with bag-of-words encodings, which is it's difficult to interpret the word counts. For example, knowing a word occurs 10 times isn't itself really enough information to understand something about the document the word come from. If that document is 100 words long, that word seems like it must be quite important. But if the document is 10,000 words long, then this word seems less important. \n",
    "\n",
    "TF-IDF tries to address this, and does so by scaling the counts of words by the typical occurrence. \n",
    "\n",
    "- The term-frequency is the count of the term in the document, which is the same as in the bag-of-words. \n",
    "\n",
    "- The inverse-document-frequency is a measurement of how commonly the term occurs across a corpus. \n",
    "  - Since it's calculated as an inverse, a higher IDF score is a rarer word. \n",
    "\n",
    "The TF-IDF score is calculated by multiplying the TF by the IDF. One way to think of this is that it normalizes, or scales, term occurrences in a document by a population measure of the occurrence of the term. \n",
    "\n",
    "This allows for a representation of the text data which indicates if terms in the document of interest occur more or less frequently than expected (given a corpus). A high TF-IDF score could occur, for example, due to a relatively large number of occurrences of a typically rare term. This may be an interesting and useful feature to describe the text.\n",
    "\n",
    "Here, we will briefly examine applying TF/IDF to text data. Note that in this case, we are using an object from `sklearn` that can be used to compute the TF/IDF. \n",
    "\n",
    "<div class=\"alert alert-success\">\n",
    "Term Frequency - Inverse Document Frequency is representation of text data that scales term occurrences by corpus statistics.\n",
    "</div>\n",
    "\n",
    "<div class=\"alert alert-info\">\n",
    "TF-IDF on \n",
    "<a https://en.wikipedia.org/wiki/Tf%E2%80%93idf class=\"alert-link\">wikipedia</a>.\n",
    "</div>"
   ]
  },
  {
   "cell_type": "code",
   "execution_count": 29,
   "metadata": {},
   "outputs": [],
   "source": [
    "# Initialize a TFIDF object, applying some settings\n",
    "tfidf = TfidfVectorizer(analyzer='word',\n",
    "                        sublinear_tf=True,\n",
    "                        max_features=5000,\n",
    "                        tokenizer=nltk.word_tokenize)"
   ]
  },
  {
   "cell_type": "markdown",
   "metadata": {},
   "source": [
    "The TfidfVectorizer will calculate the inverse document frequency (IDF) for each word across our corpus of words. \n",
    "\n",
    "The TFIDF for each term, for a particular document, can then be calculated as TF * IDF.  "
   ]
  },
  {
   "cell_type": "code",
   "execution_count": 30,
   "metadata": {},
   "outputs": [],
   "source": [
    "# Learn the TFIDF representation of our data\n",
    "#   Note that this takes the raw sentences, tokenizes them, and learns the TF/IDF representation\n",
    "tdidf = tfidf.fit(sents)"
   ]
  },
  {
   "cell_type": "markdown",
   "metadata": {},
   "source": [
    "Before we apply this representation to our data, let's explore what the data object and calculated scores. \n",
    "\n",
    "If you explore the tfidf object you'll see it includes attributes:\n",
    "- `vocabulary_`, which maps the terms to their indices\n",
    "- `idf_`, which has the IDF values for each term. \n",
    "\n",
    "Let's now plot out the IDF for each of the top 10 most frequently appeared words (from the first analysis). "
   ]
  },
  {
   "cell_type": "code",
   "execution_count": 31,
   "metadata": {},
   "outputs": [],
   "source": [
    "# Get the IDF weights for the top 10 most common words\n",
    "IDF_weights = [tfidf.idf_[tfidf.vocabulary_[token]] for token in top10_words]"
   ]
  },
  {
   "cell_type": "code",
   "execution_count": 32,
   "metadata": {},
   "outputs": [
    {
     "data": {
      "image/png": "[encoded data removed]",
      "text/plain": [
       "<Figure size 432x288 with 1 Axes>"
      ]
     },
     "metadata": {
      "needs_background": "light"
     },
     "output_type": "display_data"
    }
   ],
   "source": [
    "# Plot the IDF scores for the very common words\n",
    "plt.barh(top10_words, IDF_weights)\n",
    "plt.title('Inverse Document Frequency');\n",
    "plt.xlabel('IDF Score');"
   ]
  },
  {
   "cell_type": "markdown",
   "metadata": {},
   "source": [
    "We compare the plot with the following plot that shows the words with top 10 highest IDF."
   ]
  },
  {
   "cell_type": "code",
   "execution_count": 33,
   "metadata": {},
   "outputs": [],
   "source": [
    "# Get the terms with the highest IDF score\n",
    "inds = np.argsort(tfidf.idf_)[::-1][:10]\n",
    "top_IDF_tokens = [list(tfidf.vocabulary_)[ind] for ind in inds]\n",
    "top_IDF_scores = tfidf.idf_[inds]"
   ]
  },
  {
   "cell_type": "code",
   "execution_count": 34,
   "metadata": {},
   "outputs": [
    {
     "data": {
      "image/png": "[encoded data removed]",
      "text/plain": [
       "<Figure size 432x288 with 1 Axes>"
      ]
     },
     "metadata": {
      "needs_background": "light"
     },
     "output_type": "display_data"
    }
   ],
   "source": [
    "# Plot the terms with the highest IDF score\n",
    "plt.barh(top_IDF_tokens, top_IDF_scores)\n",
    "plt.title('Inverse Document Frequency');\n",
    "plt.xlabel('IDF Score');"
   ]
  },
  {
   "cell_type": "markdown",
   "metadata": {},
   "source": [
    "As we can see, comparing across the two plots, the frequently appearing words have much lower values for their IDF scores, as compared to much rarer words. This is basically by definition, for the IDF score. \n",
    "\n",
    "What this means for TF-IDF is that the weighting helps account for which words in a document are specific to that document. Because the TF and IDF values are multiplied, rare terms get a higher TF-IDF score, per occurrence, than common words, which helps to compare across terms and documents. Ultimately, this allows us to represent a document by distribution of terms that are most unique to the particular document, as compared to the average across the corpus. "
   ]
  },
  {
   "cell_type": "markdown",
   "metadata": {},
   "source": [
    "#### Applying TF-IDF\n",
    "\n",
    "Now that we have learned the frequencies, we can apply this representation to our data. \n",
    "\n",
    "In the next line, we will apply the TF-IDF representation to our data, and convert this to an array. \n",
    "\n",
    "This array is an `n_documents` x `n_terms` matrix that encodes the documents in a TFIDF representation.\n",
    "\n",
    "Note that in our TFIDF object above we set the number of features to use as 5000, which is the number of terms. "
   ]
  },
  {
   "cell_type": "code",
   "execution_count": 35,
   "metadata": {},
   "outputs": [],
   "source": [
    "# Apply TF/IDF representation to our data\n",
    "tfidf_books = tdidf.transform(sents).toarray()"
   ]
  },
  {
   "cell_type": "code",
   "execution_count": 36,
   "metadata": {},
   "outputs": [
    {
     "name": "stdout",
     "output_type": "stream",
     "text": [
      "Number of documents: \t\t 10000\n",
      "Number of terms: \t\t 5000\n",
      "TFIDF representation shape: \t (10000, 5000)\n"
     ]
    }
   ],
   "source": [
    "print(\"Number of documents: \\t\\t\", len(sents))\n",
    "print(\"Number of terms: \\t\\t\", len(tfidf.vocabulary_))\n",
    "print(\"TFIDF representation shape: \\t\", tfidf_books.shape)"
   ]
  },
  {
   "cell_type": "markdown",
   "metadata": {},
   "source": [
    "In the TFIDF array, each row stores a representation of the document based on the TF-IDF score of our 5000 terms. \n",
    "\n",
    "This is a new representation of our text data, a numerical one, that we could now use for analysis and comparison of text data. "
   ]
  },
  {
   "cell_type": "markdown",
   "metadata": {},
   "source": [
    "## Conclusion\n",
    "\n",
    "Text analysis and NLP is itself a huge field, and an area in which one can take whole classes or research programs. \n",
    "\n",
    "Here, we have introduced some of the core idea related to NLP. For more information on these topics, look into NLP focused resources and classes."
   ]
  }
 ],
 "metadata": {
  "kernelspec": {
   "display_name": "Python 3",
   "language": "python",
   "name": "python3"
  },
  "language_info": {
   "codemirror_mode": {
    "name": "ipython",
    "version": 3
   },
   "file_extension": ".py",
   "mimetype": "text/x-python",
   "name": "python",
   "nbconvert_exporter": "python",
   "pygments_lexer": "ipython3",
   "version": "3.7.4"
  }
 },
 "nbformat": 4,
 "nbformat_minor": 2
}
