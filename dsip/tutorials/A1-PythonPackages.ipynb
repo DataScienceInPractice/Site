{
 "cells": [
  {
   "cell_type": "markdown",
   "metadata": {},
   "source": [
    "# Appendix: Python Packages\n",
    "\n",
    "<div class=\"alert alert-success\">\n",
    "The following is general overview of packages available in Python that may be useful for data science.\n",
    "</div>\n",
    "\n",
    "<div class=\"alert alert-info\">\n",
    "For a much broader / fuller list of the Python ecosystem, check out the \n",
    "<a href=\"https://github.com/vinta/awesome-python\" class=\"alert-link\">Awesome Python</a> list. \n",
    "</div>"
   ]
  },
  {
   "cell_type": "markdown",
   "metadata": {},
   "source": [
    "## Data-Science Modules\n",
    "\n",
    "These are all external (non-standard library) packages. Many of them are available in the Ananconda distribution. \n",
    "\n",
    "### Core Packages\n",
    "\n",
    "- [scipy](https://www.scipy.org) - mathematics, science, and engineering.\n",
    "- [numpy](http://www.numpy.org) - numerical computing with arrays & array operations.\n",
    "- [pandas](https://pandas.pydata.org) - data structures and data analysis.\n",
    "- [scikit-learn](http://scikit-learn.org/stable/) - machine learning and data analysis.\n",
    "    \n",
    "### Text Mining\n",
    "\n",
    "- [nltk](http://www.nltk.org) - natural language processing.\n",
    "- [gensim](https://radimrehurek.com/gensim/) - topic modelling.\n",
    "\n",
    "### Mathematics & Statistics\n",
    "\n",
    "- [sympy](http://www.sympy.org/en/index.html) - symbolic mathematics.\n",
    "- [statsmodels](http://www.statsmodels.org/stable/index.html) - statistical modelling.\n",
    "\n",
    "### Web Scraping\n",
    "\n",
    "- [requests](https://requests.readthedocs.io/) - HTTP requests.\n",
    "- [scrapy](https://scrapy.org) - web scraping.\n",
    "    \n",
    "### Plotting / Vizualization Libraries\n",
    "\n",
    "- [matplotlib](https://matplotlib.org) - 2D plotting library.\n",
    "- [seaborn](https://seaborn.pydata.org/) - visualization (based on matplotlib).\n",
    "- [bokeh](http://bokeh.pydata.org/en/latest/) - interactive visualizations.\n",
    "    \n",
    "### Graph Theory / Networks\n",
    "\n",
    "- [networkx](https://networkx.github.io/) - network analysis.\n",
    "- [graph-tool](https://graph-tool.skewed.de/) - manipulation and analysis of graphs.\n",
    "    \n",
    "### Deep Learning\n",
    "\n",
    "- [theano](http://deeplearning.net/software/theano/) - mathematical operations on multi-dimensional arrays.\n",
    "- [tensorflow](https://www.tensorflow.org/) - numerical computation using data flow graphs.\n",
    "- [keras](https://keras.io) - a high-level neural network library."
   ]
  },
  {
   "cell_type": "markdown",
   "metadata": {},
   "source": [
    "## Useful parts of the standard library\n",
    "\n",
    "The full list of packages in the standard library is available [here](https://docs.python.org/3/library/index.html)."
   ]
  },
  {
   "cell_type": "markdown",
   "metadata": {},
   "source": [
    "### Basic Utilities\n",
    "\n",
    "- [os](https://docs.python.org/3/library/os.html) - miscellaneous operating system operations.\n",
    "- [sys](https://docs.python.org/3/library/sys.html) - system operations.\n",
    "- [datetime](https://docs.python.org/3/library/datetime.html) - manipulating dates & times.\n",
    "- [glob](https://docs.python.org/3/library/glob.html) - searching path names.\n",
    "\n",
    "### Useful Functions\n",
    "\n",
    "- [math](https://docs.python.org/3/library/math.html) - mathematical functions.\n",
    "- [random](https://docs.python.org/3/library/random.html) - (pseudo) random number generators.\n",
    "- [re](https://docs.python.org/3/library/re.html) - regular expressions.\n",
    "\n",
    "### File Formats\n",
    "\n",
    "- [json](https://docs.python.org/3/library/json.html) - support for working with JSON files.\n",
    "- [csv](https://docs.python.org/3/library/csv.html) - support for working with CSV files.\n",
    "\n",
    "### Data Objects\n",
    "\n",
    "- [collections](https://docs.python.org/3/library/collections.html) - container data types.\n",
    "- [pickle](https://docs.python.org/3/library/pickle.html) - serializing & de-serializing (saving and loading complex objects)."
   ]
  }
 ],
 "metadata": {
  "anaconda-cloud": {},
  "kernelspec": {
   "display_name": "Python 3",
   "language": "python",
   "name": "python3"
  },
  "language_info": {
   "codemirror_mode": {
    "name": "ipython",
    "version": 3
   },
   "file_extension": ".py",
   "mimetype": "text/x-python",
   "name": "python",
   "nbconvert_exporter": "python",
   "pygments_lexer": "ipython3",
   "version": "3.7.4"
  }
 },
 "nbformat": 4,
 "nbformat_minor": 1
}
