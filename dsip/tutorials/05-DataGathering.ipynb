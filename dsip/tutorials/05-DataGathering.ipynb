{
 "cells": [
  {
   "cell_type": "markdown",
   "metadata": {},
   "source": [
    "# Data Gathering"
   ]
  },
  {
   "cell_type": "markdown",
   "metadata": {},
   "source": [
    "<div class=\"alert alert-success\">\n",
    "Data Gathering is the process of accessing data and collecting it together.\n",
    "</div>"
   ]
  },
  {
   "cell_type": "markdown",
   "metadata": {},
   "source": [
    "This notebook covers strategies for finding and gathering data.\n",
    "\n",
    "If you want to start by working on data analyses (with provided data) you can move onto the next tutorials, and come back to this one later.\n",
    "\n",
    "Data gathering can encompass many different strategies, including data collection, web scraping, accessing data from databases, and downloading data in bulk. Sometimes it even includes things like calling someone to ask if you can use some of their data, and asking them to send it over. "
   ]
  },
  {
   "cell_type": "markdown",
   "metadata": {},
   "source": [
    "## Where to get Data\n",
    "\n",
    "There are lots of way to get data, and lots of places to get it from. Typically, most of this data will be accessed through the internet, in one way or another, especially when pursuing indepent research projects. \n",
    "\n",
    "### Institutional Access\n",
    "\n",
    "If you are working with data as part of an institution, such as a company of research lab, the institution will typically have data it needs analyzing, that it collects in various ways. Keep in mind that even people working inside institutions, with access to local data, will data still seek to find and incorporate external datasets. \n",
    "\n",
    "### Data Repositories\n",
    "\n",
    "**Data repositories** are databases from which you can download data. Some data repositories allow you to explore available datasets and download datasets in bulk. Others may also offer **APIs**, through which you can request specific data from particular databases.\n",
    "\n",
    "### Web Scraping\n",
    "\n",
    "The web itself is full of unstructured data. **Web scraping** can be done to directly extract and collect data directly from websites.\n",
    "\n",
    "### Asking People for Data\n",
    "\n",
    "Not all data is indexed or accessible on the web, at least not publicly. Sometimes finding data means figuring out if any data is available, figuring out where it might be, and then reaching out and asking people directly about data access. If there is some particular data you need, you can try to figure out who might have it, and get in touch to see if it might be available."
   ]
  },
  {
   "cell_type": "markdown",
   "metadata": {},
   "source": [
    "### Data Gathering Skills\n",
    "\n",
    "Depending on your gathering method, you will likely have to do some combination of the following:\n",
    "\n",
    "- Direct download data files from repositories\n",
    "- Query databases & use APIs to extract and collect data of interest\n",
    "- Ask people for data, and going to pick up data with a harddrive\n",
    "\n",
    "Ultimately, the goal is collect and curate data files, hopefully structured, that you can read into Python."
   ]
  },
  {
   "cell_type": "markdown",
   "metadata": {},
   "source": [
    "## Definitions: Databases & Query Languages\n",
    "\n",
    "Here, we will introduce some useful definitions you will likely encounter when exploring how to gather data. \n",
    "\n",
    "Other than these definitions, we will not cover databases & query languages more in these tutorials. "
   ]
  },
  {
   "cell_type": "markdown",
   "metadata": {},
   "source": [
    "<div class=\"alert alert-success\">\n",
    "A database is an organized collection of data. More formally, 'database' refers to a set of related data, and the way it is organized. \n",
    "</div>"
   ]
  },
  {
   "cell_type": "markdown",
   "metadata": {},
   "source": [
    "<div class=\"alert alert-success\">\n",
    "A query language is a language for operating with databases, such as retrieving, and sometimes modifying, information from databases.\n",
    "</div>"
   ]
  },
  {
   "cell_type": "markdown",
   "metadata": {},
   "source": [
    "<div class=\"alert alert-success\">\n",
    "SQL (pronounced 'sequel') is a common query language used to interact with databases, and request data.\n",
    "</div>\n",
    "\n",
    "<div class=\"alert alert-info\">\n",
    "If you are interested, there is a useful introduction and tutorial to SQL\n",
    "<a href=\"http://www.sqlcourse.com/intro.html\" class=\"alert-link\">here</a>\n",
    "as well as some useful 'cheat sheets' \n",
    "<a href=\"http://www.cheat-sheets.org/sites/sql.su/\" class=\"alert-link\">here</a>\n",
    "and\n",
    "<a href=\"http://www.sqltutorial.org/wp-content/uploads/2016/04/SQL-cheat-sheet.pdf\" class=\"alert-link\">here</a>.\n",
    "</div>"
   ]
  },
  {
   "cell_type": "markdown",
   "metadata": {},
   "source": [
    "## Data Repositories"
   ]
  },
  {
   "cell_type": "markdown",
   "metadata": {},
   "source": [
    "<div class=\"alert alert-success\">\n",
    "A Data Repository is basically just a place that data is stored. For our purposes, it is a place you can download data from. \n",
    "</div>\n",
    "\n",
    "<div class=\"alert alert-info\">\n",
    "There is a curated list of good data source included in the \n",
    "<a href=\"https://github.com/COGS108/Projects\" class=\"alert-link\">project materials</a>.\n",
    "</div>"
   ]
  },
  {
   "cell_type": "markdown",
   "metadata": {},
   "source": [
    "For our purposes, data repositories are places you can download data directly from, for example [data.gov](https://www.data.gov/)."
   ]
  },
  {
   "cell_type": "markdown",
   "metadata": {},
   "source": [
    "## Application Program Interfaces (APIs)"
   ]
  },
  {
   "cell_type": "markdown",
   "metadata": {},
   "source": [
    "<div class=\"alert alert-success\">\n",
    "APIs are basically a way for software to talk to software - it is an interface into an application / website / database designed for software.\n",
    "</div>\n",
    "\n",
    "<div class=\"alert alert-info\">\n",
    "For a simple explanation of APIs go\n",
    "<a href=\"https://medium.freecodecamp.com/what-is-an-api-in-english-please-b880a3214a82\" class=\"alert-link\">here</a>\n",
    "or for a much broader, more technical, overview try\n",
    "<a href=\"https://medium.com/@mattburgess/apis-a-basic-primer-f8250602597d\" class=\"alert-link\">here</a>.\n",
    "</div>\n",
    "\n",
    "<div class=\"alert alert-info\">\n",
    "This\n",
    "<a href=\"http://www.webopedia.com/TERM/A/API.html\" class=\"alert-link\">list</a>\n",
    "includes a collection of commonly used and available APIs. \n",
    "</div>"
   ]
  },
  {
   "cell_type": "markdown",
   "metadata": {},
   "source": [
    "APIs offer a lot of functionality - you can send requests to the application to do all kinds of actions. In fact, any application interface that is designed to be used programmatically is an API, including, for example, interfaces for using packages of code. \n",
    "\n",
    "One of the many things that APIs do, and offer, is a way to query and access data from particular applications / databases. For example, there is a an API for Google maps that allows for programmatically querying the latitude & longitude positions of given addresses. \n",
    "\n",
    "The benefit of using APIs for data gathering purposes is that they typically return data in nicely structured formats, that are relatively easy to analyze."
   ]
  },
  {
   "cell_type": "markdown",
   "metadata": {},
   "source": [
    "### Launching URL Requests from Python\n",
    "\n",
    "In order to use APIs, and for other approaches to collecting data, it may be useful to launch URL requests from Python.\n",
    "\n",
    "Note that by `URL`, we just mean a file or application that can be reached by a web address. Python can be used to organize and launch URL requests, triggering actions and collecting any returned data. \n",
    "\n",
    "In practice, APIs are usually special URLs that return raw data, such as `json` or `XML` files. This is compared to URLs we are typically more used to that return web pages as `html`, which can be rendered for human viewers (html). The key difference is that APIs return structured data files, where as `html` files are typically unstructured (more on that later, with web scraping). \n",
    "\n",
    "If you with to use an API, try and find the documentation for to see how you send requests to access whatever data you want. \n",
    "\n",
    "#### API Example\n",
    "\n",
    "For our example here, we will use the Github API. Note that the URL we use is `api.github.com`. This URL accesses the API, and will return structured data files, instead of the html that would be returned by the standard URL (github.com)."
   ]
  },
  {
   "cell_type": "code",
   "execution_count": 10,
   "metadata": {},
   "outputs": [],
   "source": [
    "import pandas as pd\n",
    "\n",
    "# We will use the `requests` library to launch URL requests from Python\n",
    "import requests"
   ]
  },
  {
   "cell_type": "code",
   "execution_count": 11,
   "metadata": {},
   "outputs": [],
   "source": [
    "# Request data from the Github API on a particular user\n",
    "page = requests.get('https://api.github.com/users/tomdonoghue')"
   ]
  },
  {
   "cell_type": "code",
   "execution_count": 12,
   "metadata": {},
   "outputs": [
    {
     "data": {
      "text/plain": [
       "b'{\"login\":\"TomDonoghue\",\"id\":7727566,\"node_id\":\"MDQ6VXNlcjc3Mjc1NjY=\",\"avatar_url\":\"https://avatars0.githubusercontent.com/u/7727566?v=4\",\"gravatar_id\":\"\",\"url\":\"https://api.github.com/users/TomDonoghue\",\"html_url\":\"https://github.com/TomDonoghue\",\"followers_url\":\"https://api.github.com/users/TomDonoghue/followers\",\"following_url\":\"https://api.github.com/users/TomDonoghue/following{/other_user}\",\"gists_url\":\"https://api.github.com/users/TomDonoghue/gists{/gist_id}\",\"starred_url\":\"https://api.github.com/users/TomDonoghue/starred{/owner}{/repo}\",\"subscriptions_url\":\"https://api.github.com/users/TomDonoghue/subscriptions\",\"organizations_url\":\"https://api.github.com/users/TomDonoghue/orgs\",\"repos_url\":\"https://api.github.com/users/TomDonoghue/repos\",\"events_url\":\"https://api.github.com/users/TomDonoghue/events{/privacy}\",\"received_events_url\":\"https://api.github.com/users/TomDonoghue/received_events\",\"type\":\"User\",\"site_admin\":false,\"name\":\"Tom\",\"company\":\"UC San Diego\",\"blog\":\"https://tomdonoghue.github.io\",\"location\":\"San Diego\",\"email\":null,\"hireable\":null,\"bio\":\"Cognitive Science Grad Student @ UC San Diego working on analyzing electrical brain activity. Also teaching Python & Data Science. \\\\r\\\\n\\\\r\\\\n\",\"twitter_username\":null,\"public_repos\":13,\"public_gists\":0,\"followers\":97,\"following\":83,\"created_at\":\"2014-05-28T20:20:48Z\",\"updated_at\":\"2020-06-19T21:35:12Z\"}'"
      ]
     },
     "execution_count": 12,
     "metadata": {},
     "output_type": "execute_result"
    }
   ],
   "source": [
    "# In this case, the content we get back is a json file\n",
    "page.content"
   ]
  },
  {
   "cell_type": "code",
   "execution_count": 13,
   "metadata": {},
   "outputs": [
    {
     "data": {
      "text/plain": [
       "login                                                        TomDonoghue\n",
       "id                                                               7727566\n",
       "node_id                                             MDQ6VXNlcjc3Mjc1NjY=\n",
       "avatar_url             https://avatars0.githubusercontent.com/u/77275...\n",
       "gravatar_id                                                             \n",
       "url                             https://api.github.com/users/TomDonoghue\n",
       "html_url                                  https://github.com/TomDonoghue\n",
       "followers_url          https://api.github.com/users/TomDonoghue/follo...\n",
       "following_url          https://api.github.com/users/TomDonoghue/follo...\n",
       "gists_url              https://api.github.com/users/TomDonoghue/gists...\n",
       "starred_url            https://api.github.com/users/TomDonoghue/starr...\n",
       "subscriptions_url      https://api.github.com/users/TomDonoghue/subsc...\n",
       "organizations_url          https://api.github.com/users/TomDonoghue/orgs\n",
       "repos_url                 https://api.github.com/users/TomDonoghue/repos\n",
       "events_url             https://api.github.com/users/TomDonoghue/event...\n",
       "received_events_url    https://api.github.com/users/TomDonoghue/recei...\n",
       "type                                                                User\n",
       "site_admin                                                         False\n",
       "name                                                                 Tom\n",
       "company                                                     UC San Diego\n",
       "blog                                       https://tomdonoghue.github.io\n",
       "location                                                       San Diego\n",
       "email                                                               None\n",
       "hireable                                                            None\n",
       "bio                    Cognitive Science Grad Student @ UC San Diego ...\n",
       "twitter_username                                                    None\n",
       "public_repos                                                          13\n",
       "public_gists                                                           0\n",
       "followers                                                             97\n",
       "following                                                             83\n",
       "created_at                                          2014-05-28T20:20:48Z\n",
       "updated_at                                          2020-06-19T21:35:12Z\n",
       "dtype: object"
      ]
     },
     "execution_count": 13,
     "metadata": {},
     "output_type": "execute_result"
    }
   ],
   "source": [
    "# We can read in the json data with pandas\n",
    "pd.read_json(page.content, typ='series')"
   ]
  },
  {
   "cell_type": "markdown",
   "metadata": {},
   "source": [
    "As we can see above, in a couple lines of code, we can collect a lot of structured data about a particular user.\n",
    "\n",
    "If we wanted to do analyses of Github profiles and activity, we could use the Github API to collect information about a group of users, and then analyze and compare the collected data. "
   ]
  },
  {
   "cell_type": "markdown",
   "metadata": {
    "collapsed": true
   },
   "source": [
    "## Web Scraping"
   ]
  },
  {
   "cell_type": "markdown",
   "metadata": {},
   "source": [
    "<div class=\"alert alert-success\">\n",
    "Web scraping is when you (programmatically) extract data from websites.\n",
    "</div>\n",
    "\n",
    "<div class=\"alert alert-info\">\n",
    "<a href=\"https://en.wikipedia.org/wiki/Web_scraping\" class=\"alert-link\">Wikipedia</a>\n",
    "has a useful page on web scraping.\n",
    "</div>"
   ]
  },
  {
   "cell_type": "markdown",
   "metadata": {},
   "source": [
    "By web scraping, we typically mean something distinct from using the internet to access an API. Rather, web scraping refers to using code to systematically navigate the internet, and extract information of internet, from html or other available files. Note that in this case one is not interacting directly with a database, but simply exploring and collecting whatever is available on web pages.\n",
    "\n",
    "Note that the following section uses the 'BeautifulSoup' module, which is not part of the standard anaconda distribution. \n",
    "\n",
    "If you do not have BeautifulSoup, and want to get it to run this section, you can uncomment the cell below, and run it, to install BeautifulSoup in your current Python environment. You only have to do this once."
   ]
  },
  {
   "cell_type": "code",
   "execution_count": 5,
   "metadata": {
    "collapsed": true
   },
   "outputs": [],
   "source": [
    "#import sys\n",
    "#!conda install --yes --prefix {sys.prefix} beautifulsoup4"
   ]
  },
  {
   "cell_type": "code",
   "execution_count": 6,
   "metadata": {
    "collapsed": true
   },
   "outputs": [],
   "source": [
    "# Import BeautifulSoup\n",
    "from bs4 import BeautifulSoup"
   ]
  },
  {
   "cell_type": "code",
   "execution_count": 7,
   "metadata": {
    "collapsed": true
   },
   "outputs": [],
   "source": [
    "# Set the URL for the page we wish to scrape\n",
    "site_url = 'https://en.wikipedia.org/wiki/Data_science'\n",
    "\n",
    "# Launch the URL request, to get the page\n",
    "page = requests.get(site_url)"
   ]
  },
  {
   "cell_type": "code",
   "execution_count": 8,
   "metadata": {},
   "outputs": [
    {
     "data": {
      "text/plain": [
       "b'<!DOCTYPE html>\\n<html class=\"client-nojs\" lang=\"en\" dir=\"ltr\">\\n<head>\\n<meta charset=\"UTF-8\"/>\\n<title>Data science - Wikipedia</title>\\n<script>document.documentElement.className = document.documentElement.className.replace( /(^|\\\\s)client-nojs(\\\\s|$)/, \"$1client-js$2\" );</script>\\n<script>(window.RLQ=window.RLQ||[]).push(function(){mw.config.set({\"wgCanonicalNamespace\":\"\",\"wgCanonicalSpecialPageName\":false,\"wgNamespaceNumber\":0,\"wgPageName\":\"Data_science\",\"wgTitle\":\"Data science\",\"wgCurRevisionId\":822535327,\"wgRevisionId\":822535327,\"wgArticleId\":35458904,\"wgIsArticle\":true,\"wgIsRedirect\":false,\"wgAction\":\"view\",\"wgUserName\":null,\"wgUserGroups\":[\"*\"],\"wgCategories\":[\"Use dmy dates from December 2012\",\"Information science\",\"Computer occupations\",\"Computational fields of study\",\"Data analysis\"],\"wgBreakFrames\":false,\"wgPageContentLanguage\":\"en\",\"wgPageContentModel\":\"wikitext\",\"wgSeparatorTransformTable\":[\"\",\"\"],\"wgDigitTransformTable\":[\"\",\"\"],\"wgDefaultDateFormat\":\"dmy\",\"wgMonthNames\":[\"\",\"Ja'"
      ]
     },
     "execution_count": 8,
     "metadata": {},
     "output_type": "execute_result"
    }
   ],
   "source": [
    "# Print out the first 1000 characters of the scraped web page\n",
    "page.content[0:1000]"
   ]
  },
  {
   "cell_type": "markdown",
   "metadata": {},
   "source": [
    "Note that the source of the scraped web-page is a messy pile of HTML. \n",
    "\n",
    "There is a lot of information in there, but with no clear organization. There is some structure in the page though, delineated by HTML tags, etc, we just need to use them to parse out the data. We can do that with BeautifulSoup, which takes in messy documents like this, and parses them based on a specified format. "
   ]
  },
  {
   "cell_type": "code",
   "execution_count": 9,
   "metadata": {
    "collapsed": true
   },
   "outputs": [],
   "source": [
    "# Parse the webpage with Beautiful Soup, using a html parser\n",
    "soup = BeautifulSoup(page.content, 'html.parser')"
   ]
  },
  {
   "cell_type": "code",
   "execution_count": 10,
   "metadata": {
    "scrolled": false
   },
   "outputs": [
    {
     "name": "stdout",
     "output_type": "stream",
     "text": [
      "TITLE: \n",
      "\n",
      "<title>Data science - Wikipedia</title>\n",
      "\n",
      "P-TAG:\n",
      "\n",
      "<p><b>Data science</b>, also known as <b>data-driven science</b>, is an interdisciplinary field of scientific methods, processes, and systems to extract <a href=\"/wiki/Knowledge\" title=\"Knowledge\">knowledge</a> or insights from <a href=\"/wiki/Data\" title=\"Data\">data</a> in various forms, either structured or unstructured,<sup class=\"reference\" id=\"cite_ref-:0_1-0\"><a href=\"#cite_note-:0-1\">[1]</a></sup><sup class=\"reference\" id=\"cite_ref-2\"><a href=\"#cite_note-2\">[2]</a></sup> similar to <a href=\"/wiki/Data_mining\" title=\"Data mining\">data mining</a>.</p>\n"
     ]
    }
   ],
   "source": [
    "# With the parsed soup object, we can select particular segments of the web page\n",
    "\n",
    "# Print out the page title\n",
    "print('TITLE: \\n')\n",
    "print(soup.title)\n",
    "\n",
    "# Print out the first p-tag\n",
    "print('\\nP-TAG:\\n')\n",
    "print(soup.find('p'))"
   ]
  },
  {
   "cell_type": "markdown",
   "metadata": {},
   "source": [
    "From the soup object, you can explore the page in a more organized way, and start to extract particular components of interest.\n",
    "\n",
    "Note that it is still 'messy' in other ways, in that there might or might not be a systematic structure to how the page is laid out, and it still might take a lot of work to extract the particular information you want from it."
   ]
  },
  {
   "cell_type": "markdown",
   "metadata": {},
   "source": [
    "### APIs vs. Web Scraping\n",
    "\n",
    "Web scraping is distinct from using an API, even though many APIs may be accessed over the internet. Web scraping is different in that you are (programmatically) navigating through the internet, and extracting data of interest. \n",
    "\n",
    "Note:\n",
    "Be aware that scraping data from websites (without using APIs) can often be an involved project itself. Web scraping itself can take a considerable amount of time and work to get the data you want. \n",
    "\n",
    "Be aware that data presented on websites may not be well structured, and may not be in an organized format that lends itself to easy collection and analysis.\n",
    "\n",
    "If you try scraping websites, you should also check to make sure you are allowed to scrape the data, and follow the websites terms of service. "
   ]
  }
 ],
 "metadata": {
  "anaconda-cloud": {},
  "kernelspec": {
   "display_name": "Python 3",
   "language": "python",
   "name": "python3"
  },
  "language_info": {
   "codemirror_mode": {
    "name": "ipython",
    "version": 3
   },
   "file_extension": ".py",
   "mimetype": "text/x-python",
   "name": "python",
   "nbconvert_exporter": "python",
   "pygments_lexer": "ipython3",
   "version": "3.7.4"
  }
 },
 "nbformat": 4,
 "nbformat_minor": 1
}
