{
 "cells": [
  {
   "cell_type": "markdown",
   "metadata": {},
   "source": [
    "# Appendix: Version Control\n",
    "\n",
    "This notebook explores version control, and using git & Github."
   ]
  },
  {
   "cell_type": "markdown",
   "metadata": {},
   "source": [
    "<div class=\"alert alert-success\">\n",
    "Version Control reflects a set of practices related to managing files, in particular managing different versions of files. \n",
    "</div>\n",
    "\n",
    "<div class=\"alert alert-info\">\n",
    "You can read more about version control on\n",
    "<a href=\"https://en.wikipedia.org/wiki/Version_control\" class=\"alert-link\">Wikipedia</a>\n",
    " or on the \n",
    "<a href=\"https://git-scm.com/book/en/v2/Getting-Started-About-Version-Control\" class=\"alert-link\">git docs</a>.\n",
    "</div>"
   ]
  },
  {
   "cell_type": "markdown",
   "metadata": {},
   "source": [
    "<br>\n",
    "<br>\n",
    "<img src=\"https://raw.githubusercontent.com/COGS108/Tutorials/master/img/git.png\" width=\"300px\" class=\"center\">\n",
    "<br>\n",
    "<br>"
   ]
  },
  {
   "cell_type": "markdown",
   "metadata": {},
   "source": [
    "<div class=\"alert alert-success\">\n",
    "Git is a version control system: a tool to track changes in files, across multiple locations. \n",
    "</div>\n",
    "\n",
    "<div class=\"alert alert-info\">\n",
    "Information for using git is available in the \n",
    "<a href=https://git-scm.com/doc class=\"alert-link\">official documentation</a>, \n",
    "as well as in many external resources, collected in \n",
    "<a href=https://github.com/openlists/GitResources class=\"alert-link\">this list</a>.\n",
    "</div>"
   ]
  },
  {
   "cell_type": "markdown",
   "metadata": {},
   "source": [
    "<br>\n",
    "<br>\n",
    "<img src=\"https://raw.githubusercontent.com/COGS108/Tutorials/master/img/github.png\" width=\"300px\" class=\"center\">\n",
    "<br>\n",
    "<br>"
   ]
  },
  {
   "cell_type": "markdown",
   "metadata": {},
   "source": [
    "<div class=\"alert alert-success\">\n",
    "Github is company that offers version control services, using git.\n",
    "    \n",
    "Github is a hosting service, with git built in, or basically, a place on the internet to put code that is tracked with git. \n",
    "</div>\n",
    "\n",
    "<div class=\"alert alert-info\">\n",
    "Click through to \n",
    "<a href=\"https://github.com/\" class=\"alert-link\">Github</a>.\n",
    "</div>"
   ]
  },
  {
   "cell_type": "markdown",
   "metadata": {},
   "source": [
    "## Using Git"
   ]
  },
  {
   "cell_type": "markdown",
   "metadata": {},
   "source": [
    "There are several ways to use git, including:\n",
    "- from the command line, typing in commands directly\n",
    "- using a graphical program to launch git commands\n",
    "    - This kind of program is referred to as a 'graphical user interface' (GUI).\n",
    "        - It basically just means you can click buttons to do things, rather than writing out commands\n",
    "        \n",
    "Either way the underlying commands, and code that gets executed, are the same. Behind the scenes, it all reduces to the same thing. \n",
    "\n",
    "You should use whichever approach you are most comfortable with. If you already know some command line programming, using git from command line can be useful, as generally slightly more functionality is available to you, with more specific control. Using a GUI is much more straight forward if you are not very familiar with the command line."
   ]
  },
  {
   "cell_type": "markdown",
   "metadata": {},
   "source": [
    "### Git Graphical User Interfaces (GUIs)"
   ]
  },
  {
   "cell_type": "markdown",
   "metadata": {},
   "source": [
    "<br>\n",
    "<br>\n",
    "<img src=\"https://raw.githubusercontent.com/COGS108/Tutorials/master/img/sourcetree.png\" width=\"500px\" class=\"center\">\n",
    "<br>\n",
    "<br>"
   ]
  },
  {
   "cell_type": "markdown",
   "metadata": {},
   "source": [
    "If you plan to use a GUI, one option is SourceTree. \n",
    "\n",
    "<div class=\"alert alert-info\">\n",
    "See the Source Tree\n",
    "<a href=\"https://confluence.atlassian.com/get-started-with-sourcetree\" class=\"alert-link\">documentation</a>.\n",
    "</div>"
   ]
  },
  {
   "cell_type": "markdown",
   "metadata": {},
   "source": [
    "## Git repositories\n",
    "\n",
    "A repository is simply a collection of files, like a folder on a computer. \n",
    "\n",
    "What git is mainly doing is keeping two (or more) versions of the same repository consistent."
   ]
  },
  {
   "cell_type": "markdown",
   "metadata": {},
   "source": [
    "### Local vs. Remote\n",
    "\n",
    "Given a repository with multiple copies (or versions), we can refer to these copies:\n",
    "\n",
    "- the 'local' copy, which is a copy of the repository on your computer (the one 'local' to you)\n",
    "- the 'remote' copy, which is a copy of the repository somewhere else, such as on Github\n",
    "\n",
    "There is often a particular copy of the code that is referred to as the 'master', which just means it is the master version of the repository in question. Most typically, this is the copy of the code on Github - so there is one 'master' copy of the code on Github, and one or more people also have local copies of the code, with local updates. When local updates want to be shared, they can be sent to master, to update the main version of the code, for everyone.\n",
    "\n",
    "Here we will consider the case of having two copies of the repository. What is described here can all be extended to multiple copies of the code, including multiple different remote copies of the repository.\n",
    "\n",
    "The main function of git, as a version control system, is to automatically check all of the files in each copy of the repository, tracking any changes that happen. It then provides tools to synchronize between different copies when there are changes."
   ]
  },
  {
   "cell_type": "markdown",
   "metadata": {},
   "source": [
    "## Getting Code from Github\n",
    "\n",
    "As a starting point, it if often the case that there is code available on Github, and you want to get a local copy. This allows you to access the code, to use, and potentially update it. Then, if you want, you can contribute your code updates back to the main version of the code up on Github. \n",
    "\n",
    "First, you need to get a local copy of the code. Git calls making a copy of a repository 'cloning'.\n",
    "\n",
    "From command line, to clone a Github repository to your computer, use the clone command with the URL to the repository.\n",
    "- $ ``git clone 'repo_url'``\n",
    "    - For example, you can clone these materials with:\n",
    "        - ``git clone https://github.com/COGS108/Tutorials``"
   ]
  },
  {
   "cell_type": "markdown",
   "metadata": {},
   "source": [
    "## Tracking & Propagating Changes\n",
    "\n",
    "Once you have a local copy, connected to a remote repository, changes can go in two directions:\n",
    "\n",
    "- sending changes you make locally to the remote\n",
    "    - this is called a `push`\n",
    "- updating your local copy with changes from the remote\n",
    "    - this is called a `pull`"
   ]
  },
  {
   "cell_type": "markdown",
   "metadata": {},
   "source": [
    "### Tracking and Sending Changes from local -> remote\n",
    "\n",
    "When working on local files, git has hierarchical 'levels' of how it is tracking files (or, of what it is paying attention to). These multiple levels are useful to organize groups of changes into well organized actions.\n",
    "\n",
    "The repository can have many files in it, within which there are:\n",
    "- tracked files\n",
    "    - these are files that git is tracking\n",
    "    - any files that are not tracked by git are untracked, and won't be version controlled\n",
    "- staged files\n",
    "    - these are tracked files that have been indicated to be added to an update of the code\n",
    "    - staging allows for specifying which files to save updates to, and how to group files\n",
    "\n",
    "The typical workflow is:\n",
    "- ``add``: select which changes, on which files, you would like git to add to staging area\n",
    "    - You can add multiple files together, each with their own changes\n",
    "    - If a file is untracked, this adds it to tracking\n",
    "- ``commit``: make a checkpoint, saving all files that have been added together\n",
    "    - These changes will be 'saved' together with a message (a commit log) about what the changes are\n",
    "- ``push``: send the changes to the remote\n",
    "    - These changes will now be available in the remote copy of the repository"
   ]
  },
  {
   "cell_type": "markdown",
   "metadata": {},
   "source": [
    "#### Example Workflow\n",
    "\n",
    "First, in a local git repository, you make some changes to a file, or perhaps many files. \n",
    "\n",
    "You can now add files. This needs to be done for each file you changed, that we want to add to staging:\n",
    "- $ ``git add 'f_name'``\n",
    "\n",
    "After you've added one or more files, you use a commit to save the status of these files:\n",
    "- $ ``git commit -m 'Commit message'``\n",
    "\n",
    "The '-m' flag is an option to write your commit message directly with the command. If you don't add it, git will send you into a text editor for you to write a commit message there. You should always add an informative message about what you have changed / added.\n",
    "\n",
    "Making small, incremental changes and commiting often, with detailed messages means that your Github log can serve as a history for your project. This is useful as a way to use version control to keep track of a projects history. This also allows you to step back to an older version of the code if everything suddenly breaks.\n",
    "\n",
    "A committed change is still only stored in your local copy. To update the remote repostory, you have to push:\n",
    "- $ ``git push``\n",
    "\n",
    "You do not have to push after each commit, you can push many commits at once. \n",
    "\n",
    "Once you have pushed, you should see your updates have been added to the remote repository, on Github."
   ]
  },
  {
   "cell_type": "markdown",
   "metadata": {},
   "source": [
    "### Getting Changes from remote -> local\n",
    "\n",
    "Git refers to updating a local copy with changes from a remote copy as 'pulling'\n",
    "\n",
    "On command line, if there are changes on the remote branch, use the 'git pull' to copy those changes to your local: copy.\n",
    "\n",
    "- $ ``git pull``"
   ]
  },
  {
   "cell_type": "markdown",
   "metadata": {},
   "source": [
    "## Git Cheatsheet\n",
    "\n",
    "The most common git functions are:\n",
    "\n",
    "- ``git status``\n",
    "    - Check the status of a git repository\n",
    "- ``git add 'file'``\n",
    "    - Add a file to staging area\n",
    "- ``git commit -m 'message'``\n",
    "    - Log a 'save point' of all changes in the staging area.\n",
    "- ``git push``\n",
    "    - Copy commits to remote\n",
    "- ``git diff 'file'``\n",
    "    - Check what has changed in file since last commit\n",
    "- ``git clone 'repo'``\n",
    "    - Create a local copy of a git repository\n",
    "- ``git pull``\n",
    "    - Update your local copy of a git repository from the remote\n",
    "- ``git log``\n",
    "    - Check the log of git commits"
   ]
  },
  {
   "cell_type": "markdown",
   "metadata": {},
   "source": [
    "## Advanced Git: Branching & Merging\n",
    "\n",
    "Git has many other functionalities, including [branching](https://git-scm.com/book/en/v1/Git-Branching/) and [merging](https://git-scm.com/docs/git-merge), that are worth exploring as you get used to using git, and work on larger projects."
   ]
  },
  {
   "cell_type": "markdown",
   "metadata": {},
   "source": [
    "## External Resources and Tutorials"
   ]
  },
  {
   "cell_type": "markdown",
   "metadata": {},
   "source": [
    "<div class=\"alert alert-info\">\n",
    "There are many tutorials for working with Github, including an \n",
    "<a href=\"https://try.github.io/levels/1/challenges/1\" class=\"alert-link\">interactive tutorial</a>, \n",
    "and\n",
    "<a href=\"https://guides.github.com/activities/hello-world/\" class=\"alert-link\">Hello World</a>,\n",
    "made by Github, and many other guides and tutorials, for example those available from\n",
    "<a href=\"http://lifehacker.com/5983680/how-the-heck-do-i-use-github\" class=\"alert-link\">LifeHacker</a>, \n",
    "<a href=\"https://www.atlassian.com/git/tutorials\" class=\"alert-link\">Atlassian</a>, and\n",
    "<a href=\"http://neuroplausible.com/github\" class=\"alert-link\">Neuroplausible</a>.\n",
    "For a list of many resources, see\n",
    "<a href=https://github.com/openlists/GitResources class=\"alert-link\">this list</a>.\n",
    "</div>"
   ]
  }
 ],
 "metadata": {
  "kernelspec": {
   "display_name": "Python 3",
   "language": "python",
   "name": "python3"
  },
  "language_info": {
   "codemirror_mode": {
    "name": "ipython",
    "version": 3
   },
   "file_extension": ".py",
   "mimetype": "text/x-python",
   "name": "python",
   "nbconvert_exporter": "python",
   "pygments_lexer": "ipython3",
   "version": "3.7.4"
  }
 },
 "nbformat": 4,
 "nbformat_minor": 2
}
