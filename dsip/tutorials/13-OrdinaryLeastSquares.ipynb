{
 "cells": [
  {
   "cell_type": "markdown",
   "metadata": {},
   "source": [
    "# Ordinary Least Squares\n",
    "\n",
    "If you recall, in an early notebook, we introduced the notion of fitting a line, or a linear model, to some data. We can then use the definition of that line to predict new data points. However, what we didn't dig into at that point was how we learn and evaluate our linear model, and how to learn the best model.\n",
    "\n",
    "To do so, we need a way to measure how good our model is, or an error measurement, that we can use to evaluate our model. Together with a procedure to update models, we can try and learn models that minimize error - that is to say, models that best fit the data. \n",
    "\n",
    "Ordinary least squares is on such approach for learning and evaluating models. OLS seeks to minimize the sum squared errors. Squared errors are calculated as the square of the difference between the model prediction of a data point, and the data point itself. One way to think about this is as an error function - OLS defines how we will calculate the error of a model, given the data. The model with the lowest error, defined in terms of OLS, is the best model. When we talk about fitting a model with OLS, we mean finding the solution that has the lowest OLS error - the lowest value for the sum of squared errors."
   ]
  },
  {
   "cell_type": "markdown",
   "metadata": {},
   "source": [
    "<div class=\"alert alert-success\">\n",
    "Ordinary least squares (OLS) means minimizing the error of the sum of squares between the predictions made by the model, and the observed data. \n",
    "</div>\n",
    "\n",
    "<div class=\"alert alert-info\">\n",
    "Find more information on OLS on\n",
    "<a href=\"https://en.wikipedia.org/wiki/Ordinary_least_squares\" class=\"alert-link\">wikipedia</a>\n",
    "check out this cool \n",
    "<a href=\"http://setosa.io/ev/ordinary-least-squares-regression/\" class=\"alert-link\">interactive tool</a>\n",
    "and/or check out this \n",
    "<a href=\"https://www.datarobot.com/blog/ordinary-least-squares-in-python/\" class=\"alert-link\">tutorial</a>\n",
    "about doing OLS in Python.\n",
    "</div>"
   ]
  },
  {
   "cell_type": "markdown",
   "metadata": {},
   "source": [
    "For this example, we will create a minimal dataset, and explore fitting a simple linear model fit to it, using OLS.\n",
    "\n",
    "In this case, we will be using `numpy` for measuring least squares. Note that for real datasets, this is unlikely to be how you apply models, since it will usually be more practical to use `scikit-learn` or `statsmodels` to manage all the components of model fitting full datasets, but the underlying math is all the same. "
   ]
  },
  {
   "cell_type": "code",
   "execution_count": 62,
   "metadata": {},
   "outputs": [],
   "source": [
    "%matplotlib inline\n",
    "\n",
    "import numpy as np\n",
    "import matplotlib.pyplot as plt"
   ]
  },
  {
   "cell_type": "markdown",
   "metadata": {},
   "source": [
    "### Simulate Data"
   ]
  },
  {
   "cell_type": "code",
   "execution_count": 49,
   "metadata": {},
   "outputs": [],
   "source": [
    "# Create some data\n",
    "# x is an evenly space array of integers\n",
    "x = np.arange(0, 6)\n",
    "\n",
    "# y is some data with underlying relationship y = (theta) * x\n",
    "#  For this example, the true relation of the data is y = 2x\n",
    "true_rel = 2\n",
    "y = true_rel * x\n",
    "\n",
    "# Add some noise to the y dimension\n",
    "noise = np.random.normal(0, 1, len(x))\n",
    "y = y + noise"
   ]
  },
  {
   "cell_type": "code",
   "execution_count": 50,
   "metadata": {},
   "outputs": [
    {
     "data": {
      "image/png": "[encoded data removed]",
      "text/plain": [
       "<Figure size 432x288 with 1 Axes>"
      ]
     },
     "metadata": {
      "needs_background": "light"
     },
     "output_type": "display_data"
    }
   ],
   "source": [
    "# Plot the data\n",
    "plt.plot(x, y, '.', ms=12);"
   ]
  },
  {
   "cell_type": "markdown",
   "metadata": {},
   "source": [
    "Observing the data above, we can see that there is some relation between the x and y dimension. \n",
    "\n",
    "We would like to measure what that relation is. That's where OLS comes in. \n",
    "\n",
    "OLS is a procedure to find the model (in this case, line) that minimizes the squared distances between each observed data point and the model prediction. "
   ]
  },
  {
   "cell_type": "code",
   "execution_count": 51,
   "metadata": {},
   "outputs": [],
   "source": [
    "# Reshape that data to play nice with numpy\n",
    "x = np.reshape(x, [len(x), 1])\n",
    "y = np.reshape(y, [len(y), 1])"
   ]
  },
  {
   "cell_type": "markdown",
   "metadata": {},
   "source": [
    "### Fit an OLS Model"
   ]
  },
  {
   "cell_type": "markdown",
   "metadata": {},
   "source": [
    "Numpy provides us with a function to calculuate the OLS solution. In this case, we are fitting the model:\n",
    "\n",
    "$$y = \\theta x $$\n",
    "\n",
    "Note that we are not fitting an intercept here (no 'b' value, if you think of 'y = ax + b'). \n",
    "\n",
    "In this simple model, we are therefore implicitly assuming an intercept value of zero. \n",
    "\n",
    "You can fit intercepts (and linear models with more parameters) with OLS, you just need to add them in. "
   ]
  },
  {
   "cell_type": "code",
   "execution_count": 77,
   "metadata": {},
   "outputs": [],
   "source": [
    "# Fit the (Ordinary) Least Squares best fit line using numpy\n",
    "#   This gives us a fit value (theta), and residuals (how much error we have in this fit)\n",
    "theta, residuals, _, _ = np.linalg.lstsq(x, y, rcond=None)\n",
    "\n",
    "# Pull out theta value from array\n",
    "theta = theta[0][0]"
   ]
  },
  {
   "cell_type": "code",
   "execution_count": 78,
   "metadata": {},
   "outputs": [
    {
     "name": "stdout",
     "output_type": "stream",
     "text": [
      "Estimated theta value is: 2.1194\n"
     ]
    }
   ],
   "source": [
    "# Check what the OLS derived solution for theta is:\n",
    "print('Estimated theta value is: {:1.4f}'.format(theta))"
   ]
  },
  {
   "cell_type": "code",
   "execution_count": 79,
   "metadata": {},
   "outputs": [
    {
     "name": "stdout",
     "output_type": "stream",
     "text": [
      "The true relationship between y & x is: \t2.0000\n",
      "OLS calculated relationship between y & x is: \t2.1194\n"
     ]
    }
   ],
   "source": [
    "# Check how good our OLS solution is\n",
    "print('The true relationship between y & x is: \\t{:1.4f}'.format(true_rel))\n",
    "print('OLS calculated relationship between y & x is: \\t{:1.4f}'.format(theta))"
   ]
  },
  {
   "cell_type": "markdown",
   "metadata": {},
   "source": [
    "This looks good! The absolute error between the true value, and our estimate is quite small!"
   ]
  },
  {
   "cell_type": "code",
   "execution_count": 80,
   "metadata": {},
   "outputs": [
    {
     "name": "stdout",
     "output_type": "stream",
     "text": [
      "The residuals for the model fit are: \t3.2984\n"
     ]
    }
   ],
   "source": [
    "# Check what the residuals are. Residuals are the error of the model fit\n",
    "print('The residuals for the model fit are: \\t{:1.4f}'.format(residuals[0]))"
   ]
  },
  {
   "cell_type": "code",
   "execution_count": 81,
   "metadata": {},
   "outputs": [
    {
     "data": {
      "image/png": "[encoded data removed]",
      "text/plain": [
       "<Figure size 432x288 with 1 Axes>"
      ]
     },
     "metadata": {
      "needs_background": "light"
     },
     "output_type": "display_data"
    }
   ],
   "source": [
    "# Plot the raw data, with the true underlying relationship, and the OLS fit\n",
    "fig, ax = plt.subplots(1)\n",
    "ax.plot(x, y, 'x', markersize=10, label='Data')\n",
    "ax.plot(x, 2*x, '--b', alpha=0.4, label='OLS Model Fit')\n",
    "ax.plot(x, theta*x, label='True Relationship')\n",
    "ax.legend();"
   ]
  },
  {
   "cell_type": "markdown",
   "metadata": {},
   "source": [
    "### Predict New Data"
   ]
  },
  {
   "cell_type": "code",
   "execution_count": 82,
   "metadata": {},
   "outputs": [
    {
     "name": "stdout",
     "output_type": "stream",
     "text": [
      "The prediction for a new x of 2.5 is 5.299\n"
     ]
    }
   ],
   "source": [
    "# With our model, we can predict the value of a new 'x' datapoint\n",
    "new_x = 2.5\n",
    "pred_y = theta * new_x\n",
    "print('The prediction for a new x of {} is {:1.3f}'.format(new_x, pred_y))"
   ]
  },
  {
   "cell_type": "code",
   "execution_count": 83,
   "metadata": {},
   "outputs": [
    {
     "data": {
      "image/png": "[encoded data removed]",
      "text/plain": [
       "<Figure size 432x288 with 1 Axes>"
      ]
     },
     "execution_count": 83,
     "metadata": {},
     "output_type": "execute_result"
    }
   ],
   "source": [
    "ax.plot(new_x, pred_y, 'or')\n",
    "fig"
   ]
  },
  {
   "cell_type": "markdown",
   "metadata": {},
   "source": [
    "### Recalculate Model Error\n",
    "\n",
    "We can use the same procedure as we just used to predict new point to predict the models predictions of the data point we know, and compare these \n",
    "\n",
    "Note that this is the same as what the fitting procedure does, and, as well see, this should lead to calculating the same error as the model returned to us. "
   ]
  },
  {
   "cell_type": "code",
   "execution_count": 94,
   "metadata": {},
   "outputs": [],
   "source": [
    "# Calculate model predictions for our observed data points\n",
    "preds = theta * x"
   ]
  },
  {
   "cell_type": "markdown",
   "metadata": {},
   "source": [
    "The residuals, as returned by the OLS fit, are the just the sum of squares between the model fit and the observed data points. "
   ]
  },
  {
   "cell_type": "code",
   "execution_count": 95,
   "metadata": {},
   "outputs": [],
   "source": [
    "# Re-calculate the residuals 'by hand'\n",
    "error = np.sum(np.subtract(preds, y) ** 2)"
   ]
  },
  {
   "cell_type": "code",
   "execution_count": 96,
   "metadata": {},
   "outputs": [
    {
     "name": "stdout",
     "output_type": "stream",
     "text": [
      "Error, returned by the model \t\t: 3.2984\n",
      "Error, as recalculated residuals \t: 3.2984\n"
     ]
    }
   ],
   "source": [
    "# Check that our residuals calculation matches the scipy implementation\n",
    "print('Error, returned by the model \\t\\t: {:1.4f}'.format(residuals[0]))\n",
    "print('Error, as recalculated residuals \\t: {:1.4f}'.format(error))"
   ]
  },
  {
   "cell_type": "markdown",
   "metadata": {},
   "source": [
    "<div class=\"alert alert-success\">\n",
    "Note: In practice, you won't use numpy for OLS. Other modules, like statsmodels, have implementations of OLS more explicitly for linear modelling. </div>\n",
    "\n",
    "<div class=\"alert alert-info\">\n",
    "See the 'LinearModels' notebook and/or \n",
    "<a href=\"http://www.statsmodels.org/dev/generated/statsmodels.regression.linear_model.OLS.html\" class=\"alert-link\">OLS in StatsModels</a>.\n",
    "</div>"
   ]
  }
 ],
 "metadata": {
  "kernelspec": {
   "display_name": "Python 3",
   "language": "python",
   "name": "python3"
  },
  "language_info": {
   "codemirror_mode": {
    "name": "ipython",
    "version": 3
   },
   "file_extension": ".py",
   "mimetype": "text/x-python",
   "name": "python",
   "nbconvert_exporter": "python",
   "pygments_lexer": "ipython3",
   "version": "3.7.4"
  }
 },
 "nbformat": 4,
 "nbformat_minor": 2
}
